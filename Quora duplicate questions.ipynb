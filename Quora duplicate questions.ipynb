{
 "cells": [
  {
   "cell_type": "markdown",
   "metadata": {},
   "source": [
    "# Importing and inspecting the data"
   ]
  },
  {
   "cell_type": "markdown",
   "metadata": {},
   "source": [
    "We will start by importing the dataset"
   ]
  },
  {
   "cell_type": "code",
   "execution_count": 7,
   "metadata": {
    "collapsed": false
   },
   "outputs": [
    {
     "data": {
      "text/plain": [
       "0    63.08\n",
       "1    36.92\n",
       "Name: is_duplicate, dtype: float64"
      ]
     },
     "execution_count": 7,
     "metadata": {},
     "output_type": "execute_result"
    }
   ],
   "source": [
    "import pandas as pd\n",
    "import numpy as np\n",
    "# Set environment\n",
    "pd.set_option('max_colwidth', 100)\n",
    "pd.set_option('precision', 3)\n",
    "# Read data\n",
    "df_o=pd.read_csv('./data/train.csv',dtype={'question1':str,'question2':str},index_col='id')\n",
    "\n",
    "df_o['is_duplicate'].value_counts(normalize=True)*100"
   ]
  },
  {
   "cell_type": "code",
   "execution_count": 8,
   "metadata": {
    "collapsed": false
   },
   "outputs": [
    {
     "data": {
      "text/plain": [
       "(404290, 5)"
      ]
     },
     "execution_count": 8,
     "metadata": {},
     "output_type": "execute_result"
    }
   ],
   "source": [
    "df_o.shape"
   ]
  },
  {
   "cell_type": "code",
   "execution_count": 4,
   "metadata": {
    "collapsed": false,
    "scrolled": true
   },
   "outputs": [
    {
     "data": {
      "text/plain": [
       "qid1             int64\n",
       "qid2             int64\n",
       "question1       object\n",
       "question2       object\n",
       "is_duplicate     int64\n",
       "dtype: object"
      ]
     },
     "execution_count": 4,
     "metadata": {},
     "output_type": "execute_result"
    }
   ],
   "source": [
    "df_o.dtypes"
   ]
  },
  {
   "cell_type": "code",
   "execution_count": 166,
   "metadata": {
    "collapsed": true
   },
   "outputs": [],
   "source": [
    "df_o.drop_duplicates(inplace=True)\n",
    "df_o.dropna(how='any',inplace=True)"
   ]
  },
  {
   "cell_type": "code",
   "execution_count": 167,
   "metadata": {
    "collapsed": true
   },
   "outputs": [],
   "source": [
    "df_o['question1']=df_o['question1'].astype('str')\n",
    "df_o['question2']=df_o['question2'].astype('str')"
   ]
  },
  {
   "cell_type": "code",
   "execution_count": 9,
   "metadata": {
    "collapsed": false
   },
   "outputs": [
    {
     "data": {
      "text/html": [
       "<div>\n",
       "<table border=\"1\" class=\"dataframe\">\n",
       "  <thead>\n",
       "    <tr style=\"text-align: right;\">\n",
       "      <th></th>\n",
       "      <th>qid1</th>\n",
       "      <th>qid2</th>\n",
       "      <th>question1</th>\n",
       "      <th>question2</th>\n",
       "      <th>is_duplicate</th>\n",
       "    </tr>\n",
       "    <tr>\n",
       "      <th>id</th>\n",
       "      <th></th>\n",
       "      <th></th>\n",
       "      <th></th>\n",
       "      <th></th>\n",
       "      <th></th>\n",
       "    </tr>\n",
       "  </thead>\n",
       "  <tbody>\n",
       "    <tr>\n",
       "      <th>0</th>\n",
       "      <td>1</td>\n",
       "      <td>2</td>\n",
       "      <td>What is the step by step guide to invest in share market in india?</td>\n",
       "      <td>What is the step by step guide to invest in share market?</td>\n",
       "      <td>0</td>\n",
       "    </tr>\n",
       "    <tr>\n",
       "      <th>1</th>\n",
       "      <td>3</td>\n",
       "      <td>4</td>\n",
       "      <td>What is the story of Kohinoor (Koh-i-Noor) Diamond?</td>\n",
       "      <td>What would happen if the Indian government stole the Kohinoor (Koh-i-Noor) diamond back?</td>\n",
       "      <td>0</td>\n",
       "    </tr>\n",
       "    <tr>\n",
       "      <th>2</th>\n",
       "      <td>5</td>\n",
       "      <td>6</td>\n",
       "      <td>How can I increase the speed of my internet connection while using a VPN?</td>\n",
       "      <td>How can Internet speed be increased by hacking through DNS?</td>\n",
       "      <td>0</td>\n",
       "    </tr>\n",
       "    <tr>\n",
       "      <th>3</th>\n",
       "      <td>7</td>\n",
       "      <td>8</td>\n",
       "      <td>Why am I mentally very lonely? How can I solve it?</td>\n",
       "      <td>Find the remainder when [math]23^{24}[/math] is divided by 24,23?</td>\n",
       "      <td>0</td>\n",
       "    </tr>\n",
       "    <tr>\n",
       "      <th>4</th>\n",
       "      <td>9</td>\n",
       "      <td>10</td>\n",
       "      <td>Which one dissolve in water quikly sugar, salt, methane and carbon di oxide?</td>\n",
       "      <td>Which fish would survive in salt water?</td>\n",
       "      <td>0</td>\n",
       "    </tr>\n",
       "  </tbody>\n",
       "</table>\n",
       "</div>"
      ],
      "text/plain": [
       "    qid1  qid2  \\\n",
       "id               \n",
       "0      1     2   \n",
       "1      3     4   \n",
       "2      5     6   \n",
       "3      7     8   \n",
       "4      9    10   \n",
       "\n",
       "                                                                       question1  \\\n",
       "id                                                                                 \n",
       "0             What is the step by step guide to invest in share market in india?   \n",
       "1                            What is the story of Kohinoor (Koh-i-Noor) Diamond?   \n",
       "2      How can I increase the speed of my internet connection while using a VPN?   \n",
       "3                             Why am I mentally very lonely? How can I solve it?   \n",
       "4   Which one dissolve in water quikly sugar, salt, methane and carbon di oxide?   \n",
       "\n",
       "                                                                                   question2  \\\n",
       "id                                                                                             \n",
       "0                                  What is the step by step guide to invest in share market?   \n",
       "1   What would happen if the Indian government stole the Kohinoor (Koh-i-Noor) diamond back?   \n",
       "2                                How can Internet speed be increased by hacking through DNS?   \n",
       "3                          Find the remainder when [math]23^{24}[/math] is divided by 24,23?   \n",
       "4                                                    Which fish would survive in salt water?   \n",
       "\n",
       "    is_duplicate  \n",
       "id                \n",
       "0              0  \n",
       "1              0  \n",
       "2              0  \n",
       "3              0  \n",
       "4              0  "
      ]
     },
     "execution_count": 9,
     "metadata": {},
     "output_type": "execute_result"
    }
   ],
   "source": [
    "df_o.head()"
   ]
  },
  {
   "cell_type": "markdown",
   "metadata": {},
   "source": [
    "## Split data"
   ]
  },
  {
   "cell_type": "code",
   "execution_count": 168,
   "metadata": {
    "collapsed": false
   },
   "outputs": [
    {
     "data": {
      "text/plain": [
       "(283001, 4)"
      ]
     },
     "execution_count": 168,
     "metadata": {},
     "output_type": "execute_result"
    }
   ],
   "source": [
    "# Split dataset in training and validation dataset, 70/30\n",
    "# Test dataset provided will not be used until the end, so it can be used for final validation\n",
    "from sklearn. model_selection import train_test_split\n",
    "TEST_SIZE = 0.3\n",
    "X_train, X_val, y_train, y_val = train_test_split(df_o.loc[:,'qid1':'question2'], df_o.loc[:,'is_duplicate'], test_size=TEST_SIZE, random_state=42)\n",
    "X_train.shape\n"
   ]
  },
  {
   "cell_type": "markdown",
   "metadata": {},
   "source": [
    "## Pre processing"
   ]
  },
  {
   "cell_type": "markdown",
   "metadata": {},
   "source": [
    "#### Stopwords removal"
   ]
  },
  {
   "cell_type": "code",
   "execution_count": 144,
   "metadata": {
    "collapsed": false
   },
   "outputs": [],
   "source": [
    "#Xs=X_train.head(100).copy()"
   ]
  },
  {
   "cell_type": "code",
   "execution_count": 169,
   "metadata": {
    "collapsed": false
   },
   "outputs": [],
   "source": [
    "import string\n",
    "def clean_questions(df,low=True,stopwords=True,stem=True,punct=True):\n",
    "    \"\"\" Add column of vector with words without stopwords, stem words and remove punctuation\n",
    "    \"\"\"\n",
    "    \n",
    "    stop_words=('my', 'myself', 'we', 'our', 'ours', 'ourselves', 'you', 'your', 'yours', 'yourself', 'yourselves', 'he', 'him', 'his', 'himself', 'she', 'her', 'hers', 'herself', 'it', 'its', 'itself', 'they', 'them', 'their', 'theirs', 'themselves', 'this', 'that', 'these', 'those', 'am', 'is', 'are', 'was', 'were', 'be', 'been', 'being', 'have', 'has', 'had', 'having', 'do', 'does', 'did', 'doing', 'a', 'an', 'the', 'as', 'until', 'of', 'at', 'by', 'for', 'with', 'about', 'against', 'between', 'into', 'through', 'during', 'before', 'after', 'above', 'below', 'to', 'from', 'up', 'down', 'in', 'out', 'on', 'off', 'over', 'under', 'again', 'further', 'then', 'once', 'here', 'there', 'all', 'any', 'both', 'each', 'few', 'more', 'most', 'other', 'some', 'such', 'only', 'own', 'same', 'so', 's', 't', 'can', 'will', 'just', 'don', 'should', 'now', 'd', 'll', 'm', 'o', 're', 've', 'y', 'ain', 'aren', 'couldn', 'didn', 'doesn', 'hadn', 'hasn', 'haven', 'isn', 'ma', 'mightn', 'mustn', 'needn', 'shan', 'shouldn', 'wasn', 'weren', 'won', 'wouldn')\n",
    "    df['q1_clean']=df['question1']\n",
    "    df['q2_clean']=df['question2']\n",
    "    \n",
    "    if low :\n",
    "        df.loc[:,'q1_clean']=df[['q1_clean']].apply(lambda q:[x.lower() for x in q])\n",
    "        df.loc[:,'q2_clean']=df[['q2_clean']].apply(lambda q:[x.lower() for x in q])\n",
    "\n",
    "    if punct :\n",
    "        punctuation = set(string.punctuation)\n",
    "        df.loc[:,'q1_clean']=df['q1_clean'].apply(lambda q: ''.join(ch for ch in q if ch not in punctuation))\n",
    "        df.loc[:,'q2_clean']=df['q2_clean'].apply(lambda q: ''.join(ch for ch in q if ch not in punctuation))\n",
    "    \n",
    "    if stopwords :\n",
    "        df.loc[:,'q1_clean']=df['q1_clean'].apply(lambda q:[x for x in q.split() if x not in stop_words])\n",
    "        df.loc[:,'q2_clean']=df['q2_clean'].apply(lambda q:[x for x in q.split() if x not in stop_words])\n",
    "        "
   ]
  },
  {
   "cell_type": "code",
   "execution_count": 170,
   "metadata": {
    "collapsed": false,
    "scrolled": true
   },
   "outputs": [],
   "source": [
    "clean_questions(X_train,low=True,stopwords=True,stem=False,punct=True)"
   ]
  },
  {
   "cell_type": "code",
   "execution_count": 279,
   "metadata": {
    "collapsed": true
   },
   "outputs": [],
   "source": [
    "clean_questions(X_val,low=True,stopwords=True,stem=False,punct=True)"
   ]
  },
  {
   "cell_type": "code",
   "execution_count": null,
   "metadata": {
    "collapsed": true
   },
   "outputs": [],
   "source": []
  },
  {
   "cell_type": "markdown",
   "metadata": {},
   "source": [
    "#### Spell correction"
   ]
  },
  {
   "cell_type": "code",
   "execution_count": 15,
   "metadata": {
    "collapsed": false
   },
   "outputs": [],
   "source": [
    "import gensim\n",
    "model = gensim.models.KeyedVectors.load_word2vec_format('./data/GoogleNews-vectors-negative300.bin.gz', \n",
    "                                                        binary=True)\n",
    "\n",
    "words = model.index2word\n",
    "\n",
    "w_rank = {}\n",
    "for i,word in enumerate(words):\n",
    "    w_rank[word] = i\n",
    "\n",
    "WORDS = w_rank"
   ]
  },
  {
   "cell_type": "code",
   "execution_count": 157,
   "metadata": {
    "collapsed": true
   },
   "outputs": [],
   "source": [
    "import re\n",
    "from collections import Counter\n",
    "\n",
    "def words(text): return re.findall(r'\\w+', text.lower())\n",
    "\n",
    "def P(word): \n",
    "    \"Probability of `word`.\"\n",
    "    # use inverse of rank as proxy\n",
    "    # returns 0 if the word isn't in the dictionary\n",
    "    return - WORDS.get(word, 0)\n",
    "\n",
    "def correction(word): \n",
    "    \"Most probable spelling correction for word.\"\n",
    "    return max(candidates(word), key=P)\n",
    "\n",
    "def candidates(word): \n",
    "    \"Generate possible spelling corrections for word.\"\n",
    "    return (known([word]) or known(edits1(word)) or known(edits2(word)) or [word])\n",
    "\n",
    "def known(words): \n",
    "    \"The subset of `words` that appear in the dictionary of WORDS.\"\n",
    "    return set(w for w in words if w in WORDS)\n",
    "\n",
    "def edits1(word):\n",
    "    \"All edits that are one edit away from `word`.\"\n",
    "    letters    = 'abcdefghijklmnopqrstuvwxyz'\n",
    "    splits     = [(word[:i], word[i:])    for i in range(len(word) + 1)]\n",
    "    deletes    = [L + R[1:]               for L, R in splits if R]\n",
    "    transposes = [L + R[1] + R[0] + R[2:] for L, R in splits if len(R)>1]\n",
    "    replaces   = [L + c + R[1:]           for L, R in splits if R for c in letters]\n",
    "    inserts    = [L + c + R               for L, R in splits for c in letters]\n",
    "    return set(deletes + transposes + replaces + inserts)\n",
    "\n",
    "def edits2(word): \n",
    "    \"All edits that are two edits away from `word`.\"\n",
    "    return (e2 for e1 in edits1(word) for e2 in edits1(e1))"
   ]
  },
  {
   "cell_type": "code",
   "execution_count": 164,
   "metadata": {
    "collapsed": false
   },
   "outputs": [
    {
     "data": {
      "text/plain": [
       "'synonyms'"
      ]
     },
     "execution_count": 164,
     "metadata": {},
     "output_type": "execute_result"
    }
   ],
   "source": [
    "correction('sinonims')"
   ]
  },
  {
   "cell_type": "code",
   "execution_count": 182,
   "metadata": {
    "collapsed": true
   },
   "outputs": [],
   "source": [
    "def spelling(df):\n",
    "    \"\"\" Correct spelling\n",
    "    \"\"\"\n",
    "\n",
    "    df.loc[:,'q1_clean']=df[['q1_clean']].apply(lambda q:[correction(x) for x in q])\n",
    "    #df.loc[:,'q2_clean']=df['q2_clean'].apply(lambda q:[correction(x) for x in q])"
   ]
  },
  {
   "cell_type": "markdown",
   "metadata": {
    "collapsed": true
   },
   "source": [
    "# Generate features\n",
    "\n",
    "Some ideas to work on:\n",
    "1. Question lenght in words\n",
    "2. Shared words\n",
    "3. Use tf-idf to identify specific words on each pairs\n",
    "4. Is question clause the same?\n",
    "5. Syntax similarity: POS tags?\n",
    "6. Shared synonyms (all words or just the key words- verb, object)\n",
    "7. Similarity of key words: wordnet/synnet similarity score"
   ]
  },
  {
   "cell_type": "markdown",
   "metadata": {},
   "source": [
    "### Take non-common words, calculate similarity and calculate a score"
   ]
  },
  {
   "cell_type": "code",
   "execution_count": null,
   "metadata": {
    "collapsed": true
   },
   "outputs": [],
   "source": []
  },
  {
   "cell_type": "markdown",
   "metadata": {},
   "source": [
    "#### Feature: different length in words"
   ]
  },
  {
   "cell_type": "code",
   "execution_count": 126,
   "metadata": {
    "collapsed": true
   },
   "outputs": [],
   "source": [
    "def n_words(s):\n",
    "    return(len(s.split()))"
   ]
  },
  {
   "cell_type": "code",
   "execution_count": 209,
   "metadata": {
    "collapsed": false
   },
   "outputs": [
    {
     "data": {
      "text/plain": [
       "133"
      ]
     },
     "execution_count": 209,
     "metadata": {},
     "output_type": "execute_result"
    }
   ],
   "source": [
    "X_train['dif_len'].max(axis=0)"
   ]
  },
  {
   "cell_type": "code",
   "execution_count": 227,
   "metadata": {
    "collapsed": true
   },
   "outputs": [],
   "source": [
    "def dif_len(df):\n",
    "    df['len1']=df['q1_clean'].apply(len)\n",
    "    df['len2']=df['q2_clean'].apply(len)\n",
    "    df['dif_len']=df['len1']-df['len2']\n",
    "    df['dif_len']=df['dif_len'].apply(abs)\n",
    "    max_len=df['dif_len'].max(axis=0)\n",
    "    df['dif_len']=df['dif_len'].apply(lambda x: x/max_len)\n",
    "    df.drop('len1',1,inplace=True)\n",
    "    df.drop('len2',1,inplace=True)"
   ]
  },
  {
   "cell_type": "code",
   "execution_count": 228,
   "metadata": {
    "collapsed": false
   },
   "outputs": [],
   "source": [
    "dif_len(X_train)"
   ]
  },
  {
   "cell_type": "code",
   "execution_count": 280,
   "metadata": {
    "collapsed": false
   },
   "outputs": [],
   "source": [
    "dif_len(X_val)"
   ]
  },
  {
   "cell_type": "code",
   "execution_count": 281,
   "metadata": {
    "collapsed": false
   },
   "outputs": [
    {
     "data": {
      "text/html": [
       "<div>\n",
       "<table border=\"1\" class=\"dataframe\">\n",
       "  <thead>\n",
       "    <tr style=\"text-align: right;\">\n",
       "      <th></th>\n",
       "      <th>qid1</th>\n",
       "      <th>qid2</th>\n",
       "      <th>question1</th>\n",
       "      <th>question2</th>\n",
       "      <th>q1_clean</th>\n",
       "      <th>q2_clean</th>\n",
       "      <th>dif_len</th>\n",
       "    </tr>\n",
       "    <tr>\n",
       "      <th>id</th>\n",
       "      <th></th>\n",
       "      <th></th>\n",
       "      <th></th>\n",
       "      <th></th>\n",
       "      <th></th>\n",
       "      <th></th>\n",
       "      <th></th>\n",
       "    </tr>\n",
       "  </thead>\n",
       "  <tbody>\n",
       "    <tr>\n",
       "      <th>8067</th>\n",
       "      <td>15738</td>\n",
       "      <td>15739</td>\n",
       "      <td>How do I play Pokémon GO in Korea?</td>\n",
       "      <td>How do I play Pokémon GO in China?</td>\n",
       "      <td>[how, i, play, pokémon, go, korea]</td>\n",
       "      <td>[how, i, play, pokémon, go, china]</td>\n",
       "      <td>0.000</td>\n",
       "    </tr>\n",
       "    <tr>\n",
       "      <th>361084</th>\n",
       "      <td>490894</td>\n",
       "      <td>490895</td>\n",
       "      <td>How do you know if your photos on icloud are downloading?</td>\n",
       "      <td>How do I find my photos on iCloud?</td>\n",
       "      <td>[how, know, if, photos, icloud, downloading]</td>\n",
       "      <td>[how, i, find, photos, icloud]</td>\n",
       "      <td>0.008</td>\n",
       "    </tr>\n",
       "    <tr>\n",
       "      <th>70497</th>\n",
       "      <td>121486</td>\n",
       "      <td>121487</td>\n",
       "      <td>Which is more advisable and better material for a crash test in automobiles, ductile or brittle?</td>\n",
       "      <td>What is the best server setup for buddypress?</td>\n",
       "      <td>[which, advisable, and, better, material, crash, test, automobiles, ductile, or, brittle]</td>\n",
       "      <td>[what, best, server, setup, buddypress]</td>\n",
       "      <td>0.048</td>\n",
       "    </tr>\n",
       "    <tr>\n",
       "      <th>226568</th>\n",
       "      <td>50715</td>\n",
       "      <td>121144</td>\n",
       "      <td>Which are some of the best comedy-thriller movies?</td>\n",
       "      <td>What is the best comedy movie ever?</td>\n",
       "      <td>[which, best, comedythriller, movies]</td>\n",
       "      <td>[what, best, comedy, movie, ever]</td>\n",
       "      <td>0.008</td>\n",
       "    </tr>\n",
       "    <tr>\n",
       "      <th>73186</th>\n",
       "      <td>48103</td>\n",
       "      <td>3062</td>\n",
       "      <td>How close we are to see 3rd world war?</td>\n",
       "      <td>How close is a World War III?</td>\n",
       "      <td>[how, close, see, 3rd, world, war]</td>\n",
       "      <td>[how, close, world, war, iii]</td>\n",
       "      <td>0.008</td>\n",
       "    </tr>\n",
       "    <tr>\n",
       "      <th>215106</th>\n",
       "      <td>34749</td>\n",
       "      <td>320899</td>\n",
       "      <td>How do people like Noam Chomsky find so many trustworthy sources?</td>\n",
       "      <td>Why do some people hate Noam Chomsky? Can they prove him wrong?</td>\n",
       "      <td>[how, people, like, noam, chomsky, find, many, trustworthy, sources]</td>\n",
       "      <td>[why, people, hate, noam, chomsky, prove, wrong]</td>\n",
       "      <td>0.016</td>\n",
       "    </tr>\n",
       "    <tr>\n",
       "      <th>178825</th>\n",
       "      <td>155611</td>\n",
       "      <td>199187</td>\n",
       "      <td>Are downvotes anonymous on Quora?</td>\n",
       "      <td>Will you be able to see the people who downvoted your answer on Quora?</td>\n",
       "      <td>[downvotes, anonymous, quora]</td>\n",
       "      <td>[able, see, people, who, downvoted, answer, quora]</td>\n",
       "      <td>0.032</td>\n",
       "    </tr>\n",
       "    <tr>\n",
       "      <th>274791</th>\n",
       "      <td>248874</td>\n",
       "      <td>393471</td>\n",
       "      <td>What is the best place to visit in Bengaluru?</td>\n",
       "      <td>Which is the best place to see in Bangalore?</td>\n",
       "      <td>[what, best, place, visit, bengaluru]</td>\n",
       "      <td>[which, best, place, see, bangalore]</td>\n",
       "      <td>0.000</td>\n",
       "    </tr>\n",
       "    <tr>\n",
       "      <th>104478</th>\n",
       "      <td>172497</td>\n",
       "      <td>172498</td>\n",
       "      <td>Why are cats so overprotective?</td>\n",
       "      <td>How do you know if your cat is overprotective?</td>\n",
       "      <td>[why, cats, overprotective]</td>\n",
       "      <td>[how, know, if, cat, overprotective]</td>\n",
       "      <td>0.016</td>\n",
       "    </tr>\n",
       "    <tr>\n",
       "      <th>307322</th>\n",
       "      <td>430982</td>\n",
       "      <td>430983</td>\n",
       "      <td>What are some of the weirdest things that made you happy?</td>\n",
       "      <td>What are the weirdest things that make you happy?</td>\n",
       "      <td>[what, weirdest, things, made, happy]</td>\n",
       "      <td>[what, weirdest, things, make, happy]</td>\n",
       "      <td>0.000</td>\n",
       "    </tr>\n",
       "    <tr>\n",
       "      <th>258827</th>\n",
       "      <td>135141</td>\n",
       "      <td>374487</td>\n",
       "      <td>I'm not sure if I'm bisexual or pansexual. How do I know?</td>\n",
       "      <td>How do I know for sure whether I'm bisexual or not?</td>\n",
       "      <td>[im, not, sure, if, im, bisexual, or, pansexual, how, i, know]</td>\n",
       "      <td>[how, i, know, sure, whether, im, bisexual, or, not]</td>\n",
       "      <td>0.016</td>\n",
       "    </tr>\n",
       "    <tr>\n",
       "      <th>388398</th>\n",
       "      <td>520792</td>\n",
       "      <td>520793</td>\n",
       "      <td>What are the best-known examples of animals which are albino or have unusual white pigmentation?</td>\n",
       "      <td>Are albino animals more likely to be blind?</td>\n",
       "      <td>[what, bestknown, examples, animals, which, albino, or, unusual, white, pigmentation]</td>\n",
       "      <td>[albino, animals, likely, blind]</td>\n",
       "      <td>0.048</td>\n",
       "    </tr>\n",
       "    <tr>\n",
       "      <th>121371</th>\n",
       "      <td>196686</td>\n",
       "      <td>196687</td>\n",
       "      <td>Is there any possibility of more than one sun?</td>\n",
       "      <td>Since there are many moons, is it possible that there is more than one Sun in the universe?</td>\n",
       "      <td>[possibility, than, one, sun]</td>\n",
       "      <td>[since, many, moons, possible, than, one, sun, universe]</td>\n",
       "      <td>0.032</td>\n",
       "    </tr>\n",
       "    <tr>\n",
       "      <th>237912</th>\n",
       "      <td>349157</td>\n",
       "      <td>349158</td>\n",
       "      <td>What is to be done when you can't concentrate on reading books?</td>\n",
       "      <td>Why can't I seem to concentrate when reading?</td>\n",
       "      <td>[what, done, when, cant, concentrate, reading, books]</td>\n",
       "      <td>[why, cant, i, seem, concentrate, when, reading]</td>\n",
       "      <td>0.000</td>\n",
       "    </tr>\n",
       "    <tr>\n",
       "      <th>384975</th>\n",
       "      <td>346260</td>\n",
       "      <td>517072</td>\n",
       "      <td>How do I tell my parents I'm not \"grumpy\", I'm depressed?</td>\n",
       "      <td>Why do meat eaters get grumpy?</td>\n",
       "      <td>[how, i, tell, parents, im, not, grumpy, im, depressed]</td>\n",
       "      <td>[why, meat, eaters, get, grumpy]</td>\n",
       "      <td>0.032</td>\n",
       "    </tr>\n",
       "    <tr>\n",
       "      <th>185675</th>\n",
       "      <td>283389</td>\n",
       "      <td>283390</td>\n",
       "      <td>It's possible to search questions inside a topic?</td>\n",
       "      <td>How can we search questions using multiple topics on Quora?</td>\n",
       "      <td>[possible, search, questions, inside, topic]</td>\n",
       "      <td>[how, search, questions, using, multiple, topics, quora]</td>\n",
       "      <td>0.016</td>\n",
       "    </tr>\n",
       "    <tr>\n",
       "      <th>30812</th>\n",
       "      <td>56857</td>\n",
       "      <td>56858</td>\n",
       "      <td>My face skin is so dry, which cream or facewash should I use?</td>\n",
       "      <td>What is the best face cream available in India that makes skin glow?</td>\n",
       "      <td>[face, skin, dry, which, cream, or, facewash, i, use]</td>\n",
       "      <td>[what, best, face, cream, available, india, makes, skin, glow]</td>\n",
       "      <td>0.000</td>\n",
       "    </tr>\n",
       "    <tr>\n",
       "      <th>201483</th>\n",
       "      <td>299944</td>\n",
       "      <td>303501</td>\n",
       "      <td>How does the HP OfficeJet 4620 Airprint compare to the HP Color LaserJet Enterprise M553n?</td>\n",
       "      <td>How does the HP OfficeJet 4620 Airprint compare to the HP Color LaserJet Pro M452dn?</td>\n",
       "      <td>[how, hp, officejet, 4620, airprint, compare, hp, color, laserjet, enterprise, m553n]</td>\n",
       "      <td>[how, hp, officejet, 4620, airprint, compare, hp, color, laserjet, pro, m452dn]</td>\n",
       "      <td>0.000</td>\n",
       "    </tr>\n",
       "    <tr>\n",
       "      <th>379226</th>\n",
       "      <td>409200</td>\n",
       "      <td>510732</td>\n",
       "      <td>What would happen if the earth stopped spinning suddenly for 10 seconds and then sped up instant...</td>\n",
       "      <td>The earth stopped spinning for 10 seconds, then starts spinning again. What happens? Please be d...</td>\n",
       "      <td>[what, would, happen, if, earth, stopped, spinning, suddenly, 10, seconds, and, sped, instantly,...</td>\n",
       "      <td>[earth, stopped, spinning, 10, seconds, starts, spinning, what, happens, please, detailed, possi...</td>\n",
       "      <td>0.024</td>\n",
       "    </tr>\n",
       "    <tr>\n",
       "      <th>316977</th>\n",
       "      <td>28603</td>\n",
       "      <td>193630</td>\n",
       "      <td>Does height increase after 21? How can I get taller?</td>\n",
       "      <td>Is it possible to increase height after 25 for girls?</td>\n",
       "      <td>[height, increase, 21, how, i, get, taller]</td>\n",
       "      <td>[possible, increase, height, 25, girls]</td>\n",
       "      <td>0.016</td>\n",
       "    </tr>\n",
       "  </tbody>\n",
       "</table>\n",
       "</div>"
      ],
      "text/plain": [
       "          qid1    qid2  \\\n",
       "id                       \n",
       "8067     15738   15739   \n",
       "361084  490894  490895   \n",
       "70497   121486  121487   \n",
       "226568   50715  121144   \n",
       "73186    48103    3062   \n",
       "215106   34749  320899   \n",
       "178825  155611  199187   \n",
       "274791  248874  393471   \n",
       "104478  172497  172498   \n",
       "307322  430982  430983   \n",
       "258827  135141  374487   \n",
       "388398  520792  520793   \n",
       "121371  196686  196687   \n",
       "237912  349157  349158   \n",
       "384975  346260  517072   \n",
       "185675  283389  283390   \n",
       "30812    56857   56858   \n",
       "201483  299944  303501   \n",
       "379226  409200  510732   \n",
       "316977   28603  193630   \n",
       "\n",
       "                                                                                                  question1  \\\n",
       "id                                                                                                            \n",
       "8067                                                                     How do I play Pokémon GO in Korea?   \n",
       "361084                                            How do you know if your photos on icloud are downloading?   \n",
       "70497      Which is more advisable and better material for a crash test in automobiles, ductile or brittle?   \n",
       "226568                                                   Which are some of the best comedy-thriller movies?   \n",
       "73186                                                                How close we are to see 3rd world war?   \n",
       "215106                                    How do people like Noam Chomsky find so many trustworthy sources?   \n",
       "178825                                                                    Are downvotes anonymous on Quora?   \n",
       "274791                                                        What is the best place to visit in Bengaluru?   \n",
       "104478                                                                      Why are cats so overprotective?   \n",
       "307322                                            What are some of the weirdest things that made you happy?   \n",
       "258827                                            I'm not sure if I'm bisexual or pansexual. How do I know?   \n",
       "388398     What are the best-known examples of animals which are albino or have unusual white pigmentation?   \n",
       "121371                                                       Is there any possibility of more than one sun?   \n",
       "237912                                      What is to be done when you can't concentrate on reading books?   \n",
       "384975                                            How do I tell my parents I'm not \"grumpy\", I'm depressed?   \n",
       "185675                                                    It's possible to search questions inside a topic?   \n",
       "30812                                         My face skin is so dry, which cream or facewash should I use?   \n",
       "201483           How does the HP OfficeJet 4620 Airprint compare to the HP Color LaserJet Enterprise M553n?   \n",
       "379226  What would happen if the earth stopped spinning suddenly for 10 seconds and then sped up instant...   \n",
       "316977                                                 Does height increase after 21? How can I get taller?   \n",
       "\n",
       "                                                                                                  question2  \\\n",
       "id                                                                                                            \n",
       "8067                                                                     How do I play Pokémon GO in China?   \n",
       "361084                                                                   How do I find my photos on iCloud?   \n",
       "70497                                                         What is the best server setup for buddypress?   \n",
       "226568                                                                  What is the best comedy movie ever?   \n",
       "73186                                                                         How close is a World War III?   \n",
       "215106                                      Why do some people hate Noam Chomsky? Can they prove him wrong?   \n",
       "178825                               Will you be able to see the people who downvoted your answer on Quora?   \n",
       "274791                                                         Which is the best place to see in Bangalore?   \n",
       "104478                                                       How do you know if your cat is overprotective?   \n",
       "307322                                                    What are the weirdest things that make you happy?   \n",
       "258827                                                  How do I know for sure whether I'm bisexual or not?   \n",
       "388398                                                          Are albino animals more likely to be blind?   \n",
       "121371          Since there are many moons, is it possible that there is more than one Sun in the universe?   \n",
       "237912                                                        Why can't I seem to concentrate when reading?   \n",
       "384975                                                                       Why do meat eaters get grumpy?   \n",
       "185675                                          How can we search questions using multiple topics on Quora?   \n",
       "30812                                  What is the best face cream available in India that makes skin glow?   \n",
       "201483                 How does the HP OfficeJet 4620 Airprint compare to the HP Color LaserJet Pro M452dn?   \n",
       "379226  The earth stopped spinning for 10 seconds, then starts spinning again. What happens? Please be d...   \n",
       "316977                                                Is it possible to increase height after 25 for girls?   \n",
       "\n",
       "                                                                                                   q1_clean  \\\n",
       "id                                                                                                            \n",
       "8067                                                                     [how, i, play, pokémon, go, korea]   \n",
       "361084                                                         [how, know, if, photos, icloud, downloading]   \n",
       "70497             [which, advisable, and, better, material, crash, test, automobiles, ductile, or, brittle]   \n",
       "226568                                                                [which, best, comedythriller, movies]   \n",
       "73186                                                                    [how, close, see, 3rd, world, war]   \n",
       "215106                                 [how, people, like, noam, chomsky, find, many, trustworthy, sources]   \n",
       "178825                                                                        [downvotes, anonymous, quora]   \n",
       "274791                                                                [what, best, place, visit, bengaluru]   \n",
       "104478                                                                          [why, cats, overprotective]   \n",
       "307322                                                                [what, weirdest, things, made, happy]   \n",
       "258827                                       [im, not, sure, if, im, bisexual, or, pansexual, how, i, know]   \n",
       "388398                [what, bestknown, examples, animals, which, albino, or, unusual, white, pigmentation]   \n",
       "121371                                                                        [possibility, than, one, sun]   \n",
       "237912                                                [what, done, when, cant, concentrate, reading, books]   \n",
       "384975                                              [how, i, tell, parents, im, not, grumpy, im, depressed]   \n",
       "185675                                                         [possible, search, questions, inside, topic]   \n",
       "30812                                                 [face, skin, dry, which, cream, or, facewash, i, use]   \n",
       "201483                [how, hp, officejet, 4620, airprint, compare, hp, color, laserjet, enterprise, m553n]   \n",
       "379226  [what, would, happen, if, earth, stopped, spinning, suddenly, 10, seconds, and, sped, instantly,...   \n",
       "316977                                                          [height, increase, 21, how, i, get, taller]   \n",
       "\n",
       "                                                                                                   q2_clean  \\\n",
       "id                                                                                                            \n",
       "8067                                                                     [how, i, play, pokémon, go, china]   \n",
       "361084                                                                       [how, i, find, photos, icloud]   \n",
       "70497                                                               [what, best, server, setup, buddypress]   \n",
       "226568                                                                    [what, best, comedy, movie, ever]   \n",
       "73186                                                                         [how, close, world, war, iii]   \n",
       "215106                                                     [why, people, hate, noam, chomsky, prove, wrong]   \n",
       "178825                                                   [able, see, people, who, downvoted, answer, quora]   \n",
       "274791                                                                 [which, best, place, see, bangalore]   \n",
       "104478                                                                 [how, know, if, cat, overprotective]   \n",
       "307322                                                                [what, weirdest, things, make, happy]   \n",
       "258827                                                 [how, i, know, sure, whether, im, bisexual, or, not]   \n",
       "388398                                                                     [albino, animals, likely, blind]   \n",
       "121371                                             [since, many, moons, possible, than, one, sun, universe]   \n",
       "237912                                                     [why, cant, i, seem, concentrate, when, reading]   \n",
       "384975                                                                     [why, meat, eaters, get, grumpy]   \n",
       "185675                                             [how, search, questions, using, multiple, topics, quora]   \n",
       "30812                                        [what, best, face, cream, available, india, makes, skin, glow]   \n",
       "201483                      [how, hp, officejet, 4620, airprint, compare, hp, color, laserjet, pro, m452dn]   \n",
       "379226  [earth, stopped, spinning, 10, seconds, starts, spinning, what, happens, please, detailed, possi...   \n",
       "316977                                                              [possible, increase, height, 25, girls]   \n",
       "\n",
       "        dif_len  \n",
       "id               \n",
       "8067      0.000  \n",
       "361084    0.008  \n",
       "70497     0.048  \n",
       "226568    0.008  \n",
       "73186     0.008  \n",
       "215106    0.016  \n",
       "178825    0.032  \n",
       "274791    0.000  \n",
       "104478    0.016  \n",
       "307322    0.000  \n",
       "258827    0.016  \n",
       "388398    0.048  \n",
       "121371    0.032  \n",
       "237912    0.000  \n",
       "384975    0.032  \n",
       "185675    0.016  \n",
       "30812     0.000  \n",
       "201483    0.000  \n",
       "379226    0.024  \n",
       "316977    0.016  "
      ]
     },
     "execution_count": 281,
     "metadata": {},
     "output_type": "execute_result"
    }
   ],
   "source": [
    "X_val.head(20)"
   ]
  },
  {
   "cell_type": "code",
   "execution_count": 230,
   "metadata": {
    "collapsed": false
   },
   "outputs": [
    {
     "data": {
      "text/plain": [
       "1.0"
      ]
     },
     "execution_count": 230,
     "metadata": {},
     "output_type": "execute_result"
    }
   ],
   "source": [
    "X_train['dif_len'].max(axis=0)"
   ]
  },
  {
   "cell_type": "code",
   "execution_count": 231,
   "metadata": {
    "collapsed": false
   },
   "outputs": [
    {
     "data": {
      "image/png": "[encoded data removed]",
      "text/plain": [
       "<matplotlib.figure.Figure at 0x222a35358>"
      ]
     },
     "metadata": {},
     "output_type": "display_data"
    }
   ],
   "source": [
    "import seaborn as sns\n",
    "import matplotlib.pyplot as plt\n",
    "plt.scatter(X_train['dif_len'],X_train['jacckard_dis'])\n",
    "plt.show()"
   ]
  },
  {
   "cell_type": "code",
   "execution_count": 235,
   "metadata": {
    "collapsed": false
   },
   "outputs": [],
   "source": [
    "X_train=X_train[X_train['dif_len']<0.25]"
   ]
  },
  {
   "cell_type": "code",
   "execution_count": null,
   "metadata": {
    "collapsed": true
   },
   "outputs": [],
   "source": [
    "#X_val=X_val[X_val['dif_len']<0.25]"
   ]
  },
  {
   "cell_type": "code",
   "execution_count": 236,
   "metadata": {
    "collapsed": false
   },
   "outputs": [
    {
     "data": {
      "image/png": "[encoded data removed]",
      "text/plain": [
       "<matplotlib.figure.Figure at 0x1e94d0898>"
      ]
     },
     "metadata": {},
     "output_type": "display_data"
    }
   ],
   "source": [
    "plt.scatter(X_train['dif_len'],X_train['jacckard_dis'])\n",
    "plt.show()"
   ]
  },
  {
   "cell_type": "markdown",
   "metadata": {
    "collapsed": true
   },
   "source": [
    "#### Feature: Number of common words"
   ]
  },
  {
   "cell_type": "code",
   "execution_count": null,
   "metadata": {
    "collapsed": true
   },
   "outputs": [],
   "source": []
  },
  {
   "cell_type": "code",
   "execution_count": null,
   "metadata": {
    "collapsed": true
   },
   "outputs": [],
   "source": []
  },
  {
   "cell_type": "markdown",
   "metadata": {},
   "source": [
    "#### Feature: Use tf-idf with cosine similarity\n"
   ]
  },
  {
   "cell_type": "markdown",
   "metadata": {},
   "source": [
    "#### Feature: Shared synonyms"
   ]
  },
  {
   "cell_type": "code",
   "execution_count": null,
   "metadata": {
    "collapsed": true
   },
   "outputs": [],
   "source": []
  },
  {
   "cell_type": "markdown",
   "metadata": {},
   "source": [
    "#### Feature: Ratio of common nouns (using Jaccard distance)"
   ]
  },
  {
   "cell_type": "code",
   "execution_count": 194,
   "metadata": {
    "collapsed": true
   },
   "outputs": [],
   "source": [
    "import nltk\n",
    "def retrieve_word_pos_nltk(q,pos='N'):\n",
    "    \n",
    "    tagged=nltk.pos_tag(nltk.word_tokenize(q))\n",
    "    return [item[0] for item in tagged if item[1][0] == pos]\n",
    "    "
   ]
  },
  {
   "cell_type": "code",
   "execution_count": 195,
   "metadata": {
    "collapsed": true
   },
   "outputs": [],
   "source": [
    "def jaccard_dis(l1,l2):\n",
    "    num=len(set(l1).intersection(l2))\n",
    "    den=len(set(l1).union(l2))\n",
    "    if den==0:\n",
    "        return 0\n",
    "    else:\n",
    "        return(num/den)"
   ]
  },
  {
   "cell_type": "code",
   "execution_count": 86,
   "metadata": {
    "collapsed": true
   },
   "outputs": [],
   "source": [
    "#X_train.to_csv('X_train_nouns.csv')"
   ]
  },
  {
   "cell_type": "code",
   "execution_count": 198,
   "metadata": {
    "collapsed": true
   },
   "outputs": [],
   "source": [
    "def jaccard_dis_rows(row):\n",
    "    l1=row['q1_clean']\n",
    "    l2=row['q2_clean']\n",
    "    num=len(set(l1).intersection(l2))\n",
    "    den=len(set(l1).union(l2))\n",
    "    if den==0:\n",
    "        return 0\n",
    "    else:\n",
    "        return(num/den)"
   ]
  },
  {
   "cell_type": "code",
   "execution_count": 199,
   "metadata": {
    "collapsed": false
   },
   "outputs": [
    {
     "data": {
      "text/html": [
       "<div>\n",
       "<table border=\"1\" class=\"dataframe\">\n",
       "  <thead>\n",
       "    <tr style=\"text-align: right;\">\n",
       "      <th></th>\n",
       "      <th>qid1</th>\n",
       "      <th>qid2</th>\n",
       "      <th>question1</th>\n",
       "      <th>question2</th>\n",
       "      <th>q1_clean</th>\n",
       "      <th>q2_clean</th>\n",
       "      <th>dif_len</th>\n",
       "    </tr>\n",
       "    <tr>\n",
       "      <th>id</th>\n",
       "      <th></th>\n",
       "      <th></th>\n",
       "      <th></th>\n",
       "      <th></th>\n",
       "      <th></th>\n",
       "      <th></th>\n",
       "      <th></th>\n",
       "    </tr>\n",
       "  </thead>\n",
       "  <tbody>\n",
       "    <tr>\n",
       "      <th>20128</th>\n",
       "      <td>37998</td>\n",
       "      <td>37999</td>\n",
       "      <td>How is the working environment at SBI Life, Mumbai?</td>\n",
       "      <td>How stressful is work of SBI clerk?</td>\n",
       "      <td>[how, working, environment, ski, life, mumbai]</td>\n",
       "      <td>[how, stressful, work, ski, clerk]</td>\n",
       "      <td>1</td>\n",
       "    </tr>\n",
       "    <tr>\n",
       "      <th>185202</th>\n",
       "      <td>282774</td>\n",
       "      <td>282775</td>\n",
       "      <td>What kinds of questions should I expect on the IBM CAT/IPAT?</td>\n",
       "      <td>What kinds of questions should I expect on the IBM IPAT?</td>\n",
       "      <td>[what, kinds, questions, i, expect, ibm, catboat]</td>\n",
       "      <td>[what, kinds, questions, i, expect, ibm, pat]</td>\n",
       "      <td>0</td>\n",
       "    </tr>\n",
       "    <tr>\n",
       "      <th>107096</th>\n",
       "      <td>176275</td>\n",
       "      <td>176276</td>\n",
       "      <td>On WhatsApp, it says on the message info that the message has been read with 2 blue ticks and no...</td>\n",
       "      <td>My friend is abroad and I have sent him messages. There is one grey tick next to the messages I ...</td>\n",
       "      <td>[whatsapp, says, message, info, message, read, 2, blue, ticks, an, no, time, an, message, delive...</td>\n",
       "      <td>[friend, abroad, an, i, sent, messages, one, grew, tick, next, messages, i, recently, sent, but,...</td>\n",
       "      <td>13</td>\n",
       "    </tr>\n",
       "    <tr>\n",
       "      <th>27940</th>\n",
       "      <td>51849</td>\n",
       "      <td>51850</td>\n",
       "      <td>How do the holy scriptures of Hinduism compare and contrast to those of Taoism?</td>\n",
       "      <td>How do the holy scriptures of Hinduism compare and contrast to those of Italo-Roman paganism?</td>\n",
       "      <td>[how, holy, scriptures, hinduism, compare, an, contrast, racism]</td>\n",
       "      <td>[how, holy, scriptures, hinduism, compare, an, contrast, italoroman, paganism]</td>\n",
       "      <td>1</td>\n",
       "    </tr>\n",
       "    <tr>\n",
       "      <th>244713</th>\n",
       "      <td>357399</td>\n",
       "      <td>357400</td>\n",
       "      <td>Does beard transplantation really work?</td>\n",
       "      <td>Is beard transplantation worthy?</td>\n",
       "      <td>[beard, transplantation, really, work]</td>\n",
       "      <td>[beard, transplantation, worthy]</td>\n",
       "      <td>1</td>\n",
       "    </tr>\n",
       "  </tbody>\n",
       "</table>\n",
       "</div>"
      ],
      "text/plain": [
       "          qid1    qid2  \\\n",
       "id                       \n",
       "20128    37998   37999   \n",
       "185202  282774  282775   \n",
       "107096  176275  176276   \n",
       "27940    51849   51850   \n",
       "244713  357399  357400   \n",
       "\n",
       "                                                                                                  question1  \\\n",
       "id                                                                                                            \n",
       "20128                                                   How is the working environment at SBI Life, Mumbai?   \n",
       "185202                                         What kinds of questions should I expect on the IBM CAT/IPAT?   \n",
       "107096  On WhatsApp, it says on the message info that the message has been read with 2 blue ticks and no...   \n",
       "27940                       How do the holy scriptures of Hinduism compare and contrast to those of Taoism?   \n",
       "244713                                                              Does beard transplantation really work?   \n",
       "\n",
       "                                                                                                  question2  \\\n",
       "id                                                                                                            \n",
       "20128                                                                   How stressful is work of SBI clerk?   \n",
       "185202                                             What kinds of questions should I expect on the IBM IPAT?   \n",
       "107096  My friend is abroad and I have sent him messages. There is one grey tick next to the messages I ...   \n",
       "27940         How do the holy scriptures of Hinduism compare and contrast to those of Italo-Roman paganism?   \n",
       "244713                                                                     Is beard transplantation worthy?   \n",
       "\n",
       "                                                                                                   q1_clean  \\\n",
       "id                                                                                                            \n",
       "20128                                                        [how, working, environment, ski, life, mumbai]   \n",
       "185202                                                    [what, kinds, questions, i, expect, ibm, catboat]   \n",
       "107096  [whatsapp, says, message, info, message, read, 2, blue, ticks, an, no, time, an, message, delive...   \n",
       "27940                                      [how, holy, scriptures, hinduism, compare, an, contrast, racism]   \n",
       "244713                                                               [beard, transplantation, really, work]   \n",
       "\n",
       "                                                                                                   q2_clean  \\\n",
       "id                                                                                                            \n",
       "20128                                                                    [how, stressful, work, ski, clerk]   \n",
       "185202                                                        [what, kinds, questions, i, expect, ibm, pat]   \n",
       "107096  [friend, abroad, an, i, sent, messages, one, grew, tick, next, messages, i, recently, sent, but,...   \n",
       "27940                        [how, holy, scriptures, hinduism, compare, an, contrast, italoroman, paganism]   \n",
       "244713                                                                     [beard, transplantation, worthy]   \n",
       "\n",
       "        dif_len  \n",
       "id               \n",
       "20128         1  \n",
       "185202        0  \n",
       "107096       13  \n",
       "27940         1  \n",
       "244713        1  "
      ]
     },
     "execution_count": 199,
     "metadata": {},
     "output_type": "execute_result"
    }
   ],
   "source": [
    "X_train.head()"
   ]
  },
  {
   "cell_type": "code",
   "execution_count": 200,
   "metadata": {
    "collapsed": true
   },
   "outputs": [],
   "source": [
    "X_train['jacckard_dis']=X_train.apply(jaccard_dis_rows,axis=1)"
   ]
  },
  {
   "cell_type": "code",
   "execution_count": 282,
   "metadata": {
    "collapsed": true
   },
   "outputs": [],
   "source": [
    "X_val['jacckard_dis']=X_val.apply(jaccard_dis_rows,axis=1)"
   ]
  },
  {
   "cell_type": "code",
   "execution_count": 201,
   "metadata": {
    "collapsed": false
   },
   "outputs": [
    {
     "data": {
      "text/html": [
       "<div>\n",
       "<table border=\"1\" class=\"dataframe\">\n",
       "  <thead>\n",
       "    <tr style=\"text-align: right;\">\n",
       "      <th></th>\n",
       "      <th>qid1</th>\n",
       "      <th>qid2</th>\n",
       "      <th>question1</th>\n",
       "      <th>question2</th>\n",
       "      <th>q1_clean</th>\n",
       "      <th>q2_clean</th>\n",
       "      <th>dif_len</th>\n",
       "      <th>jacckard_dis</th>\n",
       "    </tr>\n",
       "    <tr>\n",
       "      <th>id</th>\n",
       "      <th></th>\n",
       "      <th></th>\n",
       "      <th></th>\n",
       "      <th></th>\n",
       "      <th></th>\n",
       "      <th></th>\n",
       "      <th></th>\n",
       "      <th></th>\n",
       "    </tr>\n",
       "  </thead>\n",
       "  <tbody>\n",
       "    <tr>\n",
       "      <th>20128</th>\n",
       "      <td>37998</td>\n",
       "      <td>37999</td>\n",
       "      <td>How is the working environment at SBI Life, Mumbai?</td>\n",
       "      <td>How stressful is work of SBI clerk?</td>\n",
       "      <td>[how, working, environment, ski, life, mumbai]</td>\n",
       "      <td>[how, stressful, work, ski, clerk]</td>\n",
       "      <td>1</td>\n",
       "      <td>0.222</td>\n",
       "    </tr>\n",
       "    <tr>\n",
       "      <th>185202</th>\n",
       "      <td>282774</td>\n",
       "      <td>282775</td>\n",
       "      <td>What kinds of questions should I expect on the IBM CAT/IPAT?</td>\n",
       "      <td>What kinds of questions should I expect on the IBM IPAT?</td>\n",
       "      <td>[what, kinds, questions, i, expect, ibm, catboat]</td>\n",
       "      <td>[what, kinds, questions, i, expect, ibm, pat]</td>\n",
       "      <td>0</td>\n",
       "      <td>0.750</td>\n",
       "    </tr>\n",
       "    <tr>\n",
       "      <th>107096</th>\n",
       "      <td>176275</td>\n",
       "      <td>176276</td>\n",
       "      <td>On WhatsApp, it says on the message info that the message has been read with 2 blue ticks and no...</td>\n",
       "      <td>My friend is abroad and I have sent him messages. There is one grey tick next to the messages I ...</td>\n",
       "      <td>[whatsapp, says, message, info, message, read, 2, blue, ticks, an, no, time, an, message, delive...</td>\n",
       "      <td>[friend, abroad, an, i, sent, messages, one, grew, tick, next, messages, i, recently, sent, but,...</td>\n",
       "      <td>13</td>\n",
       "      <td>0.273</td>\n",
       "    </tr>\n",
       "    <tr>\n",
       "      <th>27940</th>\n",
       "      <td>51849</td>\n",
       "      <td>51850</td>\n",
       "      <td>How do the holy scriptures of Hinduism compare and contrast to those of Taoism?</td>\n",
       "      <td>How do the holy scriptures of Hinduism compare and contrast to those of Italo-Roman paganism?</td>\n",
       "      <td>[how, holy, scriptures, hinduism, compare, an, contrast, racism]</td>\n",
       "      <td>[how, holy, scriptures, hinduism, compare, an, contrast, italoroman, paganism]</td>\n",
       "      <td>1</td>\n",
       "      <td>0.700</td>\n",
       "    </tr>\n",
       "    <tr>\n",
       "      <th>244713</th>\n",
       "      <td>357399</td>\n",
       "      <td>357400</td>\n",
       "      <td>Does beard transplantation really work?</td>\n",
       "      <td>Is beard transplantation worthy?</td>\n",
       "      <td>[beard, transplantation, really, work]</td>\n",
       "      <td>[beard, transplantation, worthy]</td>\n",
       "      <td>1</td>\n",
       "      <td>0.400</td>\n",
       "    </tr>\n",
       "  </tbody>\n",
       "</table>\n",
       "</div>"
      ],
      "text/plain": [
       "          qid1    qid2  \\\n",
       "id                       \n",
       "20128    37998   37999   \n",
       "185202  282774  282775   \n",
       "107096  176275  176276   \n",
       "27940    51849   51850   \n",
       "244713  357399  357400   \n",
       "\n",
       "                                                                                                  question1  \\\n",
       "id                                                                                                            \n",
       "20128                                                   How is the working environment at SBI Life, Mumbai?   \n",
       "185202                                         What kinds of questions should I expect on the IBM CAT/IPAT?   \n",
       "107096  On WhatsApp, it says on the message info that the message has been read with 2 blue ticks and no...   \n",
       "27940                       How do the holy scriptures of Hinduism compare and contrast to those of Taoism?   \n",
       "244713                                                              Does beard transplantation really work?   \n",
       "\n",
       "                                                                                                  question2  \\\n",
       "id                                                                                                            \n",
       "20128                                                                   How stressful is work of SBI clerk?   \n",
       "185202                                             What kinds of questions should I expect on the IBM IPAT?   \n",
       "107096  My friend is abroad and I have sent him messages. There is one grey tick next to the messages I ...   \n",
       "27940         How do the holy scriptures of Hinduism compare and contrast to those of Italo-Roman paganism?   \n",
       "244713                                                                     Is beard transplantation worthy?   \n",
       "\n",
       "                                                                                                   q1_clean  \\\n",
       "id                                                                                                            \n",
       "20128                                                        [how, working, environment, ski, life, mumbai]   \n",
       "185202                                                    [what, kinds, questions, i, expect, ibm, catboat]   \n",
       "107096  [whatsapp, says, message, info, message, read, 2, blue, ticks, an, no, time, an, message, delive...   \n",
       "27940                                      [how, holy, scriptures, hinduism, compare, an, contrast, racism]   \n",
       "244713                                                               [beard, transplantation, really, work]   \n",
       "\n",
       "                                                                                                   q2_clean  \\\n",
       "id                                                                                                            \n",
       "20128                                                                    [how, stressful, work, ski, clerk]   \n",
       "185202                                                        [what, kinds, questions, i, expect, ibm, pat]   \n",
       "107096  [friend, abroad, an, i, sent, messages, one, grew, tick, next, messages, i, recently, sent, but,...   \n",
       "27940                        [how, holy, scriptures, hinduism, compare, an, contrast, italoroman, paganism]   \n",
       "244713                                                                     [beard, transplantation, worthy]   \n",
       "\n",
       "        dif_len  jacckard_dis  \n",
       "id                             \n",
       "20128         1         0.222  \n",
       "185202        0         0.750  \n",
       "107096       13         0.273  \n",
       "27940         1         0.700  \n",
       "244713        1         0.400  "
      ]
     },
     "execution_count": 201,
     "metadata": {},
     "output_type": "execute_result"
    }
   ],
   "source": [
    "X_train.head()"
   ]
  },
  {
   "cell_type": "markdown",
   "metadata": {},
   "source": [
    "## Compare non common words"
   ]
  },
  {
   "cell_type": "code",
   "execution_count": 4,
   "metadata": {
    "collapsed": false
   },
   "outputs": [
    {
     "ename": "NameError",
     "evalue": "name 'X_train' is not defined",
     "output_type": "error",
     "traceback": [
      "\u001b[0;31m---------------------------------------------------------------------------\u001b[0m",
      "\u001b[0;31mNameError\u001b[0m                                 Traceback (most recent call last)",
      "\u001b[0;32m<ipython-input-4-71101e5afcb4>\u001b[0m in \u001b[0;36m<module>\u001b[0;34m()\u001b[0m\n\u001b[0;32m----> 1\u001b[0;31m \u001b[0mX_train\u001b[0m\u001b[0;34m\u001b[0m\u001b[0m\n\u001b[0m",
      "\u001b[0;31mNameError\u001b[0m: name 'X_train' is not defined"
     ]
    }
   ],
   "source": [
    "X_train"
   ]
  },
  {
   "cell_type": "markdown",
   "metadata": {},
   "source": [
    "# Applying models"
   ]
  },
  {
   "cell_type": "code",
   "execution_count": 37,
   "metadata": {
    "collapsed": false
   },
   "outputs": [
    {
     "data": {
      "text/plain": [
       "id\n",
       "20128     0\n",
       "185202    1\n",
       "107096    0\n",
       "27940     0\n",
       "244713    1\n",
       "Name: is_duplicate, dtype: int64"
      ]
     },
     "execution_count": 37,
     "metadata": {},
     "output_type": "execute_result"
    }
   ],
   "source": [
    "y_train.head()"
   ]
  },
  {
   "cell_type": "markdown",
   "metadata": {},
   "source": [
    "### Baseline algorithm"
   ]
  },
  {
   "cell_type": "code",
   "execution_count": 248,
   "metadata": {
    "collapsed": false
   },
   "outputs": [],
   "source": [
    "# Align y with X\n",
    "XY_train=y_train.to_frame().merge(X_train, left_index=True, right_index=True)"
   ]
  },
  {
   "cell_type": "code",
   "execution_count": 271,
   "metadata": {
    "collapsed": false
   },
   "outputs": [
    {
     "data": {
      "text/plain": [
       "<matplotlib.figure.Figure at 0x22d474f98>"
      ]
     },
     "metadata": {},
     "output_type": "display_data"
    },
    {
     "ename": "ValueError",
     "evalue": "could not convert string to float: 'dif_len'",
     "output_type": "error",
     "traceback": [
      "\u001b[0;31m---------------------------------------------------------------------------\u001b[0m",
      "\u001b[0;31mValueError\u001b[0m                                Traceback (most recent call last)",
      "\u001b[0;32m/Users/endika/anaconda/lib/python3.5/site-packages/IPython/core/formatters.py\u001b[0m in \u001b[0;36m__call__\u001b[0;34m(self, obj)\u001b[0m\n\u001b[1;32m    305\u001b[0m                 \u001b[0;32mpass\u001b[0m\u001b[0;34m\u001b[0m\u001b[0m\n\u001b[1;32m    306\u001b[0m             \u001b[0;32melse\u001b[0m\u001b[0;34m:\u001b[0m\u001b[0;34m\u001b[0m\u001b[0m\n\u001b[0;32m--> 307\u001b[0;31m                 \u001b[0;32mreturn\u001b[0m \u001b[0mprinter\u001b[0m\u001b[0;34m(\u001b[0m\u001b[0mobj\u001b[0m\u001b[0;34m)\u001b[0m\u001b[0;34m\u001b[0m\u001b[0m\n\u001b[0m\u001b[1;32m    308\u001b[0m             \u001b[0;31m# Finally look for special method names\u001b[0m\u001b[0;34m\u001b[0m\u001b[0;34m\u001b[0m\u001b[0m\n\u001b[1;32m    309\u001b[0m             \u001b[0mmethod\u001b[0m \u001b[0;34m=\u001b[0m \u001b[0mget_real_method\u001b[0m\u001b[0;34m(\u001b[0m\u001b[0mobj\u001b[0m\u001b[0;34m,\u001b[0m \u001b[0mself\u001b[0m\u001b[0;34m.\u001b[0m\u001b[0mprint_method\u001b[0m\u001b[0;34m)\u001b[0m\u001b[0;34m\u001b[0m\u001b[0m\n",
      "\u001b[0;32m/Users/endika/anaconda/lib/python3.5/site-packages/IPython/core/pylabtools.py\u001b[0m in \u001b[0;36m<lambda>\u001b[0;34m(fig)\u001b[0m\n\u001b[1;32m    225\u001b[0m \u001b[0;34m\u001b[0m\u001b[0m\n\u001b[1;32m    226\u001b[0m     \u001b[0;32mif\u001b[0m \u001b[0;34m'png'\u001b[0m \u001b[0;32min\u001b[0m \u001b[0mformats\u001b[0m\u001b[0;34m:\u001b[0m\u001b[0;34m\u001b[0m\u001b[0m\n\u001b[0;32m--> 227\u001b[0;31m         \u001b[0mpng_formatter\u001b[0m\u001b[0;34m.\u001b[0m\u001b[0mfor_type\u001b[0m\u001b[0;34m(\u001b[0m\u001b[0mFigure\u001b[0m\u001b[0;34m,\u001b[0m \u001b[0;32mlambda\u001b[0m \u001b[0mfig\u001b[0m\u001b[0;34m:\u001b[0m \u001b[0mprint_figure\u001b[0m\u001b[0;34m(\u001b[0m\u001b[0mfig\u001b[0m\u001b[0;34m,\u001b[0m \u001b[0;34m'png'\u001b[0m\u001b[0;34m,\u001b[0m \u001b[0;34m**\u001b[0m\u001b[0mkwargs\u001b[0m\u001b[0;34m)\u001b[0m\u001b[0;34m)\u001b[0m\u001b[0;34m\u001b[0m\u001b[0m\n\u001b[0m\u001b[1;32m    228\u001b[0m     \u001b[0;32mif\u001b[0m \u001b[0;34m'retina'\u001b[0m \u001b[0;32min\u001b[0m \u001b[0mformats\u001b[0m \u001b[0;32mor\u001b[0m \u001b[0;34m'png2x'\u001b[0m \u001b[0;32min\u001b[0m \u001b[0mformats\u001b[0m\u001b[0;34m:\u001b[0m\u001b[0;34m\u001b[0m\u001b[0m\n\u001b[1;32m    229\u001b[0m         \u001b[0mpng_formatter\u001b[0m\u001b[0;34m.\u001b[0m\u001b[0mfor_type\u001b[0m\u001b[0;34m(\u001b[0m\u001b[0mFigure\u001b[0m\u001b[0;34m,\u001b[0m \u001b[0;32mlambda\u001b[0m \u001b[0mfig\u001b[0m\u001b[0;34m:\u001b[0m \u001b[0mretina_figure\u001b[0m\u001b[0;34m(\u001b[0m\u001b[0mfig\u001b[0m\u001b[0;34m,\u001b[0m \u001b[0;34m**\u001b[0m\u001b[0mkwargs\u001b[0m\u001b[0;34m)\u001b[0m\u001b[0;34m)\u001b[0m\u001b[0;34m\u001b[0m\u001b[0m\n",
      "\u001b[0;32m/Users/endika/anaconda/lib/python3.5/site-packages/IPython/core/pylabtools.py\u001b[0m in \u001b[0;36mprint_figure\u001b[0;34m(fig, fmt, bbox_inches, **kwargs)\u001b[0m\n\u001b[1;32m    117\u001b[0m \u001b[0;34m\u001b[0m\u001b[0m\n\u001b[1;32m    118\u001b[0m     \u001b[0mbytes_io\u001b[0m \u001b[0;34m=\u001b[0m \u001b[0mBytesIO\u001b[0m\u001b[0;34m(\u001b[0m\u001b[0;34m)\u001b[0m\u001b[0;34m\u001b[0m\u001b[0m\n\u001b[0;32m--> 119\u001b[0;31m     \u001b[0mfig\u001b[0m\u001b[0;34m.\u001b[0m\u001b[0mcanvas\u001b[0m\u001b[0;34m.\u001b[0m\u001b[0mprint_figure\u001b[0m\u001b[0;34m(\u001b[0m\u001b[0mbytes_io\u001b[0m\u001b[0;34m,\u001b[0m \u001b[0;34m**\u001b[0m\u001b[0mkw\u001b[0m\u001b[0;34m)\u001b[0m\u001b[0;34m\u001b[0m\u001b[0m\n\u001b[0m\u001b[1;32m    120\u001b[0m     \u001b[0mdata\u001b[0m \u001b[0;34m=\u001b[0m \u001b[0mbytes_io\u001b[0m\u001b[0;34m.\u001b[0m\u001b[0mgetvalue\u001b[0m\u001b[0;34m(\u001b[0m\u001b[0;34m)\u001b[0m\u001b[0;34m\u001b[0m\u001b[0m\n\u001b[1;32m    121\u001b[0m     \u001b[0;32mif\u001b[0m \u001b[0mfmt\u001b[0m \u001b[0;34m==\u001b[0m \u001b[0;34m'svg'\u001b[0m\u001b[0;34m:\u001b[0m\u001b[0;34m\u001b[0m\u001b[0m\n",
      "\u001b[0;32m/Users/endika/anaconda/lib/python3.5/site-packages/matplotlib/backend_bases.py\u001b[0m in \u001b[0;36mprint_figure\u001b[0;34m(self, filename, dpi, facecolor, edgecolor, orientation, format, **kwargs)\u001b[0m\n\u001b[1;32m   2178\u001b[0m                     \u001b[0morientation\u001b[0m\u001b[0;34m=\u001b[0m\u001b[0morientation\u001b[0m\u001b[0;34m,\u001b[0m\u001b[0;34m\u001b[0m\u001b[0m\n\u001b[1;32m   2179\u001b[0m                     \u001b[0mdryrun\u001b[0m\u001b[0;34m=\u001b[0m\u001b[0;32mTrue\u001b[0m\u001b[0;34m,\u001b[0m\u001b[0;34m\u001b[0m\u001b[0m\n\u001b[0;32m-> 2180\u001b[0;31m                     **kwargs)\n\u001b[0m\u001b[1;32m   2181\u001b[0m                 \u001b[0mrenderer\u001b[0m \u001b[0;34m=\u001b[0m \u001b[0mself\u001b[0m\u001b[0;34m.\u001b[0m\u001b[0mfigure\u001b[0m\u001b[0;34m.\u001b[0m\u001b[0m_cachedRenderer\u001b[0m\u001b[0;34m\u001b[0m\u001b[0m\n\u001b[1;32m   2182\u001b[0m                 \u001b[0mbbox_inches\u001b[0m \u001b[0;34m=\u001b[0m \u001b[0mself\u001b[0m\u001b[0;34m.\u001b[0m\u001b[0mfigure\u001b[0m\u001b[0;34m.\u001b[0m\u001b[0mget_tightbbox\u001b[0m\u001b[0;34m(\u001b[0m\u001b[0mrenderer\u001b[0m\u001b[0;34m)\u001b[0m\u001b[0;34m\u001b[0m\u001b[0m\n",
      "\u001b[0;32m/Users/endika/anaconda/lib/python3.5/site-packages/matplotlib/backends/backend_agg.py\u001b[0m in \u001b[0;36mprint_png\u001b[0;34m(self, filename_or_obj, *args, **kwargs)\u001b[0m\n\u001b[1;32m    525\u001b[0m \u001b[0;34m\u001b[0m\u001b[0m\n\u001b[1;32m    526\u001b[0m     \u001b[0;32mdef\u001b[0m \u001b[0mprint_png\u001b[0m\u001b[0;34m(\u001b[0m\u001b[0mself\u001b[0m\u001b[0;34m,\u001b[0m \u001b[0mfilename_or_obj\u001b[0m\u001b[0;34m,\u001b[0m \u001b[0;34m*\u001b[0m\u001b[0margs\u001b[0m\u001b[0;34m,\u001b[0m \u001b[0;34m**\u001b[0m\u001b[0mkwargs\u001b[0m\u001b[0;34m)\u001b[0m\u001b[0;34m:\u001b[0m\u001b[0;34m\u001b[0m\u001b[0m\n\u001b[0;32m--> 527\u001b[0;31m         \u001b[0mFigureCanvasAgg\u001b[0m\u001b[0;34m.\u001b[0m\u001b[0mdraw\u001b[0m\u001b[0;34m(\u001b[0m\u001b[0mself\u001b[0m\u001b[0;34m)\u001b[0m\u001b[0;34m\u001b[0m\u001b[0m\n\u001b[0m\u001b[1;32m    528\u001b[0m         \u001b[0mrenderer\u001b[0m \u001b[0;34m=\u001b[0m \u001b[0mself\u001b[0m\u001b[0;34m.\u001b[0m\u001b[0mget_renderer\u001b[0m\u001b[0;34m(\u001b[0m\u001b[0;34m)\u001b[0m\u001b[0;34m\u001b[0m\u001b[0m\n\u001b[1;32m    529\u001b[0m         \u001b[0moriginal_dpi\u001b[0m \u001b[0;34m=\u001b[0m \u001b[0mrenderer\u001b[0m\u001b[0;34m.\u001b[0m\u001b[0mdpi\u001b[0m\u001b[0;34m\u001b[0m\u001b[0m\n",
      "\u001b[0;32m/Users/endika/anaconda/lib/python3.5/site-packages/matplotlib/backends/backend_agg.py\u001b[0m in \u001b[0;36mdraw\u001b[0;34m(self)\u001b[0m\n\u001b[1;32m    472\u001b[0m \u001b[0;34m\u001b[0m\u001b[0m\n\u001b[1;32m    473\u001b[0m         \u001b[0;32mtry\u001b[0m\u001b[0;34m:\u001b[0m\u001b[0;34m\u001b[0m\u001b[0m\n\u001b[0;32m--> 474\u001b[0;31m             \u001b[0mself\u001b[0m\u001b[0;34m.\u001b[0m\u001b[0mfigure\u001b[0m\u001b[0;34m.\u001b[0m\u001b[0mdraw\u001b[0m\u001b[0;34m(\u001b[0m\u001b[0mself\u001b[0m\u001b[0;34m.\u001b[0m\u001b[0mrenderer\u001b[0m\u001b[0;34m)\u001b[0m\u001b[0;34m\u001b[0m\u001b[0m\n\u001b[0m\u001b[1;32m    475\u001b[0m         \u001b[0;32mfinally\u001b[0m\u001b[0;34m:\u001b[0m\u001b[0;34m\u001b[0m\u001b[0m\n\u001b[1;32m    476\u001b[0m             \u001b[0mRendererAgg\u001b[0m\u001b[0;34m.\u001b[0m\u001b[0mlock\u001b[0m\u001b[0;34m.\u001b[0m\u001b[0mrelease\u001b[0m\u001b[0;34m(\u001b[0m\u001b[0;34m)\u001b[0m\u001b[0;34m\u001b[0m\u001b[0m\n",
      "\u001b[0;32m/Users/endika/anaconda/lib/python3.5/site-packages/matplotlib/artist.py\u001b[0m in \u001b[0;36mdraw_wrapper\u001b[0;34m(artist, renderer, *args, **kwargs)\u001b[0m\n\u001b[1;32m     60\u001b[0m     \u001b[0;32mdef\u001b[0m \u001b[0mdraw_wrapper\u001b[0m\u001b[0;34m(\u001b[0m\u001b[0martist\u001b[0m\u001b[0;34m,\u001b[0m \u001b[0mrenderer\u001b[0m\u001b[0;34m,\u001b[0m \u001b[0;34m*\u001b[0m\u001b[0margs\u001b[0m\u001b[0;34m,\u001b[0m \u001b[0;34m**\u001b[0m\u001b[0mkwargs\u001b[0m\u001b[0;34m)\u001b[0m\u001b[0;34m:\u001b[0m\u001b[0;34m\u001b[0m\u001b[0m\n\u001b[1;32m     61\u001b[0m         \u001b[0mbefore\u001b[0m\u001b[0;34m(\u001b[0m\u001b[0martist\u001b[0m\u001b[0;34m,\u001b[0m \u001b[0mrenderer\u001b[0m\u001b[0;34m)\u001b[0m\u001b[0;34m\u001b[0m\u001b[0m\n\u001b[0;32m---> 62\u001b[0;31m         \u001b[0mdraw\u001b[0m\u001b[0;34m(\u001b[0m\u001b[0martist\u001b[0m\u001b[0;34m,\u001b[0m \u001b[0mrenderer\u001b[0m\u001b[0;34m,\u001b[0m \u001b[0;34m*\u001b[0m\u001b[0margs\u001b[0m\u001b[0;34m,\u001b[0m \u001b[0;34m**\u001b[0m\u001b[0mkwargs\u001b[0m\u001b[0;34m)\u001b[0m\u001b[0;34m\u001b[0m\u001b[0m\n\u001b[0m\u001b[1;32m     63\u001b[0m         \u001b[0mafter\u001b[0m\u001b[0;34m(\u001b[0m\u001b[0martist\u001b[0m\u001b[0;34m,\u001b[0m \u001b[0mrenderer\u001b[0m\u001b[0;34m)\u001b[0m\u001b[0;34m\u001b[0m\u001b[0m\n\u001b[1;32m     64\u001b[0m \u001b[0;34m\u001b[0m\u001b[0m\n",
      "\u001b[0;32m/Users/endika/anaconda/lib/python3.5/site-packages/matplotlib/figure.py\u001b[0m in \u001b[0;36mdraw\u001b[0;34m(self, renderer)\u001b[0m\n\u001b[1;32m   1157\u001b[0m         \u001b[0mdsu\u001b[0m\u001b[0;34m.\u001b[0m\u001b[0msort\u001b[0m\u001b[0;34m(\u001b[0m\u001b[0mkey\u001b[0m\u001b[0;34m=\u001b[0m\u001b[0mitemgetter\u001b[0m\u001b[0;34m(\u001b[0m\u001b[0;36m0\u001b[0m\u001b[0;34m)\u001b[0m\u001b[0;34m)\u001b[0m\u001b[0;34m\u001b[0m\u001b[0m\n\u001b[1;32m   1158\u001b[0m         \u001b[0;32mfor\u001b[0m \u001b[0mzorder\u001b[0m\u001b[0;34m,\u001b[0m \u001b[0ma\u001b[0m\u001b[0;34m,\u001b[0m \u001b[0mfunc\u001b[0m\u001b[0;34m,\u001b[0m \u001b[0margs\u001b[0m \u001b[0;32min\u001b[0m \u001b[0mdsu\u001b[0m\u001b[0;34m:\u001b[0m\u001b[0;34m\u001b[0m\u001b[0m\n\u001b[0;32m-> 1159\u001b[0;31m             \u001b[0mfunc\u001b[0m\u001b[0;34m(\u001b[0m\u001b[0;34m*\u001b[0m\u001b[0margs\u001b[0m\u001b[0;34m)\u001b[0m\u001b[0;34m\u001b[0m\u001b[0m\n\u001b[0m\u001b[1;32m   1160\u001b[0m \u001b[0;34m\u001b[0m\u001b[0m\n\u001b[1;32m   1161\u001b[0m         \u001b[0mrenderer\u001b[0m\u001b[0;34m.\u001b[0m\u001b[0mclose_group\u001b[0m\u001b[0;34m(\u001b[0m\u001b[0;34m'figure'\u001b[0m\u001b[0;34m)\u001b[0m\u001b[0;34m\u001b[0m\u001b[0m\n",
      "\u001b[0;32m/Users/endika/anaconda/lib/python3.5/site-packages/matplotlib/artist.py\u001b[0m in \u001b[0;36mdraw_wrapper\u001b[0;34m(artist, renderer, *args, **kwargs)\u001b[0m\n\u001b[1;32m     60\u001b[0m     \u001b[0;32mdef\u001b[0m \u001b[0mdraw_wrapper\u001b[0m\u001b[0;34m(\u001b[0m\u001b[0martist\u001b[0m\u001b[0;34m,\u001b[0m \u001b[0mrenderer\u001b[0m\u001b[0;34m,\u001b[0m \u001b[0;34m*\u001b[0m\u001b[0margs\u001b[0m\u001b[0;34m,\u001b[0m \u001b[0;34m**\u001b[0m\u001b[0mkwargs\u001b[0m\u001b[0;34m)\u001b[0m\u001b[0;34m:\u001b[0m\u001b[0;34m\u001b[0m\u001b[0m\n\u001b[1;32m     61\u001b[0m         \u001b[0mbefore\u001b[0m\u001b[0;34m(\u001b[0m\u001b[0martist\u001b[0m\u001b[0;34m,\u001b[0m \u001b[0mrenderer\u001b[0m\u001b[0;34m)\u001b[0m\u001b[0;34m\u001b[0m\u001b[0m\n\u001b[0;32m---> 62\u001b[0;31m         \u001b[0mdraw\u001b[0m\u001b[0;34m(\u001b[0m\u001b[0martist\u001b[0m\u001b[0;34m,\u001b[0m \u001b[0mrenderer\u001b[0m\u001b[0;34m,\u001b[0m \u001b[0;34m*\u001b[0m\u001b[0margs\u001b[0m\u001b[0;34m,\u001b[0m \u001b[0;34m**\u001b[0m\u001b[0mkwargs\u001b[0m\u001b[0;34m)\u001b[0m\u001b[0;34m\u001b[0m\u001b[0m\n\u001b[0m\u001b[1;32m     63\u001b[0m         \u001b[0mafter\u001b[0m\u001b[0;34m(\u001b[0m\u001b[0martist\u001b[0m\u001b[0;34m,\u001b[0m \u001b[0mrenderer\u001b[0m\u001b[0;34m)\u001b[0m\u001b[0;34m\u001b[0m\u001b[0m\n\u001b[1;32m     64\u001b[0m \u001b[0;34m\u001b[0m\u001b[0m\n",
      "\u001b[0;32m/Users/endika/anaconda/lib/python3.5/site-packages/matplotlib/axes/_base.py\u001b[0m in \u001b[0;36mdraw\u001b[0;34m(self, renderer, inframe)\u001b[0m\n\u001b[1;32m   2317\u001b[0m \u001b[0;34m\u001b[0m\u001b[0m\n\u001b[1;32m   2318\u001b[0m         \u001b[0;32mfor\u001b[0m \u001b[0mzorder\u001b[0m\u001b[0;34m,\u001b[0m \u001b[0ma\u001b[0m \u001b[0;32min\u001b[0m \u001b[0mdsu\u001b[0m\u001b[0;34m:\u001b[0m\u001b[0;34m\u001b[0m\u001b[0m\n\u001b[0;32m-> 2319\u001b[0;31m             \u001b[0ma\u001b[0m\u001b[0;34m.\u001b[0m\u001b[0mdraw\u001b[0m\u001b[0;34m(\u001b[0m\u001b[0mrenderer\u001b[0m\u001b[0;34m)\u001b[0m\u001b[0;34m\u001b[0m\u001b[0m\n\u001b[0m\u001b[1;32m   2320\u001b[0m \u001b[0;34m\u001b[0m\u001b[0m\n\u001b[1;32m   2321\u001b[0m         \u001b[0mrenderer\u001b[0m\u001b[0;34m.\u001b[0m\u001b[0mclose_group\u001b[0m\u001b[0;34m(\u001b[0m\u001b[0;34m'axes'\u001b[0m\u001b[0;34m)\u001b[0m\u001b[0;34m\u001b[0m\u001b[0m\n",
      "\u001b[0;32m/Users/endika/anaconda/lib/python3.5/site-packages/matplotlib/artist.py\u001b[0m in \u001b[0;36mdraw_wrapper\u001b[0;34m(artist, renderer, *args, **kwargs)\u001b[0m\n\u001b[1;32m     60\u001b[0m     \u001b[0;32mdef\u001b[0m \u001b[0mdraw_wrapper\u001b[0m\u001b[0;34m(\u001b[0m\u001b[0martist\u001b[0m\u001b[0;34m,\u001b[0m \u001b[0mrenderer\u001b[0m\u001b[0;34m,\u001b[0m \u001b[0;34m*\u001b[0m\u001b[0margs\u001b[0m\u001b[0;34m,\u001b[0m \u001b[0;34m**\u001b[0m\u001b[0mkwargs\u001b[0m\u001b[0;34m)\u001b[0m\u001b[0;34m:\u001b[0m\u001b[0;34m\u001b[0m\u001b[0m\n\u001b[1;32m     61\u001b[0m         \u001b[0mbefore\u001b[0m\u001b[0;34m(\u001b[0m\u001b[0martist\u001b[0m\u001b[0;34m,\u001b[0m \u001b[0mrenderer\u001b[0m\u001b[0;34m)\u001b[0m\u001b[0;34m\u001b[0m\u001b[0m\n\u001b[0;32m---> 62\u001b[0;31m         \u001b[0mdraw\u001b[0m\u001b[0;34m(\u001b[0m\u001b[0martist\u001b[0m\u001b[0;34m,\u001b[0m \u001b[0mrenderer\u001b[0m\u001b[0;34m,\u001b[0m \u001b[0;34m*\u001b[0m\u001b[0margs\u001b[0m\u001b[0;34m,\u001b[0m \u001b[0;34m**\u001b[0m\u001b[0mkwargs\u001b[0m\u001b[0;34m)\u001b[0m\u001b[0;34m\u001b[0m\u001b[0m\n\u001b[0m\u001b[1;32m     63\u001b[0m         \u001b[0mafter\u001b[0m\u001b[0;34m(\u001b[0m\u001b[0martist\u001b[0m\u001b[0;34m,\u001b[0m \u001b[0mrenderer\u001b[0m\u001b[0;34m)\u001b[0m\u001b[0;34m\u001b[0m\u001b[0m\n\u001b[1;32m     64\u001b[0m \u001b[0;34m\u001b[0m\u001b[0m\n",
      "\u001b[0;32m/Users/endika/anaconda/lib/python3.5/site-packages/matplotlib/collections.py\u001b[0m in \u001b[0;36mdraw\u001b[0;34m(self, renderer)\u001b[0m\n\u001b[1;32m    813\u001b[0m     \u001b[0;32mdef\u001b[0m \u001b[0mdraw\u001b[0m\u001b[0;34m(\u001b[0m\u001b[0mself\u001b[0m\u001b[0;34m,\u001b[0m \u001b[0mrenderer\u001b[0m\u001b[0;34m)\u001b[0m\u001b[0;34m:\u001b[0m\u001b[0;34m\u001b[0m\u001b[0m\n\u001b[1;32m    814\u001b[0m         \u001b[0mself\u001b[0m\u001b[0;34m.\u001b[0m\u001b[0mset_sizes\u001b[0m\u001b[0;34m(\u001b[0m\u001b[0mself\u001b[0m\u001b[0;34m.\u001b[0m\u001b[0m_sizes\u001b[0m\u001b[0;34m,\u001b[0m \u001b[0mself\u001b[0m\u001b[0;34m.\u001b[0m\u001b[0mfigure\u001b[0m\u001b[0;34m.\u001b[0m\u001b[0mdpi\u001b[0m\u001b[0;34m)\u001b[0m\u001b[0;34m\u001b[0m\u001b[0m\n\u001b[0;32m--> 815\u001b[0;31m         \u001b[0mCollection\u001b[0m\u001b[0;34m.\u001b[0m\u001b[0mdraw\u001b[0m\u001b[0;34m(\u001b[0m\u001b[0mself\u001b[0m\u001b[0;34m,\u001b[0m \u001b[0mrenderer\u001b[0m\u001b[0;34m)\u001b[0m\u001b[0;34m\u001b[0m\u001b[0m\n\u001b[0m\u001b[1;32m    816\u001b[0m \u001b[0;34m\u001b[0m\u001b[0m\n\u001b[1;32m    817\u001b[0m \u001b[0;34m\u001b[0m\u001b[0m\n",
      "\u001b[0;32m/Users/endika/anaconda/lib/python3.5/site-packages/matplotlib/artist.py\u001b[0m in \u001b[0;36mdraw_wrapper\u001b[0;34m(artist, renderer, *args, **kwargs)\u001b[0m\n\u001b[1;32m     60\u001b[0m     \u001b[0;32mdef\u001b[0m \u001b[0mdraw_wrapper\u001b[0m\u001b[0;34m(\u001b[0m\u001b[0martist\u001b[0m\u001b[0;34m,\u001b[0m \u001b[0mrenderer\u001b[0m\u001b[0;34m,\u001b[0m \u001b[0;34m*\u001b[0m\u001b[0margs\u001b[0m\u001b[0;34m,\u001b[0m \u001b[0;34m**\u001b[0m\u001b[0mkwargs\u001b[0m\u001b[0;34m)\u001b[0m\u001b[0;34m:\u001b[0m\u001b[0;34m\u001b[0m\u001b[0m\n\u001b[1;32m     61\u001b[0m         \u001b[0mbefore\u001b[0m\u001b[0;34m(\u001b[0m\u001b[0martist\u001b[0m\u001b[0;34m,\u001b[0m \u001b[0mrenderer\u001b[0m\u001b[0;34m)\u001b[0m\u001b[0;34m\u001b[0m\u001b[0m\n\u001b[0;32m---> 62\u001b[0;31m         \u001b[0mdraw\u001b[0m\u001b[0;34m(\u001b[0m\u001b[0martist\u001b[0m\u001b[0;34m,\u001b[0m \u001b[0mrenderer\u001b[0m\u001b[0;34m,\u001b[0m \u001b[0;34m*\u001b[0m\u001b[0margs\u001b[0m\u001b[0;34m,\u001b[0m \u001b[0;34m**\u001b[0m\u001b[0mkwargs\u001b[0m\u001b[0;34m)\u001b[0m\u001b[0;34m\u001b[0m\u001b[0m\n\u001b[0m\u001b[1;32m     63\u001b[0m         \u001b[0mafter\u001b[0m\u001b[0;34m(\u001b[0m\u001b[0martist\u001b[0m\u001b[0;34m,\u001b[0m \u001b[0mrenderer\u001b[0m\u001b[0;34m)\u001b[0m\u001b[0;34m\u001b[0m\u001b[0m\n\u001b[1;32m     64\u001b[0m \u001b[0;34m\u001b[0m\u001b[0m\n",
      "\u001b[0;32m/Users/endika/anaconda/lib/python3.5/site-packages/matplotlib/collections.py\u001b[0m in \u001b[0;36mdraw\u001b[0;34m(self, renderer)\u001b[0m\n\u001b[1;32m    263\u001b[0m         \u001b[0mself\u001b[0m\u001b[0;34m.\u001b[0m\u001b[0mupdate_scalarmappable\u001b[0m\u001b[0;34m(\u001b[0m\u001b[0;34m)\u001b[0m\u001b[0;34m\u001b[0m\u001b[0m\n\u001b[1;32m    264\u001b[0m \u001b[0;34m\u001b[0m\u001b[0m\n\u001b[0;32m--> 265\u001b[0;31m         \u001b[0mtransform\u001b[0m\u001b[0;34m,\u001b[0m \u001b[0mtransOffset\u001b[0m\u001b[0;34m,\u001b[0m \u001b[0moffsets\u001b[0m\u001b[0;34m,\u001b[0m \u001b[0mpaths\u001b[0m \u001b[0;34m=\u001b[0m \u001b[0mself\u001b[0m\u001b[0;34m.\u001b[0m\u001b[0m_prepare_points\u001b[0m\u001b[0;34m(\u001b[0m\u001b[0;34m)\u001b[0m\u001b[0;34m\u001b[0m\u001b[0m\n\u001b[0m\u001b[1;32m    266\u001b[0m \u001b[0;34m\u001b[0m\u001b[0m\n\u001b[1;32m    267\u001b[0m         \u001b[0mgc\u001b[0m \u001b[0;34m=\u001b[0m \u001b[0mrenderer\u001b[0m\u001b[0;34m.\u001b[0m\u001b[0mnew_gc\u001b[0m\u001b[0;34m(\u001b[0m\u001b[0;34m)\u001b[0m\u001b[0;34m\u001b[0m\u001b[0m\n",
      "\u001b[0;32m/Users/endika/anaconda/lib/python3.5/site-packages/matplotlib/collections.py\u001b[0m in \u001b[0;36m_prepare_points\u001b[0;34m(self)\u001b[0m\n\u001b[1;32m    236\u001b[0m                 \u001b[0moffsets\u001b[0m \u001b[0;34m=\u001b[0m \u001b[0mlist\u001b[0m\u001b[0;34m(\u001b[0m\u001b[0mzip\u001b[0m\u001b[0;34m(\u001b[0m\u001b[0mxs\u001b[0m\u001b[0;34m,\u001b[0m \u001b[0mys\u001b[0m\u001b[0;34m)\u001b[0m\u001b[0;34m)\u001b[0m\u001b[0;34m\u001b[0m\u001b[0m\n\u001b[1;32m    237\u001b[0m \u001b[0;34m\u001b[0m\u001b[0m\n\u001b[0;32m--> 238\u001b[0;31m         \u001b[0moffsets\u001b[0m \u001b[0;34m=\u001b[0m \u001b[0mnp\u001b[0m\u001b[0;34m.\u001b[0m\u001b[0masanyarray\u001b[0m\u001b[0;34m(\u001b[0m\u001b[0moffsets\u001b[0m\u001b[0;34m,\u001b[0m \u001b[0mnp\u001b[0m\u001b[0;34m.\u001b[0m\u001b[0mfloat_\u001b[0m\u001b[0;34m)\u001b[0m\u001b[0;34m\u001b[0m\u001b[0m\n\u001b[0m\u001b[1;32m    239\u001b[0m         \u001b[0moffsets\u001b[0m\u001b[0;34m.\u001b[0m\u001b[0mshape\u001b[0m \u001b[0;34m=\u001b[0m \u001b[0;34m(\u001b[0m\u001b[0;34m-\u001b[0m\u001b[0;36m1\u001b[0m\u001b[0;34m,\u001b[0m \u001b[0;36m2\u001b[0m\u001b[0;34m)\u001b[0m             \u001b[0;31m# Make it Nx2\u001b[0m\u001b[0;34m\u001b[0m\u001b[0m\n\u001b[1;32m    240\u001b[0m \u001b[0;34m\u001b[0m\u001b[0m\n",
      "\u001b[0;32m/Users/endika/anaconda/lib/python3.5/site-packages/numpy/core/numeric.py\u001b[0m in \u001b[0;36masanyarray\u001b[0;34m(a, dtype, order)\u001b[0m\n\u001b[1;32m    531\u001b[0m \u001b[0;34m\u001b[0m\u001b[0m\n\u001b[1;32m    532\u001b[0m     \"\"\"\n\u001b[0;32m--> 533\u001b[0;31m     \u001b[0;32mreturn\u001b[0m \u001b[0marray\u001b[0m\u001b[0;34m(\u001b[0m\u001b[0ma\u001b[0m\u001b[0;34m,\u001b[0m \u001b[0mdtype\u001b[0m\u001b[0;34m,\u001b[0m \u001b[0mcopy\u001b[0m\u001b[0;34m=\u001b[0m\u001b[0;32mFalse\u001b[0m\u001b[0;34m,\u001b[0m \u001b[0morder\u001b[0m\u001b[0;34m=\u001b[0m\u001b[0morder\u001b[0m\u001b[0;34m,\u001b[0m \u001b[0msubok\u001b[0m\u001b[0;34m=\u001b[0m\u001b[0;32mTrue\u001b[0m\u001b[0;34m)\u001b[0m\u001b[0;34m\u001b[0m\u001b[0m\n\u001b[0m\u001b[1;32m    534\u001b[0m \u001b[0;34m\u001b[0m\u001b[0m\n\u001b[1;32m    535\u001b[0m \u001b[0;32mdef\u001b[0m \u001b[0mascontiguousarray\u001b[0m\u001b[0;34m(\u001b[0m\u001b[0ma\u001b[0m\u001b[0;34m,\u001b[0m \u001b[0mdtype\u001b[0m\u001b[0;34m=\u001b[0m\u001b[0;32mNone\u001b[0m\u001b[0;34m)\u001b[0m\u001b[0;34m:\u001b[0m\u001b[0;34m\u001b[0m\u001b[0m\n",
      "\u001b[0;31mValueError\u001b[0m: could not convert string to float: 'dif_len'"
     ]
    },
    {
     "data": {
      "text/plain": [
       "<matplotlib.figure.Figure at 0x1f45af8d0>"
      ]
     },
     "metadata": {},
     "output_type": "display_data"
    },
    {
     "data": {
      "image/png": "[encoded data removed]",
      "text/plain": [
       "<matplotlib.figure.Figure at 0x1ec743278>"
      ]
     },
     "metadata": {},
     "output_type": "display_data"
    },
    {
     "data": {
      "image/png": "[encoded data removed]",
      "text/plain": [
       "<matplotlib.figure.Figure at 0x1fbab3240>"
      ]
     },
     "metadata": {},
     "output_type": "display_data"
    },
    {
     "data": {
      "image/png": "[encoded data removed]",
      "text/plain": [
       "<matplotlib.figure.Figure at 0x1f4536898>"
      ]
     },
     "metadata": {},
     "output_type": "display_data"
    },
    {
     "data": {
      "image/png": "[encoded data removed]",
      "text/plain": [
       "<matplotlib.figure.Figure at 0x203f54438>"
      ]
     },
     "metadata": {},
     "output_type": "display_data"
    },
    {
     "data": {
      "image/png": "[encoded data removed]",
      "text/plain": [
       "<matplotlib.figure.Figure at 0x21e72b550>"
      ]
     },
     "metadata": {},
     "output_type": "display_data"
    },
    {
     "data": {
      "image/png": "[encoded data removed]",
      "text/plain": [
       "<matplotlib.figure.Figure at 0x253c02eb8>"
      ]
     },
     "metadata": {},
     "output_type": "display_data"
    }
   ],
   "source": [
    "plt.scatter(XY_train['dif_len'][XY_train['is_duplicate']==0], XY_train['jacckard_dis'][XY_train['is_duplicate']==0], c=\"red\", edgecolors='none')\n",
    "plt.scatter(XY_train['dif_len'][XY_train['is_duplicate']==1], XY_train['jacckard_dis'][XY_train['is_duplicate']==1], c=\"blue\", edgecolors='none')\n",
    "plt.show()"
   ]
  },
  {
   "cell_type": "code",
   "execution_count": 76,
   "metadata": {
    "collapsed": false
   },
   "outputs": [
    {
     "data": {
      "text/html": [
       "<div>\n",
       "<table border=\"1\" class=\"dataframe\">\n",
       "  <thead>\n",
       "    <tr style=\"text-align: right;\">\n",
       "      <th></th>\n",
       "      <th>ratio_nouns</th>\n",
       "    </tr>\n",
       "    <tr>\n",
       "      <th>id</th>\n",
       "      <th></th>\n",
       "    </tr>\n",
       "  </thead>\n",
       "  <tbody>\n",
       "    <tr>\n",
       "      <th>20128</th>\n",
       "      <td>0.167</td>\n",
       "    </tr>\n",
       "    <tr>\n",
       "      <th>185202</th>\n",
       "      <td>0.500</td>\n",
       "    </tr>\n",
       "    <tr>\n",
       "      <th>107096</th>\n",
       "      <td>0.273</td>\n",
       "    </tr>\n",
       "    <tr>\n",
       "      <th>27940</th>\n",
       "      <td>0.625</td>\n",
       "    </tr>\n",
       "    <tr>\n",
       "      <th>244713</th>\n",
       "      <td>0.333</td>\n",
       "    </tr>\n",
       "  </tbody>\n",
       "</table>\n",
       "</div>"
      ],
      "text/plain": [
       "        ratio_nouns\n",
       "id                 \n",
       "20128         0.167\n",
       "185202        0.500\n",
       "107096        0.273\n",
       "27940         0.625\n",
       "244713        0.333"
      ]
     },
     "execution_count": 76,
     "metadata": {},
     "output_type": "execute_result"
    }
   ],
   "source": [
    "X_train.loc[:,['ratio_nouns']].head()"
   ]
  },
  {
   "cell_type": "code",
   "execution_count": 84,
   "metadata": {
    "collapsed": false
   },
   "outputs": [
    {
     "data": {
      "text/html": [
       "<div>\n",
       "<table border=\"1\" class=\"dataframe\">\n",
       "  <thead>\n",
       "    <tr style=\"text-align: right;\">\n",
       "      <th></th>\n",
       "      <th>is_duplicate</th>\n",
       "    </tr>\n",
       "    <tr>\n",
       "      <th>id</th>\n",
       "      <th></th>\n",
       "    </tr>\n",
       "  </thead>\n",
       "  <tbody>\n",
       "    <tr>\n",
       "      <th>20128</th>\n",
       "      <td>0</td>\n",
       "    </tr>\n",
       "    <tr>\n",
       "      <th>185202</th>\n",
       "      <td>1</td>\n",
       "    </tr>\n",
       "    <tr>\n",
       "      <th>107096</th>\n",
       "      <td>0</td>\n",
       "    </tr>\n",
       "    <tr>\n",
       "      <th>27940</th>\n",
       "      <td>0</td>\n",
       "    </tr>\n",
       "    <tr>\n",
       "      <th>244713</th>\n",
       "      <td>1</td>\n",
       "    </tr>\n",
       "  </tbody>\n",
       "</table>\n",
       "</div>"
      ],
      "text/plain": [
       "        is_duplicate\n",
       "id                  \n",
       "20128              0\n",
       "185202             1\n",
       "107096             0\n",
       "27940              0\n",
       "244713             1"
      ]
     },
     "execution_count": 84,
     "metadata": {},
     "output_type": "execute_result"
    }
   ],
   "source": [
    "y_train.to_frame().head()"
   ]
  },
  {
   "cell_type": "code",
   "execution_count": 237,
   "metadata": {
    "collapsed": true
   },
   "outputs": [],
   "source": [
    "# We will take LogisticRegression as a simple algorithm to establish a baseline\n",
    "from sklearn.linear_model import LogisticRegression\n",
    "import numpy as np"
   ]
  },
  {
   "cell_type": "code",
   "execution_count": 126,
   "metadata": {
    "collapsed": false
   },
   "outputs": [
    {
     "data": {
      "text/plain": [
       "LogisticRegression(C=1.0, class_weight=None, dual=False, fit_intercept=True,\n",
       "          intercept_scaling=1, max_iter=100, multi_class='ovr', n_jobs=1,\n",
       "          penalty='l2', random_state=None, solver='liblinear', tol=0.0001,\n",
       "          verbose=0, warm_start=False)"
      ]
     },
     "execution_count": 126,
     "metadata": {},
     "output_type": "execute_result"
    }
   ],
   "source": [
    "logistic=LogisticRegression()\n",
    "logistic.fit(X_train.loc[:,['ratio_nouns']],y_train)"
   ]
  },
  {
   "cell_type": "code",
   "execution_count": 127,
   "metadata": {
    "collapsed": false
   },
   "outputs": [
    {
     "data": {
      "text/plain": [
       "0.66010014098890113"
      ]
     },
     "execution_count": 127,
     "metadata": {},
     "output_type": "execute_result"
    }
   ],
   "source": [
    "logistic.score(X_train.loc[:,['ratio_nouns']],y_train)\n",
    "# Score using Nouns"
   ]
  },
  {
   "cell_type": "code",
   "execution_count": 283,
   "metadata": {
    "collapsed": false
   },
   "outputs": [
    {
     "data": {
      "text/plain": [
       "0.65786935120829104"
      ]
     },
     "execution_count": 283,
     "metadata": {},
     "output_type": "execute_result"
    }
   ],
   "source": [
    "logistic=LogisticRegression()\n",
    "logistic.fit(XY_train.loc[:,['jacckard_dis']],XY_train['is_duplicate'])\n",
    "logistic.score(X_val.loc[:,['jacckard_dis']],y_val)\n",
    "# Score using all words"
   ]
  },
  {
   "cell_type": "markdown",
   "metadata": {},
   "source": [
    "### Other algorithms"
   ]
  },
  {
   "cell_type": "code",
   "execution_count": 18,
   "metadata": {
    "collapsed": true
   },
   "outputs": [],
   "source": [
    "# Flow: \n",
    "#   train model with a set of hyperparameters\n",
    "#   Obtain score and iterate\n"
   ]
  },
  {
   "cell_type": "markdown",
   "metadata": {},
   "source": [
    "# Run model on test dataset"
   ]
  },
  {
   "cell_type": "code",
   "execution_count": null,
   "metadata": {
    "collapsed": true
   },
   "outputs": [],
   "source": []
  },
  {
   "cell_type": "markdown",
   "metadata": {},
   "source": [
    "# Results"
   ]
  },
  {
   "cell_type": "markdown",
   "metadata": {},
   "source": [
    "Logistic regression + ratio of common nouns = 0.66\n"
   ]
  },
  {
   "cell_type": "markdown",
   "metadata": {
    "collapsed": true
   },
   "source": [
    "## TEST AREA"
   ]
  },
  {
   "cell_type": "code",
   "execution_count": 109,
   "metadata": {
    "collapsed": false
   },
   "outputs": [
    {
     "data": {
      "text/html": [
       "<div>\n",
       "<table border=\"1\" class=\"dataframe\">\n",
       "  <thead>\n",
       "    <tr style=\"text-align: right;\">\n",
       "      <th></th>\n",
       "      <th>question1</th>\n",
       "      <th>question2</th>\n",
       "    </tr>\n",
       "    <tr>\n",
       "      <th>id</th>\n",
       "      <th></th>\n",
       "      <th></th>\n",
       "    </tr>\n",
       "  </thead>\n",
       "  <tbody>\n",
       "    <tr>\n",
       "      <th>5</th>\n",
       "      <td>Astrology: I am a Capricorn Sun Cap moon and cap rising...what does that say about me?</td>\n",
       "      <td>I'm a triple Capricorn (Sun, Moon and ascendant in Capricorn) What does this say about me?</td>\n",
       "    </tr>\n",
       "    <tr>\n",
       "      <th>7</th>\n",
       "      <td>How can I be a good geologist?</td>\n",
       "      <td>What should I do to be a great geologist?</td>\n",
       "    </tr>\n",
       "    <tr>\n",
       "      <th>11</th>\n",
       "      <td>How do I read and find my YouTube comments?</td>\n",
       "      <td>How can I see all my Youtube comments?</td>\n",
       "    </tr>\n",
       "    <tr>\n",
       "      <th>12</th>\n",
       "      <td>What can make Physics easy to learn?</td>\n",
       "      <td>How can you make physics easy to learn?</td>\n",
       "    </tr>\n",
       "    <tr>\n",
       "      <th>13</th>\n",
       "      <td>What was your first sexual experience like?</td>\n",
       "      <td>What was your first sexual experience?</td>\n",
       "    </tr>\n",
       "    <tr>\n",
       "      <th>15</th>\n",
       "      <td>What would a Trump presidency mean for current international master’s students on an F1 visa?</td>\n",
       "      <td>How will a Trump presidency affect the students presently in US or planning to study in US?</td>\n",
       "    </tr>\n",
       "    <tr>\n",
       "      <th>16</th>\n",
       "      <td>What does manipulation mean?</td>\n",
       "      <td>What does manipulation means?</td>\n",
       "    </tr>\n",
       "    <tr>\n",
       "      <th>18</th>\n",
       "      <td>Why are so many Quora users posting questions that are readily answered on Google?</td>\n",
       "      <td>Why do people ask Quora questions which can be answered easily by Google?</td>\n",
       "    </tr>\n",
       "    <tr>\n",
       "      <th>20</th>\n",
       "      <td>Why do rockets look white?</td>\n",
       "      <td>Why are rockets and boosters painted white?</td>\n",
       "    </tr>\n",
       "    <tr>\n",
       "      <th>29</th>\n",
       "      <td>How should I prepare for CA final law?</td>\n",
       "      <td>How one should know that he/she completely prepare for CA final exam?</td>\n",
       "    </tr>\n",
       "    <tr>\n",
       "      <th>31</th>\n",
       "      <td>What are some special cares for someone with a nose that gets stuffy during the night?</td>\n",
       "      <td>How can I keep my nose from getting stuffy at night?</td>\n",
       "    </tr>\n",
       "    <tr>\n",
       "      <th>32</th>\n",
       "      <td>What Game of Thrones villain would be the most likely to give you mercy?</td>\n",
       "      <td>What Game of Thrones villain would you most like to be at the mercy of?</td>\n",
       "    </tr>\n",
       "    <tr>\n",
       "      <th>38</th>\n",
       "      <td>How do we prepare for UPSC?</td>\n",
       "      <td>How do I prepare for civil service?</td>\n",
       "    </tr>\n",
       "    <tr>\n",
       "      <th>48</th>\n",
       "      <td>What are some examples of products that can be make from crude oil?</td>\n",
       "      <td>What are some of the products made from crude oil?</td>\n",
       "    </tr>\n",
       "    <tr>\n",
       "      <th>49</th>\n",
       "      <td>How do I make friends.</td>\n",
       "      <td>How to make friends ?</td>\n",
       "    </tr>\n",
       "    <tr>\n",
       "      <th>50</th>\n",
       "      <td>Is Career Launcher good for RBI Grade B preparation?</td>\n",
       "      <td>How is career launcher online program for RBI Grade B?</td>\n",
       "    </tr>\n",
       "    <tr>\n",
       "      <th>51</th>\n",
       "      <td>Will a Blu Ray play on a regular DVD player? If so, how?</td>\n",
       "      <td>How can you play a Blu Ray DVD on a regular DVD player?</td>\n",
       "    </tr>\n",
       "    <tr>\n",
       "      <th>53</th>\n",
       "      <td>What is the best/most memorable thing you've ever eaten and why?</td>\n",
       "      <td>What is the most delicious dish you've ever eaten and why?</td>\n",
       "    </tr>\n",
       "    <tr>\n",
       "      <th>58</th>\n",
       "      <td>I was suddenly logged off Gmail. I can't remember my Gmail password and just realized the recove...</td>\n",
       "      <td>I can't remember my Gmail password or my recovery email. How can I recover my e-mail?</td>\n",
       "    </tr>\n",
       "    <tr>\n",
       "      <th>62</th>\n",
       "      <td>How is the new Harry Potter book 'Harry Potter and the Cursed Child'?</td>\n",
       "      <td>How bad is the new book by J.K Rowling?</td>\n",
       "    </tr>\n",
       "    <tr>\n",
       "      <th>65</th>\n",
       "      <td>What is Java programming? How To Learn Java Programming Language ?</td>\n",
       "      <td>How do I learn a computer language like java?</td>\n",
       "    </tr>\n",
       "    <tr>\n",
       "      <th>66</th>\n",
       "      <td>What is the best book ever made?</td>\n",
       "      <td>What is the most important book you have ever read?</td>\n",
       "    </tr>\n",
       "    <tr>\n",
       "      <th>67</th>\n",
       "      <td>Can we ever store energy produced in lightning?</td>\n",
       "      <td>Is it possible to store the energy of lightning?</td>\n",
       "    </tr>\n",
       "    <tr>\n",
       "      <th>71</th>\n",
       "      <td>What is a narcissistic personality disorder?</td>\n",
       "      <td>What is narcissistic personality disorder?</td>\n",
       "    </tr>\n",
       "    <tr>\n",
       "      <th>72</th>\n",
       "      <td>How I can speak English fluently?</td>\n",
       "      <td>How can I learn to speak English fluently?</td>\n",
       "    </tr>\n",
       "    <tr>\n",
       "      <th>73</th>\n",
       "      <td>How helpful is QuickBooks' auto data recovery support phone number to recover your corrupted dat...</td>\n",
       "      <td>What is the quickbooks customer support phone number USA?</td>\n",
       "    </tr>\n",
       "    <tr>\n",
       "      <th>74</th>\n",
       "      <td>Who is the richest gambler of all time and how can I reach his level?</td>\n",
       "      <td>Who is the richest gambler of all time and how can I reach his level as a gambler?</td>\n",
       "    </tr>\n",
       "    <tr>\n",
       "      <th>79</th>\n",
       "      <td>What is purpose of life?</td>\n",
       "      <td>What's the purpose of life? What is life actually about?</td>\n",
       "    </tr>\n",
       "    <tr>\n",
       "      <th>84</th>\n",
       "      <td>What are some of the high salary income jobs in the field of biotechnology?</td>\n",
       "      <td>What are some high paying jobs for a fresher with an M.Tech in biotechnology?</td>\n",
       "    </tr>\n",
       "    <tr>\n",
       "      <th>85</th>\n",
       "      <td>How can I increase my height after 21 also?</td>\n",
       "      <td>Can height increase after 25?</td>\n",
       "    </tr>\n",
       "    <tr>\n",
       "      <th>...</th>\n",
       "      <td>...</td>\n",
       "      <td>...</td>\n",
       "    </tr>\n",
       "    <tr>\n",
       "      <th>404208</th>\n",
       "      <td>What was the main cause of World War One?</td>\n",
       "      <td>What is the real reason for World War One?</td>\n",
       "    </tr>\n",
       "    <tr>\n",
       "      <th>404215</th>\n",
       "      <td>What is it like to work with Aaron Sorkin?</td>\n",
       "      <td>What's it like to work with Aaron Sorkin?</td>\n",
       "    </tr>\n",
       "    <tr>\n",
       "      <th>404216</th>\n",
       "      <td>What are your new year resolutions for 2017?</td>\n",
       "      <td>What will be your new year resolution for 2017 and your plan of execution?</td>\n",
       "    </tr>\n",
       "    <tr>\n",
       "      <th>404218</th>\n",
       "      <td>What are requirements to become a ethical hacker?</td>\n",
       "      <td>How do I become a ethical hacker?</td>\n",
       "    </tr>\n",
       "    <tr>\n",
       "      <th>404220</th>\n",
       "      <td>What book should you read before you die?</td>\n",
       "      <td>Can anyone enlist the 'must read' books before you die?</td>\n",
       "    </tr>\n",
       "    <tr>\n",
       "      <th>404221</th>\n",
       "      <td>Will international college students be negatively affected if Trump becomes president?</td>\n",
       "      <td>Will the Trump factor affect the admission of international students in the USA?</td>\n",
       "    </tr>\n",
       "    <tr>\n",
       "      <th>404224</th>\n",
       "      <td>How do I improve my English language?</td>\n",
       "      <td>How can I increase my English fluency?</td>\n",
       "    </tr>\n",
       "    <tr>\n",
       "      <th>404227</th>\n",
       "      <td>How does Russian politics affect Australia and New Zealand?</td>\n",
       "      <td>How do Russian politics and geostrategy affect Australia and New Zealand?</td>\n",
       "    </tr>\n",
       "    <tr>\n",
       "      <th>404231</th>\n",
       "      <td>Is Klopp overrated?</td>\n",
       "      <td>Is Jurgen Klopp an overrated manager?</td>\n",
       "    </tr>\n",
       "    <tr>\n",
       "      <th>404240</th>\n",
       "      <td>How do you build your own computer?</td>\n",
       "      <td>How do I start building a computer?</td>\n",
       "    </tr>\n",
       "    <tr>\n",
       "      <th>404241</th>\n",
       "      <td>How can I get into a good college?</td>\n",
       "      <td>How do I get into a really good college?</td>\n",
       "    </tr>\n",
       "    <tr>\n",
       "      <th>404242</th>\n",
       "      <td>How do I overcome my pornography addiction?</td>\n",
       "      <td>How did you overcome porn addiction?</td>\n",
       "    </tr>\n",
       "    <tr>\n",
       "      <th>404243</th>\n",
       "      <td>How does Quora determine how many views an answer gets?</td>\n",
       "      <td>How are the number of views on Quora counted?</td>\n",
       "    </tr>\n",
       "    <tr>\n",
       "      <th>404244</th>\n",
       "      <td>What GMAT self-prep book is the best for the test?</td>\n",
       "      <td>Which is the best GMAT self-prep book for 2016?</td>\n",
       "    </tr>\n",
       "    <tr>\n",
       "      <th>404247</th>\n",
       "      <td>Among Bollywood stars, which actor or actress does too much over acting?</td>\n",
       "      <td>Who are some Bollywood actors and actresses who are known for over acting?</td>\n",
       "    </tr>\n",
       "    <tr>\n",
       "      <th>404249</th>\n",
       "      <td>Should I stop using pornography as a masturbatory aid?</td>\n",
       "      <td>Should I permanently let go of looking at, viewing or watching pornography and using it as a mas...</td>\n",
       "    </tr>\n",
       "    <tr>\n",
       "      <th>404257</th>\n",
       "      <td>What is Bitcoin? Is it legal in India?</td>\n",
       "      <td>Is Bitcoin legal in India?</td>\n",
       "    </tr>\n",
       "    <tr>\n",
       "      <th>404258</th>\n",
       "      <td>What is the difference between a psychologist and a psychiatrist?”?</td>\n",
       "      <td>What is the difference between psychologist and psychatist?</td>\n",
       "    </tr>\n",
       "    <tr>\n",
       "      <th>404259</th>\n",
       "      <td>What do you think is wrong with Indian schools and education?</td>\n",
       "      <td>What is wrong with the current indian education?</td>\n",
       "    </tr>\n",
       "    <tr>\n",
       "      <th>404261</th>\n",
       "      <td>Who is the overall most popular Game of Thrones character?</td>\n",
       "      <td>Who is the most popular character in the Game of Thrones series?</td>\n",
       "    </tr>\n",
       "    <tr>\n",
       "      <th>404265</th>\n",
       "      <td>How can I gain weight on my body?</td>\n",
       "      <td>What should I eat to gain weight?</td>\n",
       "    </tr>\n",
       "    <tr>\n",
       "      <th>404267</th>\n",
       "      <td>What are the causes of the fall of the Roman Empire?</td>\n",
       "      <td>What were the most important causes and effects of the fall of the Roman Empire?</td>\n",
       "    </tr>\n",
       "    <tr>\n",
       "      <th>404272</th>\n",
       "      <td>What are the best new car products or inventions that most people don't know about?</td>\n",
       "      <td>What are some mind-blowing vehicles tools that exist that most people don't know about?</td>\n",
       "    </tr>\n",
       "    <tr>\n",
       "      <th>404273</th>\n",
       "      <td>What happens if you put milk in a coffee maker?</td>\n",
       "      <td>What would happen if I put milk instead of water in my automatic drip coffee maker?</td>\n",
       "    </tr>\n",
       "    <tr>\n",
       "      <th>404274</th>\n",
       "      <td>Will the next generation of parenting change or stay the same?</td>\n",
       "      <td>What kind of parents will the next generation have?</td>\n",
       "    </tr>\n",
       "    <tr>\n",
       "      <th>404280</th>\n",
       "      <td>What are some outfit ideas to wear to a frat party?</td>\n",
       "      <td>What are some outfit ideas wear to a frat themed party?</td>\n",
       "    </tr>\n",
       "    <tr>\n",
       "      <th>404281</th>\n",
       "      <td>Why is Manaphy childish in Pokémon Ranger and the Temple of the Sea?</td>\n",
       "      <td>Why is Manaphy annoying in Pokemon ranger and the temple of the sea?</td>\n",
       "    </tr>\n",
       "    <tr>\n",
       "      <th>404282</th>\n",
       "      <td>How does a long distance relationship work?</td>\n",
       "      <td>How are long distance relationships maintained?</td>\n",
       "    </tr>\n",
       "    <tr>\n",
       "      <th>404284</th>\n",
       "      <td>What does Jainism say about homosexuality?</td>\n",
       "      <td>What does Jainism say about Gays and Homosexuality?</td>\n",
       "    </tr>\n",
       "    <tr>\n",
       "      <th>404286</th>\n",
       "      <td>Do you believe there is life after death?</td>\n",
       "      <td>Is it true that there is life after death?</td>\n",
       "    </tr>\n",
       "  </tbody>\n",
       "</table>\n",
       "<p>149263 rows × 2 columns</p>\n",
       "</div>"
      ],
      "text/plain": [
       "                                                                                                  question1  \\\n",
       "id                                                                                                            \n",
       "5                    Astrology: I am a Capricorn Sun Cap moon and cap rising...what does that say about me?   \n",
       "7                                                                            How can I be a good geologist?   \n",
       "11                                                              How do I read and find my YouTube comments?   \n",
       "12                                                                     What can make Physics easy to learn?   \n",
       "13                                                              What was your first sexual experience like?   \n",
       "15            What would a Trump presidency mean for current international master’s students on an F1 visa?   \n",
       "16                                                                             What does manipulation mean?   \n",
       "18                       Why are so many Quora users posting questions that are readily answered on Google?   \n",
       "20                                                                               Why do rockets look white?   \n",
       "29                                                                   How should I prepare for CA final law?   \n",
       "31                   What are some special cares for someone with a nose that gets stuffy during the night?   \n",
       "32                                 What Game of Thrones villain would be the most likely to give you mercy?   \n",
       "38                                                                              How do we prepare for UPSC?   \n",
       "48                                      What are some examples of products that can be make from crude oil?   \n",
       "49                                                                                   How do I make friends.   \n",
       "50                                                     Is Career Launcher good for RBI Grade B preparation?   \n",
       "51                                                 Will a Blu Ray play on a regular DVD player? If so, how?   \n",
       "53                                         What is the best/most memorable thing you've ever eaten and why?   \n",
       "58      I was suddenly logged off Gmail. I can't remember my Gmail password and just realized the recove...   \n",
       "62                                    How is the new Harry Potter book 'Harry Potter and the Cursed Child'?   \n",
       "65                                       What is Java programming? How To Learn Java Programming Language ?   \n",
       "66                                                                         What is the best book ever made?   \n",
       "67                                                          Can we ever store energy produced in lightning?   \n",
       "71                                                             What is a narcissistic personality disorder?   \n",
       "72                                                                        How I can speak English fluently?   \n",
       "73      How helpful is QuickBooks' auto data recovery support phone number to recover your corrupted dat...   \n",
       "74                                    Who is the richest gambler of all time and how can I reach his level?   \n",
       "79                                                                                 What is purpose of life?   \n",
       "84                              What are some of the high salary income jobs in the field of biotechnology?   \n",
       "85                                                              How can I increase my height after 21 also?   \n",
       "...                                                                                                     ...   \n",
       "404208                                                            What was the main cause of World War One?   \n",
       "404215                                                           What is it like to work with Aaron Sorkin?   \n",
       "404216                                                         What are your new year resolutions for 2017?   \n",
       "404218                                                    What are requirements to become a ethical hacker?   \n",
       "404220                                                            What book should you read before you die?   \n",
       "404221               Will international college students be negatively affected if Trump becomes president?   \n",
       "404224                                                                How do I improve my English language?   \n",
       "404227                                          How does Russian politics affect Australia and New Zealand?   \n",
       "404231                                                                                  Is Klopp overrated?   \n",
       "404240                                                                  How do you build your own computer?   \n",
       "404241                                                                   How can I get into a good college?   \n",
       "404242                                                          How do I overcome my pornography addiction?   \n",
       "404243                                              How does Quora determine how many views an answer gets?   \n",
       "404244                                                   What GMAT self-prep book is the best for the test?   \n",
       "404247                             Among Bollywood stars, which actor or actress does too much over acting?   \n",
       "404249                                               Should I stop using pornography as a masturbatory aid?   \n",
       "404257                                                               What is Bitcoin? Is it legal in India?   \n",
       "404258                                  What is the difference between a psychologist and a psychiatrist?”?   \n",
       "404259                                        What do you think is wrong with Indian schools and education?   \n",
       "404261                                           Who is the overall most popular Game of Thrones character?   \n",
       "404265                                                                    How can I gain weight on my body?   \n",
       "404267                                                 What are the causes of the fall of the Roman Empire?   \n",
       "404272                  What are the best new car products or inventions that most people don't know about?   \n",
       "404273                                                      What happens if you put milk in a coffee maker?   \n",
       "404274                                       Will the next generation of parenting change or stay the same?   \n",
       "404280                                                  What are some outfit ideas to wear to a frat party?   \n",
       "404281                                 Why is Manaphy childish in Pokémon Ranger and the Temple of the Sea?   \n",
       "404282                                                          How does a long distance relationship work?   \n",
       "404284                                                           What does Jainism say about homosexuality?   \n",
       "404286                                                            Do you believe there is life after death?   \n",
       "\n",
       "                                                                                                  question2  \n",
       "id                                                                                                           \n",
       "5                I'm a triple Capricorn (Sun, Moon and ascendant in Capricorn) What does this say about me?  \n",
       "7                                                                 What should I do to be a great geologist?  \n",
       "11                                                                   How can I see all my Youtube comments?  \n",
       "12                                                                  How can you make physics easy to learn?  \n",
       "13                                                                   What was your first sexual experience?  \n",
       "15              How will a Trump presidency affect the students presently in US or planning to study in US?  \n",
       "16                                                                            What does manipulation means?  \n",
       "18                                Why do people ask Quora questions which can be answered easily by Google?  \n",
       "20                                                              Why are rockets and boosters painted white?  \n",
       "29                                    How one should know that he/she completely prepare for CA final exam?  \n",
       "31                                                     How can I keep my nose from getting stuffy at night?  \n",
       "32                                  What Game of Thrones villain would you most like to be at the mercy of?  \n",
       "38                                                                      How do I prepare for civil service?  \n",
       "48                                                       What are some of the products made from crude oil?  \n",
       "49                                                                                    How to make friends ?  \n",
       "50                                                   How is career launcher online program for RBI Grade B?  \n",
       "51                                                  How can you play a Blu Ray DVD on a regular DVD player?  \n",
       "53                                               What is the most delicious dish you've ever eaten and why?  \n",
       "58                    I can't remember my Gmail password or my recovery email. How can I recover my e-mail?  \n",
       "62                                                                  How bad is the new book by J.K Rowling?  \n",
       "65                                                            How do I learn a computer language like java?  \n",
       "66                                                      What is the most important book you have ever read?  \n",
       "67                                                         Is it possible to store the energy of lightning?  \n",
       "71                                                               What is narcissistic personality disorder?  \n",
       "72                                                               How can I learn to speak English fluently?  \n",
       "73                                                What is the quickbooks customer support phone number USA?  \n",
       "74                       Who is the richest gambler of all time and how can I reach his level as a gambler?  \n",
       "79                                                 What's the purpose of life? What is life actually about?  \n",
       "84                            What are some high paying jobs for a fresher with an M.Tech in biotechnology?  \n",
       "85                                                                            Can height increase after 25?  \n",
       "...                                                                                                     ...  \n",
       "404208                                                           What is the real reason for World War One?  \n",
       "404215                                                            What's it like to work with Aaron Sorkin?  \n",
       "404216                           What will be your new year resolution for 2017 and your plan of execution?  \n",
       "404218                                                                    How do I become a ethical hacker?  \n",
       "404220                                              Can anyone enlist the 'must read' books before you die?  \n",
       "404221                     Will the Trump factor affect the admission of international students in the USA?  \n",
       "404224                                                               How can I increase my English fluency?  \n",
       "404227                            How do Russian politics and geostrategy affect Australia and New Zealand?  \n",
       "404231                                                                Is Jurgen Klopp an overrated manager?  \n",
       "404240                                                                  How do I start building a computer?  \n",
       "404241                                                             How do I get into a really good college?  \n",
       "404242                                                                 How did you overcome porn addiction?  \n",
       "404243                                                        How are the number of views on Quora counted?  \n",
       "404244                                                      Which is the best GMAT self-prep book for 2016?  \n",
       "404247                           Who are some Bollywood actors and actresses who are known for over acting?  \n",
       "404249  Should I permanently let go of looking at, viewing or watching pornography and using it as a mas...  \n",
       "404257                                                                           Is Bitcoin legal in India?  \n",
       "404258                                          What is the difference between psychologist and psychatist?  \n",
       "404259                                                     What is wrong with the current indian education?  \n",
       "404261                                     Who is the most popular character in the Game of Thrones series?  \n",
       "404265                                                                    What should I eat to gain weight?  \n",
       "404267                     What were the most important causes and effects of the fall of the Roman Empire?  \n",
       "404272              What are some mind-blowing vehicles tools that exist that most people don't know about?  \n",
       "404273                  What would happen if I put milk instead of water in my automatic drip coffee maker?  \n",
       "404274                                                  What kind of parents will the next generation have?  \n",
       "404280                                              What are some outfit ideas wear to a frat themed party?  \n",
       "404281                                 Why is Manaphy annoying in Pokemon ranger and the temple of the sea?  \n",
       "404282                                                      How are long distance relationships maintained?  \n",
       "404284                                                  What does Jainism say about Gays and Homosexuality?  \n",
       "404286                                                           Is it true that there is life after death?  \n",
       "\n",
       "[149263 rows x 2 columns]"
      ]
     },
     "execution_count": 109,
     "metadata": {},
     "output_type": "execute_result"
    }
   ],
   "source": [
    "df_o[df_o['is_duplicate']==1][['question1','question2']]"
   ]
  },
  {
   "cell_type": "code",
   "execution_count": null,
   "metadata": {
    "collapsed": true
   },
   "outputs": [],
   "source": []
  }
 ],
 "metadata": {
  "anaconda-cloud": {},
  "kernelspec": {
   "display_name": "Python [default]",
   "language": "python",
   "name": "python3"
  },
  "language_info": {
   "codemirror_mode": {
    "name": "ipython",
    "version": 3
   },
   "file_extension": ".py",
   "mimetype": "text/x-python",
   "name": "python",
   "nbconvert_exporter": "python",
   "pygments_lexer": "ipython3",
   "version": "3.5.2"
  }
 },
 "nbformat": 4,
 "nbformat_minor": 1
}
