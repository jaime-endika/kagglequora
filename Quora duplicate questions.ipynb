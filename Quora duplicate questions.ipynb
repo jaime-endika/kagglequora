{
 "cells": [
  {
   "cell_type": "markdown",
   "metadata": {},
   "source": [
    "# Importing and inspecting the data"
   ]
  },
  {
   "cell_type": "markdown",
   "metadata": {},
   "source": [
    "We will start by importing the dataset"
   ]
  },
  {
   "cell_type": "code",
   "execution_count": 89,
   "metadata": {
    "collapsed": false
   },
   "outputs": [
    {
     "data": {
      "text/plain": [
       "0    63.08\n",
       "1    36.92\n",
       "Name: is_duplicate, dtype: float64"
      ]
     },
     "execution_count": 89,
     "metadata": {},
     "output_type": "execute_result"
    }
   ],
   "source": [
    "import pandas as pd\n",
    "import numpy as np\n",
    "# Set environment\n",
    "pd.set_option('max_colwidth', 100)\n",
    "pd.set_option('precision', 3)\n",
    "# Read data\n",
    "df_o=pd.read_csv('./data/train.csv',dtype={'question1':str,'question2':str},index_col='id')\n",
    "\n",
    "df_o['is_duplicate'].value_counts(normalize=True)*100"
   ]
  },
  {
   "cell_type": "code",
   "execution_count": 90,
   "metadata": {
    "collapsed": false
   },
   "outputs": [
    {
     "data": {
      "text/plain": [
       "(404290, 5)"
      ]
     },
     "execution_count": 90,
     "metadata": {},
     "output_type": "execute_result"
    }
   ],
   "source": [
    "df_o.shape"
   ]
  },
  {
   "cell_type": "code",
   "execution_count": 91,
   "metadata": {
    "collapsed": false,
    "scrolled": true
   },
   "outputs": [
    {
     "data": {
      "text/plain": [
       "qid1             int64\n",
       "qid2             int64\n",
       "question1       object\n",
       "question2       object\n",
       "is_duplicate     int64\n",
       "dtype: object"
      ]
     },
     "execution_count": 91,
     "metadata": {},
     "output_type": "execute_result"
    }
   ],
   "source": [
    "df_o.dtypes"
   ]
  },
  {
   "cell_type": "code",
   "execution_count": 92,
   "metadata": {
    "collapsed": true
   },
   "outputs": [],
   "source": [
    "df_o.drop_duplicates(inplace=True)\n",
    "df_o.dropna(how='any',inplace=True)"
   ]
  },
  {
   "cell_type": "code",
   "execution_count": 132,
   "metadata": {
    "collapsed": false
   },
   "outputs": [],
   "source": [
    "df_o['question1']=df_o['question1'].astype('str')\n",
    "df_o['question2']=df_o['question2'].astype('str')"
   ]
  },
  {
   "cell_type": "code",
   "execution_count": 93,
   "metadata": {
    "collapsed": false
   },
   "outputs": [
    {
     "data": {
      "text/html": [
       "<div>\n",
       "<table border=\"1\" class=\"dataframe\">\n",
       "  <thead>\n",
       "    <tr style=\"text-align: right;\">\n",
       "      <th></th>\n",
       "      <th>qid1</th>\n",
       "      <th>qid2</th>\n",
       "      <th>question1</th>\n",
       "      <th>question2</th>\n",
       "      <th>is_duplicate</th>\n",
       "    </tr>\n",
       "    <tr>\n",
       "      <th>id</th>\n",
       "      <th></th>\n",
       "      <th></th>\n",
       "      <th></th>\n",
       "      <th></th>\n",
       "      <th></th>\n",
       "    </tr>\n",
       "  </thead>\n",
       "  <tbody>\n",
       "    <tr>\n",
       "      <th>0</th>\n",
       "      <td>1</td>\n",
       "      <td>2</td>\n",
       "      <td>What is the step by step guide to invest in share market in india?</td>\n",
       "      <td>What is the step by step guide to invest in share market?</td>\n",
       "      <td>0</td>\n",
       "    </tr>\n",
       "    <tr>\n",
       "      <th>1</th>\n",
       "      <td>3</td>\n",
       "      <td>4</td>\n",
       "      <td>What is the story of Kohinoor (Koh-i-Noor) Diamond?</td>\n",
       "      <td>What would happen if the Indian government stole the Kohinoor (Koh-i-Noor) diamond back?</td>\n",
       "      <td>0</td>\n",
       "    </tr>\n",
       "    <tr>\n",
       "      <th>2</th>\n",
       "      <td>5</td>\n",
       "      <td>6</td>\n",
       "      <td>How can I increase the speed of my internet connection while using a VPN?</td>\n",
       "      <td>How can Internet speed be increased by hacking through DNS?</td>\n",
       "      <td>0</td>\n",
       "    </tr>\n",
       "    <tr>\n",
       "      <th>3</th>\n",
       "      <td>7</td>\n",
       "      <td>8</td>\n",
       "      <td>Why am I mentally very lonely? How can I solve it?</td>\n",
       "      <td>Find the remainder when [math]23^{24}[/math] is divided by 24,23?</td>\n",
       "      <td>0</td>\n",
       "    </tr>\n",
       "    <tr>\n",
       "      <th>4</th>\n",
       "      <td>9</td>\n",
       "      <td>10</td>\n",
       "      <td>Which one dissolve in water quikly sugar, salt, methane and carbon di oxide?</td>\n",
       "      <td>Which fish would survive in salt water?</td>\n",
       "      <td>0</td>\n",
       "    </tr>\n",
       "  </tbody>\n",
       "</table>\n",
       "</div>"
      ],
      "text/plain": [
       "    qid1  qid2  \\\n",
       "id               \n",
       "0      1     2   \n",
       "1      3     4   \n",
       "2      5     6   \n",
       "3      7     8   \n",
       "4      9    10   \n",
       "\n",
       "                                                                       question1  \\\n",
       "id                                                                                 \n",
       "0             What is the step by step guide to invest in share market in india?   \n",
       "1                            What is the story of Kohinoor (Koh-i-Noor) Diamond?   \n",
       "2      How can I increase the speed of my internet connection while using a VPN?   \n",
       "3                             Why am I mentally very lonely? How can I solve it?   \n",
       "4   Which one dissolve in water quikly sugar, salt, methane and carbon di oxide?   \n",
       "\n",
       "                                                                                   question2  \\\n",
       "id                                                                                             \n",
       "0                                  What is the step by step guide to invest in share market?   \n",
       "1   What would happen if the Indian government stole the Kohinoor (Koh-i-Noor) diamond back?   \n",
       "2                                How can Internet speed be increased by hacking through DNS?   \n",
       "3                          Find the remainder when [math]23^{24}[/math] is divided by 24,23?   \n",
       "4                                                    Which fish would survive in salt water?   \n",
       "\n",
       "    is_duplicate  \n",
       "id                \n",
       "0              0  \n",
       "1              0  \n",
       "2              0  \n",
       "3              0  \n",
       "4              0  "
      ]
     },
     "execution_count": 93,
     "metadata": {},
     "output_type": "execute_result"
    }
   ],
   "source": [
    "df_o.head()"
   ]
  },
  {
   "cell_type": "markdown",
   "metadata": {},
   "source": [
    "## Split data"
   ]
  },
  {
   "cell_type": "code",
   "execution_count": 134,
   "metadata": {
    "collapsed": false
   },
   "outputs": [
    {
     "data": {
      "text/plain": [
       "(283001, 4)"
      ]
     },
     "execution_count": 134,
     "metadata": {},
     "output_type": "execute_result"
    }
   ],
   "source": [
    "# Split dataset in training and validation dataset, 70/30\n",
    "# Test dataset provided will not be used until the end, so it can be used for final validation\n",
    "from sklearn.cross_validation import train_test_split\n",
    "TEST_SIZE = 0.3\n",
    "X_train, X_val, y_train, y_val = train_test_split(df_o.loc[:,'qid1':'question2'], df_o.loc[:,'is_duplicate'], test_size=TEST_SIZE, random_state=42)\n",
    "X_train.shape\n"
   ]
  },
  {
   "cell_type": "markdown",
   "metadata": {
    "collapsed": true
   },
   "source": [
    "# Generate features\n",
    "\n",
    "Some ideas to work on:\n",
    "1. Question lenght in words\n",
    "2. Shared words\n",
    "3. Use tf-idf to identify specific words on each pairs\n",
    "4. Is question clause the same?\n",
    "5. Syntax similarity: POS tags?\n",
    "6. Shared synonims (all words or just the key words- verb, object)\n",
    "7. Similarity of key words: wordnet/synnet similarity score"
   ]
  },
  {
   "cell_type": "code",
   "execution_count": 12,
   "metadata": {
    "collapsed": true
   },
   "outputs": [],
   "source": [
    "# Clean up functions\n",
    "# Remove stopwords\n",
    "from nltk.corpus import stopwords\n",
    "from nltk import tokenize\n",
    "\n",
    "from nltk.corpus import stopwords\n",
    "import string\n",
    "\n",
    "def clean_text(s,lower=False):\n",
    "    \"\"\" Tokenize text and remove stop words and punctuation\n",
    "        s: string to clean\n",
    "        lower: Boolean if text should be converted to lower case\n",
    "    \"\"\"\n",
    "    \n",
    "    tok=tokenize.word_tokenize(s)\n",
    "    if (lower):\n",
    "        s_nostop=[w.lower() for w in tok if w not in stopwords.words('english')]\n",
    "    else:\n",
    "        s_nostop=[w for w in tok if w not in stopwords.words('english')]\n",
    "    punct=set(string.punctuation)\n",
    "    s_nopunct=[w for w in s_nostop if w not in punct]\n",
    "    return s_nopunct\n",
    "    \n"
   ]
  },
  {
   "cell_type": "markdown",
   "metadata": {},
   "source": [
    "#### Feature: different length in words"
   ]
  },
  {
   "cell_type": "code",
   "execution_count": 126,
   "metadata": {
    "collapsed": false
   },
   "outputs": [],
   "source": [
    "def n_words(s):\n",
    "    return(len(s.split()))"
   ]
  },
  {
   "cell_type": "code",
   "execution_count": 149,
   "metadata": {
    "collapsed": false
   },
   "outputs": [],
   "source": [
    "X_train['len1']=X_train['question1'].apply(n_words)"
   ]
  },
  {
   "cell_type": "code",
   "execution_count": 150,
   "metadata": {
    "collapsed": false
   },
   "outputs": [],
   "source": [
    "X_train['len2']=X_train['question2'].apply(n_words)"
   ]
  },
  {
   "cell_type": "code",
   "execution_count": 152,
   "metadata": {
    "collapsed": false
   },
   "outputs": [],
   "source": [
    "X_train['dif_len']=X_train['len1']-X_train['len2']"
   ]
  },
  {
   "cell_type": "code",
   "execution_count": 153,
   "metadata": {
    "collapsed": false
   },
   "outputs": [],
   "source": [
    "X_train['dif_len']=X_train['dif_len'].apply(abs)"
   ]
  },
  {
   "cell_type": "code",
   "execution_count": 156,
   "metadata": {
    "collapsed": false
   },
   "outputs": [
    {
     "data": {
      "text/html": [
       "<div>\n",
       "<table border=\"1\" class=\"dataframe\">\n",
       "  <thead>\n",
       "    <tr style=\"text-align: right;\">\n",
       "      <th></th>\n",
       "      <th>qid1</th>\n",
       "      <th>qid2</th>\n",
       "      <th>question1</th>\n",
       "      <th>question2</th>\n",
       "      <th>dif_len</th>\n",
       "    </tr>\n",
       "    <tr>\n",
       "      <th>id</th>\n",
       "      <th></th>\n",
       "      <th></th>\n",
       "      <th></th>\n",
       "      <th></th>\n",
       "      <th></th>\n",
       "    </tr>\n",
       "  </thead>\n",
       "  <tbody>\n",
       "    <tr>\n",
       "      <th>20128</th>\n",
       "      <td>37998</td>\n",
       "      <td>37999</td>\n",
       "      <td>How is the working environment at SBI Life, Mumbai?</td>\n",
       "      <td>How stressful is work of SBI clerk?</td>\n",
       "      <td>2</td>\n",
       "    </tr>\n",
       "    <tr>\n",
       "      <th>185202</th>\n",
       "      <td>282774</td>\n",
       "      <td>282775</td>\n",
       "      <td>What kinds of questions should I expect on the IBM CAT/IPAT?</td>\n",
       "      <td>What kinds of questions should I expect on the IBM IPAT?</td>\n",
       "      <td>0</td>\n",
       "    </tr>\n",
       "    <tr>\n",
       "      <th>107096</th>\n",
       "      <td>176275</td>\n",
       "      <td>176276</td>\n",
       "      <td>On WhatsApp, it says on the message info that the message has been read with 2 blue ticks and no...</td>\n",
       "      <td>My friend is abroad and I have sent him messages. There is one grey tick next to the messages I ...</td>\n",
       "      <td>15</td>\n",
       "    </tr>\n",
       "    <tr>\n",
       "      <th>27940</th>\n",
       "      <td>51849</td>\n",
       "      <td>51850</td>\n",
       "      <td>How do the holy scriptures of Hinduism compare and contrast to those of Taoism?</td>\n",
       "      <td>How do the holy scriptures of Hinduism compare and contrast to those of Italo-Roman paganism?</td>\n",
       "      <td>1</td>\n",
       "    </tr>\n",
       "    <tr>\n",
       "      <th>244713</th>\n",
       "      <td>357399</td>\n",
       "      <td>357400</td>\n",
       "      <td>Does beard transplantation really work?</td>\n",
       "      <td>Is beard transplantation worthy?</td>\n",
       "      <td>1</td>\n",
       "    </tr>\n",
       "  </tbody>\n",
       "</table>\n",
       "</div>"
      ],
      "text/plain": [
       "          qid1    qid2  \\\n",
       "id                       \n",
       "20128    37998   37999   \n",
       "185202  282774  282775   \n",
       "107096  176275  176276   \n",
       "27940    51849   51850   \n",
       "244713  357399  357400   \n",
       "\n",
       "                                                                                                  question1  \\\n",
       "id                                                                                                            \n",
       "20128                                                   How is the working environment at SBI Life, Mumbai?   \n",
       "185202                                         What kinds of questions should I expect on the IBM CAT/IPAT?   \n",
       "107096  On WhatsApp, it says on the message info that the message has been read with 2 blue ticks and no...   \n",
       "27940                       How do the holy scriptures of Hinduism compare and contrast to those of Taoism?   \n",
       "244713                                                              Does beard transplantation really work?   \n",
       "\n",
       "                                                                                                  question2  \\\n",
       "id                                                                                                            \n",
       "20128                                                                   How stressful is work of SBI clerk?   \n",
       "185202                                             What kinds of questions should I expect on the IBM IPAT?   \n",
       "107096  My friend is abroad and I have sent him messages. There is one grey tick next to the messages I ...   \n",
       "27940         How do the holy scriptures of Hinduism compare and contrast to those of Italo-Roman paganism?   \n",
       "244713                                                                     Is beard transplantation worthy?   \n",
       "\n",
       "        dif_len  \n",
       "id               \n",
       "20128         2  \n",
       "185202        0  \n",
       "107096       15  \n",
       "27940         1  \n",
       "244713        1  "
      ]
     },
     "execution_count": 156,
     "metadata": {},
     "output_type": "execute_result"
    }
   ],
   "source": [
    "X_train.drop('len1',1,inplace=True)\n",
    "X_train.drop('len2',1,inplace=True)\n",
    "X_train.head()"
   ]
  },
  {
   "cell_type": "markdown",
   "metadata": {
    "collapsed": true
   },
   "source": [
    "#### Feature: Number of common words"
   ]
  },
  {
   "cell_type": "code",
   "execution_count": null,
   "metadata": {
    "collapsed": true
   },
   "outputs": [],
   "source": []
  },
  {
   "cell_type": "markdown",
   "metadata": {},
   "source": [
    "#### Feature: Use tf-idf with cosine similarity\n",
    "The approach is to identify \"vectorize\" the strings using tf idf and then find the similarity between the two.\n",
    "This feature will produce a number between the 2 sentences that will represent how close they are between each other\n"
   ]
  },
  {
   "cell_type": "code",
   "execution_count": 459,
   "metadata": {
    "collapsed": false
   },
   "outputs": [],
   "source": [
    "\n",
    "\n",
    "# Function to determine the tf idf of a list of strings\n",
    "\n",
    "from sklearn.feature_extraction.text import TfidfVectorizer\n",
    "def tfidf(l1, l2):\n",
    "    # \n",
    "    result=[]\n",
    "    for X in zip(l1,l2):\n",
    "        tfidf_matrix = []\n",
    "        tfidf_vect=TfidfVectorizer()\n",
    "        tfidf_sparse=tfidf_vect.fit_transform(X)\n",
    "        tfidf_matrix=tfidf_sparse.todense()\n",
    "        #print (tfidf_matrix,\"*****\")\n",
    "        cosine_distance=cos_sim(tfidf_matrix)\n",
    "        result.append(cosine_distance)\n",
    "    return result\n",
    "\n",
    "# function to identify the cosine similarity between 2 vectors\n",
    "import sklearn.metrics.pairwise as metrics\n",
    "def cos_sim(m):\n",
    "    cos=metrics.cosine_similarity(m[0],m[1])[0,0]\n",
    "    return cos"
   ]
  },
  {
   "cell_type": "code",
   "execution_count": 339,
   "metadata": {
    "collapsed": false
   },
   "outputs": [],
   "source": [
    "from sklearn.feature_extraction.text import TfidfVectorizer\n",
    "tfidf_vect=TfidfVectorizer(stop_words='english')\n",
    "tfidf_list=tfidf_vect.fit_transform(X_train['question1']).toarray()"
   ]
  },
  {
   "cell_type": "code",
   "execution_count": 338,
   "metadata": {
    "collapsed": false
   },
   "outputs": [],
   "source": [
    "q1_list=X_train['question1'].tolist()\n",
    "q2_list=X_train['question2'].tolist()"
   ]
  },
  {
   "cell_type": "code",
   "execution_count": 482,
   "metadata": {
    "collapsed": false
   },
   "outputs": [],
   "source": [
    "tfidf_cos=tfidf(q1_list[:],q2_list[:])"
   ]
  },
  {
   "cell_type": "code",
   "execution_count": 483,
   "metadata": {
    "collapsed": false
   },
   "outputs": [
    {
     "data": {
      "text/plain": [
       "list"
      ]
     },
     "execution_count": 483,
     "metadata": {},
     "output_type": "execute_result"
    }
   ],
   "source": [
    "type(tfidf_cos)"
   ]
  },
  {
   "cell_type": "code",
   "execution_count": 490,
   "metadata": {
    "collapsed": false
   },
   "outputs": [],
   "source": [
    "X_train.ix[:,'tfidf_cos']=pd.Series(tfidf_cos)"
   ]
  },
  {
   "cell_type": "code",
   "execution_count": 494,
   "metadata": {
    "collapsed": false
   },
   "outputs": [
    {
     "data": {
      "text/html": [
       "<div>\n",
       "<table border=\"1\" class=\"dataframe\">\n",
       "  <thead>\n",
       "    <tr style=\"text-align: right;\">\n",
       "      <th></th>\n",
       "      <th>qid1</th>\n",
       "      <th>qid2</th>\n",
       "      <th>question1</th>\n",
       "      <th>question2</th>\n",
       "      <th>tfidf_cos</th>\n",
       "    </tr>\n",
       "    <tr>\n",
       "      <th>id</th>\n",
       "      <th></th>\n",
       "      <th></th>\n",
       "      <th></th>\n",
       "      <th></th>\n",
       "      <th></th>\n",
       "    </tr>\n",
       "  </thead>\n",
       "  <tbody>\n",
       "    <tr>\n",
       "      <th>20128</th>\n",
       "      <td>37998</td>\n",
       "      <td>37999</td>\n",
       "      <td>How is the working environment at SBI Life, Mumbai?</td>\n",
       "      <td>How stressful is work of SBI clerk?</td>\n",
       "      <td>0.143</td>\n",
       "    </tr>\n",
       "    <tr>\n",
       "      <th>185202</th>\n",
       "      <td>282774</td>\n",
       "      <td>282775</td>\n",
       "      <td>What kinds of questions should I expect on the IBM CAT/IPAT?</td>\n",
       "      <td>What kinds of questions should I expect on the IBM IPAT?</td>\n",
       "      <td>0.345</td>\n",
       "    </tr>\n",
       "    <tr>\n",
       "      <th>107096</th>\n",
       "      <td>176275</td>\n",
       "      <td>176276</td>\n",
       "      <td>On WhatsApp, it says on the message info that the message has been read with 2 blue ticks and no...</td>\n",
       "      <td>My friend is abroad and I have sent him messages. There is one grey tick next to the messages I ...</td>\n",
       "      <td>0.777</td>\n",
       "    </tr>\n",
       "    <tr>\n",
       "      <th>27940</th>\n",
       "      <td>51849</td>\n",
       "      <td>51850</td>\n",
       "      <td>How do the holy scriptures of Hinduism compare and contrast to those of Taoism?</td>\n",
       "      <td>How do the holy scriptures of Hinduism compare and contrast to those of Italo-Roman paganism?</td>\n",
       "      <td>0.078</td>\n",
       "    </tr>\n",
       "    <tr>\n",
       "      <th>244713</th>\n",
       "      <td>357399</td>\n",
       "      <td>357400</td>\n",
       "      <td>Does beard transplantation really work?</td>\n",
       "      <td>Is beard transplantation worthy?</td>\n",
       "      <td>0.404</td>\n",
       "    </tr>\n",
       "    <tr>\n",
       "      <th>111382</th>\n",
       "      <td>34756</td>\n",
       "      <td>37759</td>\n",
       "      <td>My questions haven't changed. Why are they now being marked as needing improvement?</td>\n",
       "      <td>What should I do if my question is being marked instantly as needing improvement but I don't kno...</td>\n",
       "      <td>0.206</td>\n",
       "    </tr>\n",
       "    <tr>\n",
       "      <th>403957</th>\n",
       "      <td>86467</td>\n",
       "      <td>39685</td>\n",
       "      <td>Which phone should I buy under 15k?</td>\n",
       "      <td>Which phone is best to buy under 15k?</td>\n",
       "      <td>NaN</td>\n",
       "    </tr>\n",
       "    <tr>\n",
       "      <th>101177</th>\n",
       "      <td>167668</td>\n",
       "      <td>167669</td>\n",
       "      <td>Should I choose MFC Delhi or make another attempt at CAT?</td>\n",
       "      <td>How many attempts did you make and what do you think was your accuracy (approx) in the CAT 14 to...</td>\n",
       "      <td>0.162</td>\n",
       "    </tr>\n",
       "    <tr>\n",
       "      <th>78010</th>\n",
       "      <td>133094</td>\n",
       "      <td>133095</td>\n",
       "      <td>Do we really need love?</td>\n",
       "      <td>Do people really need love?</td>\n",
       "      <td>0.372</td>\n",
       "    </tr>\n",
       "    <tr>\n",
       "      <th>57348</th>\n",
       "      <td>100786</td>\n",
       "      <td>100787</td>\n",
       "      <td>Frequently asked interview questions on strength of materials?</td>\n",
       "      <td>Where should we place the most important or striking words or ideas within a sentence?</td>\n",
       "      <td>0.202</td>\n",
       "    </tr>\n",
       "    <tr>\n",
       "      <th>386285</th>\n",
       "      <td>518479</td>\n",
       "      <td>518480</td>\n",
       "      <td>How is internship (after MBBS) in AIIMS, Delhi?</td>\n",
       "      <td>I am supposed to give USMLE. What should be better? Giving it after my 2nd MBBS or waiting till ...</td>\n",
       "      <td>NaN</td>\n",
       "    </tr>\n",
       "    <tr>\n",
       "      <th>95958</th>\n",
       "      <td>159922</td>\n",
       "      <td>159923</td>\n",
       "      <td>How tall is Barron Trump? He seems fairly tall for a 10 year old, especially standing next to hi...</td>\n",
       "      <td>How tall can I grow? I'm a 15 years old boy and turning 16 this year. I'm 175 cm tall.</td>\n",
       "      <td>0.709</td>\n",
       "    </tr>\n",
       "    <tr>\n",
       "      <th>96286</th>\n",
       "      <td>160407</td>\n",
       "      <td>160408</td>\n",
       "      <td>How do element atoms bond to form a compound mloecules?</td>\n",
       "      <td>How do atoms join together to form molecules?</td>\n",
       "      <td>0.755</td>\n",
       "    </tr>\n",
       "    <tr>\n",
       "      <th>137937</th>\n",
       "      <td>219754</td>\n",
       "      <td>219755</td>\n",
       "      <td>What is the legal definition of \"written notice\" in Florida? Does electronic (email) delivery qu...</td>\n",
       "      <td>What is the legal definition of \"written notice\" in Pennsylvania? Does electronic (email) delive...</td>\n",
       "      <td>0.000</td>\n",
       "    </tr>\n",
       "    <tr>\n",
       "      <th>71770</th>\n",
       "      <td>123444</td>\n",
       "      <td>123445</td>\n",
       "      <td>What is the systematic name of the compound, FeSO4?</td>\n",
       "      <td>What is the name of the compound P4O10?</td>\n",
       "      <td>0.397</td>\n",
       "    </tr>\n",
       "    <tr>\n",
       "      <th>332113</th>\n",
       "      <td>148036</td>\n",
       "      <td>228882</td>\n",
       "      <td>How do I delete snapchat messages so neither person sees them anymore?</td>\n",
       "      <td>How can I see if someone has saved your message on Snapchat?</td>\n",
       "      <td>NaN</td>\n",
       "    </tr>\n",
       "    <tr>\n",
       "      <th>263839</th>\n",
       "      <td>380472</td>\n",
       "      <td>380473</td>\n",
       "      <td>How are Swami Vivekananda's thoughts relevant for youth?</td>\n",
       "      <td>What are the great thoughts of Swami Vivekananda?</td>\n",
       "      <td>0.676</td>\n",
       "    </tr>\n",
       "    <tr>\n",
       "      <th>100578</th>\n",
       "      <td>60726</td>\n",
       "      <td>166806</td>\n",
       "      <td>Which bike should I buy with a budget of 1 lakh rupees?</td>\n",
       "      <td>Which is the best bike under rs 2 lakh in India?</td>\n",
       "      <td>0.160</td>\n",
       "    </tr>\n",
       "    <tr>\n",
       "      <th>114158</th>\n",
       "      <td>186381</td>\n",
       "      <td>89016</td>\n",
       "      <td>What is the best thing someone ever did for you?</td>\n",
       "      <td>What is the best thing someone has ever done for you?</td>\n",
       "      <td>0.239</td>\n",
       "    </tr>\n",
       "    <tr>\n",
       "      <th>336794</th>\n",
       "      <td>464187</td>\n",
       "      <td>464188</td>\n",
       "      <td>How can I become a hobbyist blogger?</td>\n",
       "      <td>What is the best way to get more views on your Blog?</td>\n",
       "      <td>NaN</td>\n",
       "    </tr>\n",
       "    <tr>\n",
       "      <th>317840</th>\n",
       "      <td>443110</td>\n",
       "      <td>23437</td>\n",
       "      <td>What is the best camera for plane photography?</td>\n",
       "      <td>What is the best camera for photography?</td>\n",
       "      <td>NaN</td>\n",
       "    </tr>\n",
       "    <tr>\n",
       "      <th>147286</th>\n",
       "      <td>232481</td>\n",
       "      <td>232482</td>\n",
       "      <td>How is the work life especially during the training period in KarMic Semiconductors as of 2016?</td>\n",
       "      <td>Why do I sleep during training at work?</td>\n",
       "      <td>0.381</td>\n",
       "    </tr>\n",
       "    <tr>\n",
       "      <th>41662</th>\n",
       "      <td>21324</td>\n",
       "      <td>72976</td>\n",
       "      <td>Why do so many people hate Hillary Clinton?</td>\n",
       "      <td>How is it that people hate Hillary Clinton?</td>\n",
       "      <td>0.674</td>\n",
       "    </tr>\n",
       "    <tr>\n",
       "      <th>140182</th>\n",
       "      <td>58954</td>\n",
       "      <td>35452</td>\n",
       "      <td>Who will win war between Russia and US?</td>\n",
       "      <td>If America went to war with Russia who would win and why?</td>\n",
       "      <td>0.407</td>\n",
       "    </tr>\n",
       "    <tr>\n",
       "      <th>208437</th>\n",
       "      <td>2892</td>\n",
       "      <td>1347</td>\n",
       "      <td>How do you view the Indian government's decision to fight \"black money\" by scrapping 500 rupee a...</td>\n",
       "      <td>What's your opinion about the decision on removal of 500 and 1000 rupees currency notes?</td>\n",
       "      <td>0.551</td>\n",
       "    </tr>\n",
       "    <tr>\n",
       "      <th>13951</th>\n",
       "      <td>26746</td>\n",
       "      <td>12957</td>\n",
       "      <td>Has Ancient Persia been scientifically tested?</td>\n",
       "      <td>Has Ancient Mesopotamia been scientifically tested?</td>\n",
       "      <td>0.403</td>\n",
       "    </tr>\n",
       "    <tr>\n",
       "      <th>325339</th>\n",
       "      <td>1258</td>\n",
       "      <td>16196</td>\n",
       "      <td>How do I develop my presence of mind?</td>\n",
       "      <td>Humor: What are some of the greatest examples of presence of mind?</td>\n",
       "      <td>NaN</td>\n",
       "    </tr>\n",
       "    <tr>\n",
       "      <th>343651</th>\n",
       "      <td>229303</td>\n",
       "      <td>471814</td>\n",
       "      <td>How do I learn to type with all 10 fingers?</td>\n",
       "      <td>Is it worth learning to type with the correct finger positions for a typing test in 10 days from...</td>\n",
       "      <td>NaN</td>\n",
       "    </tr>\n",
       "    <tr>\n",
       "      <th>374095</th>\n",
       "      <td>504959</td>\n",
       "      <td>504960</td>\n",
       "      <td>If this headline 'Secret CIA assessment says Russia was trying to help Trump win White House' is...</td>\n",
       "      <td>Why do you think Russia is trying to help Trump win the election?</td>\n",
       "      <td>NaN</td>\n",
       "    </tr>\n",
       "    <tr>\n",
       "      <th>3284</th>\n",
       "      <td>6510</td>\n",
       "      <td>6511</td>\n",
       "      <td>How is the Mass communication department at Ashoka University?</td>\n",
       "      <td>Which one would be better for me to study in a university; mass communication or pharmacy?</td>\n",
       "      <td>0.000</td>\n",
       "    </tr>\n",
       "    <tr>\n",
       "      <th>...</th>\n",
       "      <td>...</td>\n",
       "      <td>...</td>\n",
       "      <td>...</td>\n",
       "      <td>...</td>\n",
       "      <td>...</td>\n",
       "    </tr>\n",
       "    <tr>\n",
       "      <th>184780</th>\n",
       "      <td>68488</td>\n",
       "      <td>282228</td>\n",
       "      <td>How do I turn off screen overlay in Android?</td>\n",
       "      <td>How do I turn off screen overlay on Samsung S6?</td>\n",
       "      <td>0.033</td>\n",
       "    </tr>\n",
       "    <tr>\n",
       "      <th>214178</th>\n",
       "      <td>141254</td>\n",
       "      <td>319695</td>\n",
       "      <td>What does this mean ^^?</td>\n",
       "      <td>What's the meaning of \"精神赵家人\"?</td>\n",
       "      <td>0.266</td>\n",
       "    </tr>\n",
       "    <tr>\n",
       "      <th>235798</th>\n",
       "      <td>8173</td>\n",
       "      <td>67435</td>\n",
       "      <td>What is the most embarrassing thing that happened to you in front of your boss?</td>\n",
       "      <td>What is the most embarrassing moment that ever happened to you?</td>\n",
       "      <td>0.148</td>\n",
       "    </tr>\n",
       "    <tr>\n",
       "      <th>103355</th>\n",
       "      <td>170850</td>\n",
       "      <td>170851</td>\n",
       "      <td>What are the 3 types of NoSql databases?</td>\n",
       "      <td>What are the main differences between the four types of NoSql databases (KeyValue Store, Column-...</td>\n",
       "      <td>0.000</td>\n",
       "    </tr>\n",
       "    <tr>\n",
       "      <th>267457</th>\n",
       "      <td>33466</td>\n",
       "      <td>214867</td>\n",
       "      <td>What are some of the best resources online to learn German?</td>\n",
       "      <td>What are the best resources online to self-study German?</td>\n",
       "      <td>0.381</td>\n",
       "    </tr>\n",
       "    <tr>\n",
       "      <th>199042</th>\n",
       "      <td>300412</td>\n",
       "      <td>300413</td>\n",
       "      <td>Who are some of the most inspiring Data Scientists you have read or met?</td>\n",
       "      <td>What are vacuoles? What are some examples?</td>\n",
       "      <td>0.270</td>\n",
       "    </tr>\n",
       "    <tr>\n",
       "      <th>252711</th>\n",
       "      <td>367089</td>\n",
       "      <td>199437</td>\n",
       "      <td>What is your motivation in your daily life?</td>\n",
       "      <td>What motivates you the most in life?</td>\n",
       "      <td>0.868</td>\n",
       "    </tr>\n",
       "    <tr>\n",
       "      <th>327071</th>\n",
       "      <td>453458</td>\n",
       "      <td>453459</td>\n",
       "      <td>What is &lt;status: fail, please try again later&gt; on Instagram?</td>\n",
       "      <td>I am failing in each thing that I am trying. I want something that can make me start again. What...</td>\n",
       "      <td>NaN</td>\n",
       "    </tr>\n",
       "    <tr>\n",
       "      <th>194028</th>\n",
       "      <td>294111</td>\n",
       "      <td>13552</td>\n",
       "      <td>What will happen if Hillary gets 269 electoral college votes, Trump 264, and McMullin 5 (from Utah?</td>\n",
       "      <td>What happens if presidential candidates cannot get the required amount of electoral votes?</td>\n",
       "      <td>0.896</td>\n",
       "    </tr>\n",
       "    <tr>\n",
       "      <th>321881</th>\n",
       "      <td>435772</td>\n",
       "      <td>212890</td>\n",
       "      <td>As an adult, have you ever been bullied?</td>\n",
       "      <td>Have you ever been bullied on Quora?</td>\n",
       "      <td>NaN</td>\n",
       "    </tr>\n",
       "    <tr>\n",
       "      <th>262915</th>\n",
       "      <td>379363</td>\n",
       "      <td>379364</td>\n",
       "      <td>What time/day does Sony Metreon IMAX start selling reserve seating each week?</td>\n",
       "      <td>Which are the best seats for watching IMAX 3D?</td>\n",
       "      <td>0.063</td>\n",
       "    </tr>\n",
       "    <tr>\n",
       "      <th>64820</th>\n",
       "      <td>11392</td>\n",
       "      <td>22008</td>\n",
       "      <td>What do you think about the Modi's sudden decision to scrap 500 and 1000 rs denomination?</td>\n",
       "      <td>What do you think about Modi's new policy on the ban of Rs 500 and Rs 1000 notes?</td>\n",
       "      <td>0.336</td>\n",
       "    </tr>\n",
       "    <tr>\n",
       "      <th>329367</th>\n",
       "      <td>456010</td>\n",
       "      <td>456011</td>\n",
       "      <td>Is it true that the Sufi Saint Khwaja Moinuddin Chishti of Ajmer was once a spy of Muhammad Ghor...</td>\n",
       "      <td>Did Alexander The Great defeat India?</td>\n",
       "      <td>NaN</td>\n",
       "    </tr>\n",
       "    <tr>\n",
       "      <th>41090</th>\n",
       "      <td>74243</td>\n",
       "      <td>74244</td>\n",
       "      <td>What is the best post-workout supplement to take?</td>\n",
       "      <td>What is best post-workout meal?</td>\n",
       "      <td>0.352</td>\n",
       "    </tr>\n",
       "    <tr>\n",
       "      <th>278169</th>\n",
       "      <td>397394</td>\n",
       "      <td>397395</td>\n",
       "      <td>Why do earth rotate in only one direction?</td>\n",
       "      <td>You are the only person on earth for one day. What would you do?</td>\n",
       "      <td>0.559</td>\n",
       "    </tr>\n",
       "    <tr>\n",
       "      <th>191336</th>\n",
       "      <td>290642</td>\n",
       "      <td>290643</td>\n",
       "      <td>What should I do if a fly enters into my ear?</td>\n",
       "      <td>Is it ok for a baby to fly when she has an ear infection?</td>\n",
       "      <td>0.346</td>\n",
       "    </tr>\n",
       "    <tr>\n",
       "      <th>175204</th>\n",
       "      <td>269812</td>\n",
       "      <td>269813</td>\n",
       "      <td>How important is competitive programming to machine learning?</td>\n",
       "      <td>How useful is competitive programming for a machine learning engineer?</td>\n",
       "      <td>0.890</td>\n",
       "    </tr>\n",
       "    <tr>\n",
       "      <th>388470</th>\n",
       "      <td>354949</td>\n",
       "      <td>326187</td>\n",
       "      <td>How is : used in a sentence? What are some examples?</td>\n",
       "      <td>How do you use \"have had\" in a sentence? How to use \"had had\" in a sentence? What are some examp...</td>\n",
       "      <td>NaN</td>\n",
       "    </tr>\n",
       "    <tr>\n",
       "      <th>374873</th>\n",
       "      <td>295130</td>\n",
       "      <td>238</td>\n",
       "      <td>What are some mind blowing car technology that most people don't know?</td>\n",
       "      <td>What are some mind-blowing technologies that exist that most people don't know about?</td>\n",
       "      <td>NaN</td>\n",
       "    </tr>\n",
       "    <tr>\n",
       "      <th>87498</th>\n",
       "      <td>147362</td>\n",
       "      <td>147363</td>\n",
       "      <td>If you alternate flipping two unfair coins, what is the expected number of flips until you get t...</td>\n",
       "      <td>What is the expected number of coin flips until you get two heads in a row?</td>\n",
       "      <td>0.143</td>\n",
       "    </tr>\n",
       "    <tr>\n",
       "      <th>137338</th>\n",
       "      <td>218915</td>\n",
       "      <td>218916</td>\n",
       "      <td>Half Indian Priyanka Yoshikawa been selected as miss.Japan 2016. What does this mean for Indo-Ja...</td>\n",
       "      <td>What do you think of half Indian Priyanka Yoshikawa becoming Ms. Japan?</td>\n",
       "      <td>0.571</td>\n",
       "    </tr>\n",
       "    <tr>\n",
       "      <th>54886</th>\n",
       "      <td>8541</td>\n",
       "      <td>8476</td>\n",
       "      <td>Why are there still people who believe the world is flat?</td>\n",
       "      <td>Why do some people think that the Earth is flat?</td>\n",
       "      <td>0.278</td>\n",
       "    </tr>\n",
       "    <tr>\n",
       "      <th>207894</th>\n",
       "      <td>208066</td>\n",
       "      <td>311726</td>\n",
       "      <td>Do people with more testosterone have more body hair?</td>\n",
       "      <td>Why do people think body hair is gross?</td>\n",
       "      <td>0.350</td>\n",
       "    </tr>\n",
       "    <tr>\n",
       "      <th>110269</th>\n",
       "      <td>180835</td>\n",
       "      <td>180836</td>\n",
       "      <td>What are the main parts of brain and how do they function?</td>\n",
       "      <td>What are the main parts of a neuron? What is the function of each part?</td>\n",
       "      <td>0.506</td>\n",
       "    </tr>\n",
       "    <tr>\n",
       "      <th>119880</th>\n",
       "      <td>194539</td>\n",
       "      <td>194540</td>\n",
       "      <td>Which is the best site for learning programming?</td>\n",
       "      <td>What are the best sites to learn programming?</td>\n",
       "      <td>0.448</td>\n",
       "    </tr>\n",
       "    <tr>\n",
       "      <th>259180</th>\n",
       "      <td>374920</td>\n",
       "      <td>374921</td>\n",
       "      <td>What is the power of positive thinking?</td>\n",
       "      <td>How do you cultivate the power of positive thinking?</td>\n",
       "      <td>0.000</td>\n",
       "    </tr>\n",
       "    <tr>\n",
       "      <th>365840</th>\n",
       "      <td>495975</td>\n",
       "      <td>495976</td>\n",
       "      <td>How do I join honeywell UOP after M.Tech. in chemical engineering?</td>\n",
       "      <td>Can I do M.Tech in CS after doing B.Tech from chemical?</td>\n",
       "      <td>NaN</td>\n",
       "    </tr>\n",
       "    <tr>\n",
       "      <th>131933</th>\n",
       "      <td>9848</td>\n",
       "      <td>127922</td>\n",
       "      <td>Who is currently winning the presidential election?</td>\n",
       "      <td>All biases aside, at this point in time, who do you think will win the presidential election?</td>\n",
       "      <td>0.191</td>\n",
       "    </tr>\n",
       "    <tr>\n",
       "      <th>146868</th>\n",
       "      <td>231910</td>\n",
       "      <td>231911</td>\n",
       "      <td>What are some Telugu/Tamil/Hindi movies in which the leading actor becomes a mafia or don?</td>\n",
       "      <td>How do I fix internet connection not available problem when my mobile is connected to laptop's h...</td>\n",
       "      <td>0.220</td>\n",
       "    </tr>\n",
       "    <tr>\n",
       "      <th>121959</th>\n",
       "      <td>197509</td>\n",
       "      <td>197510</td>\n",
       "      <td>What is the rank cut off for Rohtak Medical college in state quota?</td>\n",
       "      <td>How and when do we register for DU state quota for NEET? What was its cut-off in 2016?</td>\n",
       "      <td>0.000</td>\n",
       "    </tr>\n",
       "  </tbody>\n",
       "</table>\n",
       "<p>283001 rows × 5 columns</p>\n",
       "</div>"
      ],
      "text/plain": [
       "          qid1    qid2                                                                                            question1  \\\n",
       "id                                                                                                                            \n",
       "20128    37998   37999                                                  How is the working environment at SBI Life, Mumbai?   \n",
       "185202  282774  282775                                         What kinds of questions should I expect on the IBM CAT/IPAT?   \n",
       "107096  176275  176276  On WhatsApp, it says on the message info that the message has been read with 2 blue ticks and no...   \n",
       "27940    51849   51850                      How do the holy scriptures of Hinduism compare and contrast to those of Taoism?   \n",
       "244713  357399  357400                                                              Does beard transplantation really work?   \n",
       "111382   34756   37759                  My questions haven't changed. Why are they now being marked as needing improvement?   \n",
       "403957   86467   39685                                                                  Which phone should I buy under 15k?   \n",
       "101177  167668  167669                                            Should I choose MFC Delhi or make another attempt at CAT?   \n",
       "78010   133094  133095                                                                              Do we really need love?   \n",
       "57348   100786  100787                                       Frequently asked interview questions on strength of materials?   \n",
       "386285  518479  518480                                                      How is internship (after MBBS) in AIIMS, Delhi?   \n",
       "95958   159922  159923  How tall is Barron Trump? He seems fairly tall for a 10 year old, especially standing next to hi...   \n",
       "96286   160407  160408                                              How do element atoms bond to form a compound mloecules?   \n",
       "137937  219754  219755  What is the legal definition of \"written notice\" in Florida? Does electronic (email) delivery qu...   \n",
       "71770   123444  123445                                                  What is the systematic name of the compound, FeSO4?   \n",
       "332113  148036  228882                               How do I delete snapchat messages so neither person sees them anymore?   \n",
       "263839  380472  380473                                             How are Swami Vivekananda's thoughts relevant for youth?   \n",
       "100578   60726  166806                                              Which bike should I buy with a budget of 1 lakh rupees?   \n",
       "114158  186381   89016                                                     What is the best thing someone ever did for you?   \n",
       "336794  464187  464188                                                                 How can I become a hobbyist blogger?   \n",
       "317840  443110   23437                                                       What is the best camera for plane photography?   \n",
       "147286  232481  232482      How is the work life especially during the training period in KarMic Semiconductors as of 2016?   \n",
       "41662    21324   72976                                                          Why do so many people hate Hillary Clinton?   \n",
       "140182   58954   35452                                                              Who will win war between Russia and US?   \n",
       "208437    2892    1347  How do you view the Indian government's decision to fight \"black money\" by scrapping 500 rupee a...   \n",
       "13951    26746   12957                                                       Has Ancient Persia been scientifically tested?   \n",
       "325339    1258   16196                                                                How do I develop my presence of mind?   \n",
       "343651  229303  471814                                                          How do I learn to type with all 10 fingers?   \n",
       "374095  504959  504960  If this headline 'Secret CIA assessment says Russia was trying to help Trump win White House' is...   \n",
       "3284      6510    6511                                       How is the Mass communication department at Ashoka University?   \n",
       "...        ...     ...                                                                                                  ...   \n",
       "184780   68488  282228                                                         How do I turn off screen overlay in Android?   \n",
       "214178  141254  319695                                                                              What does this mean ^^?   \n",
       "235798    8173   67435                      What is the most embarrassing thing that happened to you in front of your boss?   \n",
       "103355  170850  170851                                                             What are the 3 types of NoSql databases?   \n",
       "267457   33466  214867                                          What are some of the best resources online to learn German?   \n",
       "199042  300412  300413                             Who are some of the most inspiring Data Scientists you have read or met?   \n",
       "252711  367089  199437                                                          What is your motivation in your daily life?   \n",
       "327071  453458  453459                                         What is <status: fail, please try again later> on Instagram?   \n",
       "194028  294111   13552  What will happen if Hillary gets 269 electoral college votes, Trump 264, and McMullin 5 (from Utah?   \n",
       "321881  435772  212890                                                             As an adult, have you ever been bullied?   \n",
       "262915  379363  379364                        What time/day does Sony Metreon IMAX start selling reserve seating each week?   \n",
       "64820    11392   22008            What do you think about the Modi's sudden decision to scrap 500 and 1000 rs denomination?   \n",
       "329367  456010  456011  Is it true that the Sufi Saint Khwaja Moinuddin Chishti of Ajmer was once a spy of Muhammad Ghor...   \n",
       "41090    74243   74244                                                    What is the best post-workout supplement to take?   \n",
       "278169  397394  397395                                                           Why do earth rotate in only one direction?   \n",
       "191336  290642  290643                                                        What should I do if a fly enters into my ear?   \n",
       "175204  269812  269813                                        How important is competitive programming to machine learning?   \n",
       "388470  354949  326187                                                 How is : used in a sentence? What are some examples?   \n",
       "374873  295130     238                               What are some mind blowing car technology that most people don't know?   \n",
       "87498   147362  147363  If you alternate flipping two unfair coins, what is the expected number of flips until you get t...   \n",
       "137338  218915  218916  Half Indian Priyanka Yoshikawa been selected as miss.Japan 2016. What does this mean for Indo-Ja...   \n",
       "54886     8541    8476                                            Why are there still people who believe the world is flat?   \n",
       "207894  208066  311726                                                Do people with more testosterone have more body hair?   \n",
       "110269  180835  180836                                           What are the main parts of brain and how do they function?   \n",
       "119880  194539  194540                                                     Which is the best site for learning programming?   \n",
       "259180  374920  374921                                                              What is the power of positive thinking?   \n",
       "365840  495975  495976                                   How do I join honeywell UOP after M.Tech. in chemical engineering?   \n",
       "131933    9848  127922                                                  Who is currently winning the presidential election?   \n",
       "146868  231910  231911           What are some Telugu/Tamil/Hindi movies in which the leading actor becomes a mafia or don?   \n",
       "121959  197509  197510                                  What is the rank cut off for Rohtak Medical college in state quota?   \n",
       "\n",
       "                                                                                                  question2  tfidf_cos  \n",
       "id                                                                                                                      \n",
       "20128                                                                   How stressful is work of SBI clerk?      0.143  \n",
       "185202                                             What kinds of questions should I expect on the IBM IPAT?      0.345  \n",
       "107096  My friend is abroad and I have sent him messages. There is one grey tick next to the messages I ...      0.777  \n",
       "27940         How do the holy scriptures of Hinduism compare and contrast to those of Italo-Roman paganism?      0.078  \n",
       "244713                                                                     Is beard transplantation worthy?      0.404  \n",
       "111382  What should I do if my question is being marked instantly as needing improvement but I don't kno...      0.206  \n",
       "403957                                                                Which phone is best to buy under 15k?        NaN  \n",
       "101177  How many attempts did you make and what do you think was your accuracy (approx) in the CAT 14 to...      0.162  \n",
       "78010                                                                           Do people really need love?      0.372  \n",
       "57348                Where should we place the most important or striking words or ideas within a sentence?      0.202  \n",
       "386285  I am supposed to give USMLE. What should be better? Giving it after my 2nd MBBS or waiting till ...        NaN  \n",
       "95958                How tall can I grow? I'm a 15 years old boy and turning 16 this year. I'm 175 cm tall.      0.709  \n",
       "96286                                                         How do atoms join together to form molecules?      0.755  \n",
       "137937  What is the legal definition of \"written notice\" in Pennsylvania? Does electronic (email) delive...      0.000  \n",
       "71770                                                               What is the name of the compound P4O10?      0.397  \n",
       "332113                                         How can I see if someone has saved your message on Snapchat?        NaN  \n",
       "263839                                                    What are the great thoughts of Swami Vivekananda?      0.676  \n",
       "100578                                                     Which is the best bike under rs 2 lakh in India?      0.160  \n",
       "114158                                                What is the best thing someone has ever done for you?      0.239  \n",
       "336794                                                 What is the best way to get more views on your Blog?        NaN  \n",
       "317840                                                             What is the best camera for photography?        NaN  \n",
       "147286                                                              Why do I sleep during training at work?      0.381  \n",
       "41662                                                           How is it that people hate Hillary Clinton?      0.674  \n",
       "140182                                            If America went to war with Russia who would win and why?      0.407  \n",
       "208437             What's your opinion about the decision on removal of 500 and 1000 rupees currency notes?      0.551  \n",
       "13951                                                   Has Ancient Mesopotamia been scientifically tested?      0.403  \n",
       "325339                                   Humor: What are some of the greatest examples of presence of mind?        NaN  \n",
       "343651  Is it worth learning to type with the correct finger positions for a typing test in 10 days from...        NaN  \n",
       "374095                                    Why do you think Russia is trying to help Trump win the election?        NaN  \n",
       "3284             Which one would be better for me to study in a university; mass communication or pharmacy?      0.000  \n",
       "...                                                                                                     ...        ...  \n",
       "184780                                                      How do I turn off screen overlay on Samsung S6?      0.033  \n",
       "214178                                                                       What's the meaning of \"精神赵家人\"?      0.266  \n",
       "235798                                      What is the most embarrassing moment that ever happened to you?      0.148  \n",
       "103355  What are the main differences between the four types of NoSql databases (KeyValue Store, Column-...      0.000  \n",
       "267457                                             What are the best resources online to self-study German?      0.381  \n",
       "199042                                                           What are vacuoles? What are some examples?      0.270  \n",
       "252711                                                                 What motivates you the most in life?      0.868  \n",
       "327071  I am failing in each thing that I am trying. I want something that can make me start again. What...        NaN  \n",
       "194028           What happens if presidential candidates cannot get the required amount of electoral votes?      0.896  \n",
       "321881                                                                 Have you ever been bullied on Quora?        NaN  \n",
       "262915                                                       Which are the best seats for watching IMAX 3D?      0.063  \n",
       "64820                     What do you think about Modi's new policy on the ban of Rs 500 and Rs 1000 notes?      0.336  \n",
       "329367                                                                Did Alexander The Great defeat India?        NaN  \n",
       "41090                                                                       What is best post-workout meal?      0.352  \n",
       "278169                                     You are the only person on earth for one day. What would you do?      0.559  \n",
       "191336                                            Is it ok for a baby to fly when she has an ear infection?      0.346  \n",
       "175204                               How useful is competitive programming for a machine learning engineer?      0.890  \n",
       "388470  How do you use \"have had\" in a sentence? How to use \"had had\" in a sentence? What are some examp...        NaN  \n",
       "374873                What are some mind-blowing technologies that exist that most people don't know about?        NaN  \n",
       "87498                           What is the expected number of coin flips until you get two heads in a row?      0.143  \n",
       "137338                              What do you think of half Indian Priyanka Yoshikawa becoming Ms. Japan?      0.571  \n",
       "54886                                                      Why do some people think that the Earth is flat?      0.278  \n",
       "207894                                                              Why do people think body hair is gross?      0.350  \n",
       "110269                              What are the main parts of a neuron? What is the function of each part?      0.506  \n",
       "119880                                                        What are the best sites to learn programming?      0.448  \n",
       "259180                                                 How do you cultivate the power of positive thinking?      0.000  \n",
       "365840                                              Can I do M.Tech in CS after doing B.Tech from chemical?        NaN  \n",
       "131933        All biases aside, at this point in time, who do you think will win the presidential election?      0.191  \n",
       "146868  How do I fix internet connection not available problem when my mobile is connected to laptop's h...      0.220  \n",
       "121959               How and when do we register for DU state quota for NEET? What was its cut-off in 2016?      0.000  \n",
       "\n",
       "[283001 rows x 5 columns]"
      ]
     },
     "execution_count": 494,
     "metadata": {},
     "output_type": "execute_result"
    }
   ],
   "source": [
    "X_train"
   ]
  },
  {
   "cell_type": "code",
   "execution_count": 161,
   "metadata": {
    "collapsed": false
   },
   "outputs": [
    {
     "ename": "KeyError",
     "evalue": "'tfidf_cos'",
     "output_type": "error",
     "traceback": [
      "\u001b[0;31m---------------------------------------------------------------------------\u001b[0m",
      "\u001b[0;31mKeyError\u001b[0m                                  Traceback (most recent call last)",
      "\u001b[0;32m/Users/endika/anaconda/lib/python3.5/site-packages/pandas/indexes/base.py\u001b[0m in \u001b[0;36mget_loc\u001b[0;34m(self, key, method, tolerance)\u001b[0m\n\u001b[1;32m   1944\u001b[0m             \u001b[0;32mtry\u001b[0m\u001b[0;34m:\u001b[0m\u001b[0;34m\u001b[0m\u001b[0m\n\u001b[0;32m-> 1945\u001b[0;31m                 \u001b[0;32mreturn\u001b[0m \u001b[0mself\u001b[0m\u001b[0;34m.\u001b[0m\u001b[0m_engine\u001b[0m\u001b[0;34m.\u001b[0m\u001b[0mget_loc\u001b[0m\u001b[0;34m(\u001b[0m\u001b[0mkey\u001b[0m\u001b[0;34m)\u001b[0m\u001b[0;34m\u001b[0m\u001b[0m\n\u001b[0m\u001b[1;32m   1946\u001b[0m             \u001b[0;32mexcept\u001b[0m \u001b[0mKeyError\u001b[0m\u001b[0;34m:\u001b[0m\u001b[0;34m\u001b[0m\u001b[0m\n",
      "\u001b[0;32mpandas/index.pyx\u001b[0m in \u001b[0;36mpandas.index.IndexEngine.get_loc (pandas/index.c:4154)\u001b[0;34m()\u001b[0m\n",
      "\u001b[0;32mpandas/index.pyx\u001b[0m in \u001b[0;36mpandas.index.IndexEngine.get_loc (pandas/index.c:4018)\u001b[0;34m()\u001b[0m\n",
      "\u001b[0;32mpandas/hashtable.pyx\u001b[0m in \u001b[0;36mpandas.hashtable.PyObjectHashTable.get_item (pandas/hashtable.c:12368)\u001b[0;34m()\u001b[0m\n",
      "\u001b[0;32mpandas/hashtable.pyx\u001b[0m in \u001b[0;36mpandas.hashtable.PyObjectHashTable.get_item (pandas/hashtable.c:12322)\u001b[0;34m()\u001b[0m\n",
      "\u001b[0;31mKeyError\u001b[0m: 'tfidf_cos'",
      "\nDuring handling of the above exception, another exception occurred:\n",
      "\u001b[0;31mKeyError\u001b[0m                                  Traceback (most recent call last)",
      "\u001b[0;32m<ipython-input-161-2bbcf0c32a14>\u001b[0m in \u001b[0;36m<module>\u001b[0;34m()\u001b[0m\n\u001b[0;32m----> 1\u001b[0;31m \u001b[0mX_train\u001b[0m\u001b[0;34m[\u001b[0m\u001b[0;34m'tfidf_cos'\u001b[0m\u001b[0;34m]\u001b[0m\u001b[0;34m.\u001b[0m\u001b[0mfillna\u001b[0m\u001b[0;34m(\u001b[0m\u001b[0;36m0.0\u001b[0m\u001b[0;34m)\u001b[0m\u001b[0;34m\u001b[0m\u001b[0m\n\u001b[0m",
      "\u001b[0;32m/Users/endika/anaconda/lib/python3.5/site-packages/pandas/core/frame.py\u001b[0m in \u001b[0;36m__getitem__\u001b[0;34m(self, key)\u001b[0m\n\u001b[1;32m   1995\u001b[0m             \u001b[0;32mreturn\u001b[0m \u001b[0mself\u001b[0m\u001b[0;34m.\u001b[0m\u001b[0m_getitem_multilevel\u001b[0m\u001b[0;34m(\u001b[0m\u001b[0mkey\u001b[0m\u001b[0;34m)\u001b[0m\u001b[0;34m\u001b[0m\u001b[0m\n\u001b[1;32m   1996\u001b[0m         \u001b[0;32melse\u001b[0m\u001b[0;34m:\u001b[0m\u001b[0;34m\u001b[0m\u001b[0m\n\u001b[0;32m-> 1997\u001b[0;31m             \u001b[0;32mreturn\u001b[0m \u001b[0mself\u001b[0m\u001b[0;34m.\u001b[0m\u001b[0m_getitem_column\u001b[0m\u001b[0;34m(\u001b[0m\u001b[0mkey\u001b[0m\u001b[0;34m)\u001b[0m\u001b[0;34m\u001b[0m\u001b[0m\n\u001b[0m\u001b[1;32m   1998\u001b[0m \u001b[0;34m\u001b[0m\u001b[0m\n\u001b[1;32m   1999\u001b[0m     \u001b[0;32mdef\u001b[0m \u001b[0m_getitem_column\u001b[0m\u001b[0;34m(\u001b[0m\u001b[0mself\u001b[0m\u001b[0;34m,\u001b[0m \u001b[0mkey\u001b[0m\u001b[0;34m)\u001b[0m\u001b[0;34m:\u001b[0m\u001b[0;34m\u001b[0m\u001b[0m\n",
      "\u001b[0;32m/Users/endika/anaconda/lib/python3.5/site-packages/pandas/core/frame.py\u001b[0m in \u001b[0;36m_getitem_column\u001b[0;34m(self, key)\u001b[0m\n\u001b[1;32m   2002\u001b[0m         \u001b[0;31m# get column\u001b[0m\u001b[0;34m\u001b[0m\u001b[0;34m\u001b[0m\u001b[0m\n\u001b[1;32m   2003\u001b[0m         \u001b[0;32mif\u001b[0m \u001b[0mself\u001b[0m\u001b[0;34m.\u001b[0m\u001b[0mcolumns\u001b[0m\u001b[0;34m.\u001b[0m\u001b[0mis_unique\u001b[0m\u001b[0;34m:\u001b[0m\u001b[0;34m\u001b[0m\u001b[0m\n\u001b[0;32m-> 2004\u001b[0;31m             \u001b[0;32mreturn\u001b[0m \u001b[0mself\u001b[0m\u001b[0;34m.\u001b[0m\u001b[0m_get_item_cache\u001b[0m\u001b[0;34m(\u001b[0m\u001b[0mkey\u001b[0m\u001b[0;34m)\u001b[0m\u001b[0;34m\u001b[0m\u001b[0m\n\u001b[0m\u001b[1;32m   2005\u001b[0m \u001b[0;34m\u001b[0m\u001b[0m\n\u001b[1;32m   2006\u001b[0m         \u001b[0;31m# duplicate columns & possible reduce dimensionality\u001b[0m\u001b[0;34m\u001b[0m\u001b[0;34m\u001b[0m\u001b[0m\n",
      "\u001b[0;32m/Users/endika/anaconda/lib/python3.5/site-packages/pandas/core/generic.py\u001b[0m in \u001b[0;36m_get_item_cache\u001b[0;34m(self, item)\u001b[0m\n\u001b[1;32m   1348\u001b[0m         \u001b[0mres\u001b[0m \u001b[0;34m=\u001b[0m \u001b[0mcache\u001b[0m\u001b[0;34m.\u001b[0m\u001b[0mget\u001b[0m\u001b[0;34m(\u001b[0m\u001b[0mitem\u001b[0m\u001b[0;34m)\u001b[0m\u001b[0;34m\u001b[0m\u001b[0m\n\u001b[1;32m   1349\u001b[0m         \u001b[0;32mif\u001b[0m \u001b[0mres\u001b[0m \u001b[0;32mis\u001b[0m \u001b[0;32mNone\u001b[0m\u001b[0;34m:\u001b[0m\u001b[0;34m\u001b[0m\u001b[0m\n\u001b[0;32m-> 1350\u001b[0;31m             \u001b[0mvalues\u001b[0m \u001b[0;34m=\u001b[0m \u001b[0mself\u001b[0m\u001b[0;34m.\u001b[0m\u001b[0m_data\u001b[0m\u001b[0;34m.\u001b[0m\u001b[0mget\u001b[0m\u001b[0;34m(\u001b[0m\u001b[0mitem\u001b[0m\u001b[0;34m)\u001b[0m\u001b[0;34m\u001b[0m\u001b[0m\n\u001b[0m\u001b[1;32m   1351\u001b[0m             \u001b[0mres\u001b[0m \u001b[0;34m=\u001b[0m \u001b[0mself\u001b[0m\u001b[0;34m.\u001b[0m\u001b[0m_box_item_values\u001b[0m\u001b[0;34m(\u001b[0m\u001b[0mitem\u001b[0m\u001b[0;34m,\u001b[0m \u001b[0mvalues\u001b[0m\u001b[0;34m)\u001b[0m\u001b[0;34m\u001b[0m\u001b[0m\n\u001b[1;32m   1352\u001b[0m             \u001b[0mcache\u001b[0m\u001b[0;34m[\u001b[0m\u001b[0mitem\u001b[0m\u001b[0;34m]\u001b[0m \u001b[0;34m=\u001b[0m \u001b[0mres\u001b[0m\u001b[0;34m\u001b[0m\u001b[0m\n",
      "\u001b[0;32m/Users/endika/anaconda/lib/python3.5/site-packages/pandas/core/internals.py\u001b[0m in \u001b[0;36mget\u001b[0;34m(self, item, fastpath)\u001b[0m\n\u001b[1;32m   3288\u001b[0m \u001b[0;34m\u001b[0m\u001b[0m\n\u001b[1;32m   3289\u001b[0m             \u001b[0;32mif\u001b[0m \u001b[0;32mnot\u001b[0m \u001b[0misnull\u001b[0m\u001b[0;34m(\u001b[0m\u001b[0mitem\u001b[0m\u001b[0;34m)\u001b[0m\u001b[0;34m:\u001b[0m\u001b[0;34m\u001b[0m\u001b[0m\n\u001b[0;32m-> 3290\u001b[0;31m                 \u001b[0mloc\u001b[0m \u001b[0;34m=\u001b[0m \u001b[0mself\u001b[0m\u001b[0;34m.\u001b[0m\u001b[0mitems\u001b[0m\u001b[0;34m.\u001b[0m\u001b[0mget_loc\u001b[0m\u001b[0;34m(\u001b[0m\u001b[0mitem\u001b[0m\u001b[0;34m)\u001b[0m\u001b[0;34m\u001b[0m\u001b[0m\n\u001b[0m\u001b[1;32m   3291\u001b[0m             \u001b[0;32melse\u001b[0m\u001b[0;34m:\u001b[0m\u001b[0;34m\u001b[0m\u001b[0m\n\u001b[1;32m   3292\u001b[0m                 \u001b[0mindexer\u001b[0m \u001b[0;34m=\u001b[0m \u001b[0mnp\u001b[0m\u001b[0;34m.\u001b[0m\u001b[0marange\u001b[0m\u001b[0;34m(\u001b[0m\u001b[0mlen\u001b[0m\u001b[0;34m(\u001b[0m\u001b[0mself\u001b[0m\u001b[0;34m.\u001b[0m\u001b[0mitems\u001b[0m\u001b[0;34m)\u001b[0m\u001b[0;34m)\u001b[0m\u001b[0;34m[\u001b[0m\u001b[0misnull\u001b[0m\u001b[0;34m(\u001b[0m\u001b[0mself\u001b[0m\u001b[0;34m.\u001b[0m\u001b[0mitems\u001b[0m\u001b[0;34m)\u001b[0m\u001b[0;34m]\u001b[0m\u001b[0;34m\u001b[0m\u001b[0m\n",
      "\u001b[0;32m/Users/endika/anaconda/lib/python3.5/site-packages/pandas/indexes/base.py\u001b[0m in \u001b[0;36mget_loc\u001b[0;34m(self, key, method, tolerance)\u001b[0m\n\u001b[1;32m   1945\u001b[0m                 \u001b[0;32mreturn\u001b[0m \u001b[0mself\u001b[0m\u001b[0;34m.\u001b[0m\u001b[0m_engine\u001b[0m\u001b[0;34m.\u001b[0m\u001b[0mget_loc\u001b[0m\u001b[0;34m(\u001b[0m\u001b[0mkey\u001b[0m\u001b[0;34m)\u001b[0m\u001b[0;34m\u001b[0m\u001b[0m\n\u001b[1;32m   1946\u001b[0m             \u001b[0;32mexcept\u001b[0m \u001b[0mKeyError\u001b[0m\u001b[0;34m:\u001b[0m\u001b[0;34m\u001b[0m\u001b[0m\n\u001b[0;32m-> 1947\u001b[0;31m                 \u001b[0;32mreturn\u001b[0m \u001b[0mself\u001b[0m\u001b[0;34m.\u001b[0m\u001b[0m_engine\u001b[0m\u001b[0;34m.\u001b[0m\u001b[0mget_loc\u001b[0m\u001b[0;34m(\u001b[0m\u001b[0mself\u001b[0m\u001b[0;34m.\u001b[0m\u001b[0m_maybe_cast_indexer\u001b[0m\u001b[0;34m(\u001b[0m\u001b[0mkey\u001b[0m\u001b[0;34m)\u001b[0m\u001b[0;34m)\u001b[0m\u001b[0;34m\u001b[0m\u001b[0m\n\u001b[0m\u001b[1;32m   1948\u001b[0m \u001b[0;34m\u001b[0m\u001b[0m\n\u001b[1;32m   1949\u001b[0m         \u001b[0mindexer\u001b[0m \u001b[0;34m=\u001b[0m \u001b[0mself\u001b[0m\u001b[0;34m.\u001b[0m\u001b[0mget_indexer\u001b[0m\u001b[0;34m(\u001b[0m\u001b[0;34m[\u001b[0m\u001b[0mkey\u001b[0m\u001b[0;34m]\u001b[0m\u001b[0;34m,\u001b[0m \u001b[0mmethod\u001b[0m\u001b[0;34m=\u001b[0m\u001b[0mmethod\u001b[0m\u001b[0;34m,\u001b[0m \u001b[0mtolerance\u001b[0m\u001b[0;34m=\u001b[0m\u001b[0mtolerance\u001b[0m\u001b[0;34m)\u001b[0m\u001b[0;34m\u001b[0m\u001b[0m\n",
      "\u001b[0;32mpandas/index.pyx\u001b[0m in \u001b[0;36mpandas.index.IndexEngine.get_loc (pandas/index.c:4154)\u001b[0;34m()\u001b[0m\n",
      "\u001b[0;32mpandas/index.pyx\u001b[0m in \u001b[0;36mpandas.index.IndexEngine.get_loc (pandas/index.c:4018)\u001b[0;34m()\u001b[0m\n",
      "\u001b[0;32mpandas/hashtable.pyx\u001b[0m in \u001b[0;36mpandas.hashtable.PyObjectHashTable.get_item (pandas/hashtable.c:12368)\u001b[0;34m()\u001b[0m\n",
      "\u001b[0;32mpandas/hashtable.pyx\u001b[0m in \u001b[0;36mpandas.hashtable.PyObjectHashTable.get_item (pandas/hashtable.c:12322)\u001b[0;34m()\u001b[0m\n",
      "\u001b[0;31mKeyError\u001b[0m: 'tfidf_cos'"
     ]
    }
   ],
   "source": [
    "X_trainainain['tfidf_cos'].fillna(0.0)"
   ]
  },
  {
   "cell_type": "markdown",
   "metadata": {},
   "source": [
    "#### Feature: Shared synonyms"
   ]
  },
  {
   "cell_type": "code",
   "execution_count": null,
   "metadata": {
    "collapsed": true
   },
   "outputs": [],
   "source": []
  },
  {
   "cell_type": "markdown",
   "metadata": {},
   "source": [
    "#### Feature: Ratio of common nouns (using Jaccard distance)"
   ]
  },
  {
   "cell_type": "code",
   "execution_count": 157,
   "metadata": {
    "collapsed": true
   },
   "outputs": [],
   "source": [
    "import nltk\n",
    "def retrieve_word_pos_nltk(q,pos='N'):\n",
    "    wh=[]\n",
    "    tagged=nltk.pos_tag(nltk.word_tokenize(q))\n",
    "    return [item[0] for item in tagged if item[1][0] == 'N']\n"
   ]
  },
  {
   "cell_type": "code",
   "execution_count": 190,
   "metadata": {
    "collapsed": true
   },
   "outputs": [],
   "source": [
    "def jaccard_dis(l1,l2):\n",
    "    num=len(set(l1).intersection(l2))\n",
    "    den=len(set(l1).union(l2))\n",
    "    if den==0:\n",
    "        return 0\n",
    "    else:\n",
    "        return(num/den)"
   ]
  },
  {
   "cell_type": "code",
   "execution_count": 173,
   "metadata": {
    "collapsed": false
   },
   "outputs": [
    {
     "data": {
      "text/html": [
       "<div>\n",
       "<table border=\"1\" class=\"dataframe\">\n",
       "  <thead>\n",
       "    <tr style=\"text-align: right;\">\n",
       "      <th></th>\n",
       "      <th>qid1</th>\n",
       "      <th>qid2</th>\n",
       "      <th>question1</th>\n",
       "      <th>question2</th>\n",
       "      <th>dif_len</th>\n",
       "    </tr>\n",
       "    <tr>\n",
       "      <th>id</th>\n",
       "      <th></th>\n",
       "      <th></th>\n",
       "      <th></th>\n",
       "      <th></th>\n",
       "      <th></th>\n",
       "    </tr>\n",
       "  </thead>\n",
       "  <tbody>\n",
       "    <tr>\n",
       "      <th>20128</th>\n",
       "      <td>37998</td>\n",
       "      <td>37999</td>\n",
       "      <td>How is the working environment at SBI Life, Mumbai?</td>\n",
       "      <td>How stressful is work of SBI clerk?</td>\n",
       "      <td>2</td>\n",
       "    </tr>\n",
       "    <tr>\n",
       "      <th>185202</th>\n",
       "      <td>282774</td>\n",
       "      <td>282775</td>\n",
       "      <td>What kinds of questions should I expect on the IBM CAT/IPAT?</td>\n",
       "      <td>What kinds of questions should I expect on the IBM IPAT?</td>\n",
       "      <td>0</td>\n",
       "    </tr>\n",
       "    <tr>\n",
       "      <th>107096</th>\n",
       "      <td>176275</td>\n",
       "      <td>176276</td>\n",
       "      <td>On WhatsApp, it says on the message info that the message has been read with 2 blue ticks and no...</td>\n",
       "      <td>My friend is abroad and I have sent him messages. There is one grey tick next to the messages I ...</td>\n",
       "      <td>15</td>\n",
       "    </tr>\n",
       "    <tr>\n",
       "      <th>27940</th>\n",
       "      <td>51849</td>\n",
       "      <td>51850</td>\n",
       "      <td>How do the holy scriptures of Hinduism compare and contrast to those of Taoism?</td>\n",
       "      <td>How do the holy scriptures of Hinduism compare and contrast to those of Italo-Roman paganism?</td>\n",
       "      <td>1</td>\n",
       "    </tr>\n",
       "    <tr>\n",
       "      <th>244713</th>\n",
       "      <td>357399</td>\n",
       "      <td>357400</td>\n",
       "      <td>Does beard transplantation really work?</td>\n",
       "      <td>Is beard transplantation worthy?</td>\n",
       "      <td>1</td>\n",
       "    </tr>\n",
       "  </tbody>\n",
       "</table>\n",
       "</div>"
      ],
      "text/plain": [
       "          qid1    qid2  \\\n",
       "id                       \n",
       "20128    37998   37999   \n",
       "185202  282774  282775   \n",
       "107096  176275  176276   \n",
       "27940    51849   51850   \n",
       "244713  357399  357400   \n",
       "\n",
       "                                                                                                  question1  \\\n",
       "id                                                                                                            \n",
       "20128                                                   How is the working environment at SBI Life, Mumbai?   \n",
       "185202                                         What kinds of questions should I expect on the IBM CAT/IPAT?   \n",
       "107096  On WhatsApp, it says on the message info that the message has been read with 2 blue ticks and no...   \n",
       "27940                       How do the holy scriptures of Hinduism compare and contrast to those of Taoism?   \n",
       "244713                                                              Does beard transplantation really work?   \n",
       "\n",
       "                                                                                                  question2  \\\n",
       "id                                                                                                            \n",
       "20128                                                                   How stressful is work of SBI clerk?   \n",
       "185202                                             What kinds of questions should I expect on the IBM IPAT?   \n",
       "107096  My friend is abroad and I have sent him messages. There is one grey tick next to the messages I ...   \n",
       "27940         How do the holy scriptures of Hinduism compare and contrast to those of Italo-Roman paganism?   \n",
       "244713                                                                     Is beard transplantation worthy?   \n",
       "\n",
       "        dif_len  \n",
       "id               \n",
       "20128         2  \n",
       "185202        0  \n",
       "107096       15  \n",
       "27940         1  \n",
       "244713        1  "
      ]
     },
     "execution_count": 173,
     "metadata": {},
     "output_type": "execute_result"
    }
   ],
   "source": [
    "X_train.head()"
   ]
  },
  {
   "cell_type": "code",
   "execution_count": 183,
   "metadata": {
    "collapsed": false
   },
   "outputs": [],
   "source": [
    "X_train['nouns1']=X_train.loc[:,'question1'].apply(retrieve_word_pos_nltk)"
   ]
  },
  {
   "cell_type": "code",
   "execution_count": 187,
   "metadata": {
    "collapsed": false
   },
   "outputs": [],
   "source": [
    "X_train['nouns2']=X_train.loc[:,'question2'].apply(retrieve_word_pos_nltk)"
   ]
  },
  {
   "cell_type": "code",
   "execution_count": 188,
   "metadata": {
    "collapsed": false
   },
   "outputs": [],
   "source": [
    "q1_list=X_train['nouns1'].tolist()\n",
    "q2_list=X_train['nouns2'].tolist()"
   ]
  },
  {
   "cell_type": "code",
   "execution_count": 206,
   "metadata": {
    "collapsed": false
   },
   "outputs": [
    {
     "name": "stdout",
     "output_type": "stream",
     "text": [
      "['ice'] ['ice']\n"
     ]
    }
   ],
   "source": [
    "dis=[]\n",
    "for i in range (len(q1_list)):\n",
    "    if i==185202:\n",
    "        print(q1_list[i],q2_list[i])\n",
    "    dis.append(jaccard_dis(q1_list[i],q2_list[i]))"
   ]
  },
  {
   "cell_type": "code",
   "execution_count": 201,
   "metadata": {
    "collapsed": false
   },
   "outputs": [],
   "source": [
    "X_train.drop('ration_nouns',axis=1,inplace=True)"
   ]
  },
  {
   "cell_type": "code",
   "execution_count": 202,
   "metadata": {
    "collapsed": false
   },
   "outputs": [],
   "source": [
    "X_train['ratio_nouns']=pd.Series(dis)"
   ]
  },
  {
   "cell_type": "code",
   "execution_count": 203,
   "metadata": {
    "collapsed": false
   },
   "outputs": [
    {
     "data": {
      "text/plain": [
       "0.16666666666666666"
      ]
     },
     "execution_count": 203,
     "metadata": {},
     "output_type": "execute_result"
    }
   ],
   "source": [
    "jaccard_dis(X_train.loc[20128,'nouns1'],X_train.loc[20128,'nouns2'])"
   ]
  },
  {
   "cell_type": "code",
   "execution_count": 204,
   "metadata": {
    "collapsed": false
   },
   "outputs": [
    {
     "data": {
      "text/html": [
       "<div>\n",
       "<table border=\"1\" class=\"dataframe\">\n",
       "  <thead>\n",
       "    <tr style=\"text-align: right;\">\n",
       "      <th></th>\n",
       "      <th>qid1</th>\n",
       "      <th>qid2</th>\n",
       "      <th>question1</th>\n",
       "      <th>question2</th>\n",
       "      <th>dif_len</th>\n",
       "      <th>nouns1</th>\n",
       "      <th>nouns2</th>\n",
       "      <th>ratio_nouns</th>\n",
       "    </tr>\n",
       "    <tr>\n",
       "      <th>id</th>\n",
       "      <th></th>\n",
       "      <th></th>\n",
       "      <th></th>\n",
       "      <th></th>\n",
       "      <th></th>\n",
       "      <th></th>\n",
       "      <th></th>\n",
       "      <th></th>\n",
       "    </tr>\n",
       "  </thead>\n",
       "  <tbody>\n",
       "    <tr>\n",
       "      <th>20128</th>\n",
       "      <td>37998</td>\n",
       "      <td>37999</td>\n",
       "      <td>How is the working environment at SBI Life, Mumbai?</td>\n",
       "      <td>How stressful is work of SBI clerk?</td>\n",
       "      <td>2</td>\n",
       "      <td>[environment, SBI, Life, Mumbai]</td>\n",
       "      <td>[work, SBI, clerk]</td>\n",
       "      <td>0.125</td>\n",
       "    </tr>\n",
       "    <tr>\n",
       "      <th>185202</th>\n",
       "      <td>282774</td>\n",
       "      <td>282775</td>\n",
       "      <td>What kinds of questions should I expect on the IBM CAT/IPAT?</td>\n",
       "      <td>What kinds of questions should I expect on the IBM IPAT?</td>\n",
       "      <td>0</td>\n",
       "      <td>[questions, IBM, CAT/IPAT]</td>\n",
       "      <td>[questions, IBM, IPAT]</td>\n",
       "      <td>1.000</td>\n",
       "    </tr>\n",
       "    <tr>\n",
       "      <th>107096</th>\n",
       "      <td>176275</td>\n",
       "      <td>176276</td>\n",
       "      <td>On WhatsApp, it says on the message info that the message has been read with 2 blue ticks and no...</td>\n",
       "      <td>My friend is abroad and I have sent him messages. There is one grey tick next to the messages I ...</td>\n",
       "      <td>15</td>\n",
       "      <td>[WhatsApp, message, info, message, ticks, time, message, grey, checks, time, mean]</td>\n",
       "      <td>[friend, messages, grey, messages, read, ticks, time, read, messages]</td>\n",
       "      <td>0.500</td>\n",
       "    </tr>\n",
       "    <tr>\n",
       "      <th>27940</th>\n",
       "      <td>51849</td>\n",
       "      <td>51850</td>\n",
       "      <td>How do the holy scriptures of Hinduism compare and contrast to those of Taoism?</td>\n",
       "      <td>How do the holy scriptures of Hinduism compare and contrast to those of Italo-Roman paganism?</td>\n",
       "      <td>1</td>\n",
       "      <td>[holy, scriptures, Hinduism, compare, contrast, Taoism]</td>\n",
       "      <td>[holy, scriptures, Hinduism, compare, contrast, Italo-Roman, paganism]</td>\n",
       "      <td>0.000</td>\n",
       "    </tr>\n",
       "    <tr>\n",
       "      <th>244713</th>\n",
       "      <td>357399</td>\n",
       "      <td>357400</td>\n",
       "      <td>Does beard transplantation really work?</td>\n",
       "      <td>Is beard transplantation worthy?</td>\n",
       "      <td>1</td>\n",
       "      <td>[Does, transplantation]</td>\n",
       "      <td>[transplantation, worthy]</td>\n",
       "      <td>1.000</td>\n",
       "    </tr>\n",
       "  </tbody>\n",
       "</table>\n",
       "</div>"
      ],
      "text/plain": [
       "          qid1    qid2  \\\n",
       "id                       \n",
       "20128    37998   37999   \n",
       "185202  282774  282775   \n",
       "107096  176275  176276   \n",
       "27940    51849   51850   \n",
       "244713  357399  357400   \n",
       "\n",
       "                                                                                                  question1  \\\n",
       "id                                                                                                            \n",
       "20128                                                   How is the working environment at SBI Life, Mumbai?   \n",
       "185202                                         What kinds of questions should I expect on the IBM CAT/IPAT?   \n",
       "107096  On WhatsApp, it says on the message info that the message has been read with 2 blue ticks and no...   \n",
       "27940                       How do the holy scriptures of Hinduism compare and contrast to those of Taoism?   \n",
       "244713                                                              Does beard transplantation really work?   \n",
       "\n",
       "                                                                                                  question2  \\\n",
       "id                                                                                                            \n",
       "20128                                                                   How stressful is work of SBI clerk?   \n",
       "185202                                             What kinds of questions should I expect on the IBM IPAT?   \n",
       "107096  My friend is abroad and I have sent him messages. There is one grey tick next to the messages I ...   \n",
       "27940         How do the holy scriptures of Hinduism compare and contrast to those of Italo-Roman paganism?   \n",
       "244713                                                                     Is beard transplantation worthy?   \n",
       "\n",
       "        dif_len  \\\n",
       "id                \n",
       "20128         2   \n",
       "185202        0   \n",
       "107096       15   \n",
       "27940         1   \n",
       "244713        1   \n",
       "\n",
       "                                                                                    nouns1  \\\n",
       "id                                                                                           \n",
       "20128                                                     [environment, SBI, Life, Mumbai]   \n",
       "185202                                                          [questions, IBM, CAT/IPAT]   \n",
       "107096  [WhatsApp, message, info, message, ticks, time, message, grey, checks, time, mean]   \n",
       "27940                              [holy, scriptures, Hinduism, compare, contrast, Taoism]   \n",
       "244713                                                             [Does, transplantation]   \n",
       "\n",
       "                                                                        nouns2  \\\n",
       "id                                                                               \n",
       "20128                                                       [work, SBI, clerk]   \n",
       "185202                                                  [questions, IBM, IPAT]   \n",
       "107096   [friend, messages, grey, messages, read, ticks, time, read, messages]   \n",
       "27940   [holy, scriptures, Hinduism, compare, contrast, Italo-Roman, paganism]   \n",
       "244713                                               [transplantation, worthy]   \n",
       "\n",
       "        ratio_nouns  \n",
       "id                   \n",
       "20128         0.125  \n",
       "185202        1.000  \n",
       "107096        0.500  \n",
       "27940         0.000  \n",
       "244713        1.000  "
      ]
     },
     "execution_count": 204,
     "metadata": {},
     "output_type": "execute_result"
    }
   ],
   "source": [
    "X_train.head()"
   ]
  },
  {
   "cell_type": "markdown",
   "metadata": {},
   "source": [
    "## Add feature columns to train dataset"
   ]
  },
  {
   "cell_type": "markdown",
   "metadata": {},
   "source": [
    "### tf idf"
   ]
  },
  {
   "cell_type": "code",
   "execution_count": 132,
   "metadata": {
    "collapsed": false,
    "scrolled": true
   },
   "outputs": [
    {
     "data": {
      "text/plain": [
       "'What is the story of Kohinoor (Koh-i-Noor) Diamond?'"
      ]
     },
     "execution_count": 132,
     "metadata": {},
     "output_type": "execute_result"
    }
   ],
   "source": [
    "X_train.ix[:,'tfdid']="
   ]
  },
  {
   "cell_type": "markdown",
   "metadata": {},
   "source": [
    "# Applying models"
   ]
  },
  {
   "cell_type": "code",
   "execution_count": null,
   "metadata": {
    "collapsed": true
   },
   "outputs": [],
   "source": []
  },
  {
   "cell_type": "markdown",
   "metadata": {},
   "source": [
    "### Baseline algorithm"
   ]
  },
  {
   "cell_type": "code",
   "execution_count": 17,
   "metadata": {
    "collapsed": true
   },
   "outputs": [],
   "source": [
    "# We will take LogisticRegression as a simple algorithm to establish a baseline\n"
   ]
  },
  {
   "cell_type": "markdown",
   "metadata": {},
   "source": [
    "### Other algorithms"
   ]
  },
  {
   "cell_type": "code",
   "execution_count": 18,
   "metadata": {
    "collapsed": true
   },
   "outputs": [],
   "source": [
    "# Flow: \n",
    "#   train model with a set of hyperparameters\n",
    "#   Obtain score and iterate\n"
   ]
  },
  {
   "cell_type": "markdown",
   "metadata": {},
   "source": [
    "# Run model on test dataset"
   ]
  },
  {
   "cell_type": "code",
   "execution_count": null,
   "metadata": {
    "collapsed": true
   },
   "outputs": [],
   "source": []
  }
 ],
 "metadata": {
  "anaconda-cloud": {},
  "kernelspec": {
   "display_name": "Python [default]",
   "language": "python",
   "name": "python3"
  },
  "language_info": {
   "codemirror_mode": {
    "name": "ipython",
    "version": 3
   },
   "file_extension": ".py",
   "mimetype": "text/x-python",
   "name": "python",
   "nbconvert_exporter": "python",
   "pygments_lexer": "ipython3",
   "version": "3.5.2"
  }
 },
 "nbformat": 4,
 "nbformat_minor": 1
}
