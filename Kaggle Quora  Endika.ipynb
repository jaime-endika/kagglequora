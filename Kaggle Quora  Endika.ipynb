{
 "cells": [
  {
   "cell_type": "code",
   "execution_count": 1,
   "metadata": {
    "collapsed": true
   },
   "outputs": [],
   "source": [
    "import nltk"
   ]
  },
  {
   "cell_type": "code",
   "execution_count": 2,
   "metadata": {
    "collapsed": true
   },
   "outputs": [],
   "source": [
    "import pandas as pd"
   ]
  },
  {
   "cell_type": "code",
   "execution_count": 3,
   "metadata": {
    "collapsed": false
   },
   "outputs": [],
   "source": [
    "train=pd.read_csv(\"train.csv\",index_col=0,dtype={'question1':str,'question2':str})"
   ]
  },
  {
   "cell_type": "code",
   "execution_count": 4,
   "metadata": {
    "collapsed": false
   },
   "outputs": [
    {
     "name": "stdout",
     "output_type": "stream",
     "text": [
      "<class 'pandas.core.frame.DataFrame'>\n",
      "Int64Index: 404290 entries, 0 to 404289\n",
      "Data columns (total 5 columns):\n",
      "qid1            404290 non-null int64\n",
      "qid2            404290 non-null int64\n",
      "question1       404290 non-null object\n",
      "question2       404288 non-null object\n",
      "is_duplicate    404290 non-null int64\n",
      "dtypes: int64(3), object(2)\n",
      "memory usage: 18.5+ MB\n"
     ]
    }
   ],
   "source": [
    "train.info()"
   ]
  },
  {
   "cell_type": "code",
   "execution_count": 5,
   "metadata": {
    "collapsed": false
   },
   "outputs": [
    {
     "data": {
      "text/plain": [
       "(404290, 5)"
      ]
     },
     "execution_count": 5,
     "metadata": {},
     "output_type": "execute_result"
    }
   ],
   "source": [
    "train.shape"
   ]
  },
  {
   "cell_type": "code",
   "execution_count": 6,
   "metadata": {
    "collapsed": false
   },
   "outputs": [],
   "source": [
    "q1=train.loc[0,'question1']"
   ]
  },
  {
   "cell_type": "code",
   "execution_count": 7,
   "metadata": {
    "collapsed": true
   },
   "outputs": [],
   "source": [
    "q2=train.loc[0,'question2']"
   ]
  },
  {
   "cell_type": "code",
   "execution_count": 8,
   "metadata": {
    "collapsed": false
   },
   "outputs": [
    {
     "data": {
      "text/plain": [
       "('What is the step by step guide to invest in share market in india?',\n",
       " 'What is the step by step guide to invest in share market?')"
      ]
     },
     "execution_count": 8,
     "metadata": {},
     "output_type": "execute_result"
    }
   ],
   "source": [
    "q1,q2"
   ]
  },
  {
   "cell_type": "code",
   "execution_count": 44,
   "metadata": {
    "collapsed": true
   },
   "outputs": [],
   "source": [
    "pd.set_option('display.max_colwidth', 200)"
   ]
  },
  {
   "cell_type": "code",
   "execution_count": 45,
   "metadata": {
    "collapsed": false
   },
   "outputs": [
    {
     "data": {
      "text/html": [
       "<div>\n",
       "<table border=\"1\" class=\"dataframe\">\n",
       "  <thead>\n",
       "    <tr style=\"text-align: right;\">\n",
       "      <th></th>\n",
       "      <th>qid1</th>\n",
       "      <th>qid2</th>\n",
       "      <th>question1</th>\n",
       "      <th>question2</th>\n",
       "      <th>is_duplicate</th>\n",
       "      <th>len2</th>\n",
       "      <th>len1</th>\n",
       "      <th>dif_len</th>\n",
       "    </tr>\n",
       "    <tr>\n",
       "      <th>id</th>\n",
       "      <th></th>\n",
       "      <th></th>\n",
       "      <th></th>\n",
       "      <th></th>\n",
       "      <th></th>\n",
       "      <th></th>\n",
       "      <th></th>\n",
       "      <th></th>\n",
       "    </tr>\n",
       "  </thead>\n",
       "  <tbody>\n",
       "    <tr>\n",
       "      <th>0</th>\n",
       "      <td>1</td>\n",
       "      <td>2</td>\n",
       "      <td>What is the step by step guide to invest in share market in india?</td>\n",
       "      <td>What is the step by step guide to invest in share market?</td>\n",
       "      <td>0</td>\n",
       "      <td>12</td>\n",
       "      <td>14</td>\n",
       "      <td>2</td>\n",
       "    </tr>\n",
       "    <tr>\n",
       "      <th>1</th>\n",
       "      <td>3</td>\n",
       "      <td>4</td>\n",
       "      <td>What is the story of Kohinoor (Koh-i-Noor) Diamond?</td>\n",
       "      <td>What would happen if the Indian government stole the Kohinoor (Koh-i-Noor) diamond back?</td>\n",
       "      <td>0</td>\n",
       "      <td>13</td>\n",
       "      <td>8</td>\n",
       "      <td>5</td>\n",
       "    </tr>\n",
       "    <tr>\n",
       "      <th>2</th>\n",
       "      <td>5</td>\n",
       "      <td>6</td>\n",
       "      <td>How can I increase the speed of my internet connection while using a VPN?</td>\n",
       "      <td>How can Internet speed be increased by hacking through DNS?</td>\n",
       "      <td>0</td>\n",
       "      <td>10</td>\n",
       "      <td>14</td>\n",
       "      <td>4</td>\n",
       "    </tr>\n",
       "    <tr>\n",
       "      <th>3</th>\n",
       "      <td>7</td>\n",
       "      <td>8</td>\n",
       "      <td>Why am I mentally very lonely? How can I solve it?</td>\n",
       "      <td>Find the remainder when [math]23^{24}[/math] is divided by 24,23?</td>\n",
       "      <td>0</td>\n",
       "      <td>9</td>\n",
       "      <td>11</td>\n",
       "      <td>2</td>\n",
       "    </tr>\n",
       "    <tr>\n",
       "      <th>4</th>\n",
       "      <td>9</td>\n",
       "      <td>10</td>\n",
       "      <td>Which one dissolve in water quikly sugar, salt, methane and carbon di oxide?</td>\n",
       "      <td>Which fish would survive in salt water?</td>\n",
       "      <td>0</td>\n",
       "      <td>7</td>\n",
       "      <td>13</td>\n",
       "      <td>6</td>\n",
       "    </tr>\n",
       "    <tr>\n",
       "      <th>6</th>\n",
       "      <td>13</td>\n",
       "      <td>14</td>\n",
       "      <td>Should I buy tiago?</td>\n",
       "      <td>What keeps childern active and far from phone and video games?</td>\n",
       "      <td>0</td>\n",
       "      <td>11</td>\n",
       "      <td>4</td>\n",
       "      <td>7</td>\n",
       "    </tr>\n",
       "    <tr>\n",
       "      <th>8</th>\n",
       "      <td>17</td>\n",
       "      <td>18</td>\n",
       "      <td>When do you use シ instead of し?</td>\n",
       "      <td>When do you use \"&amp;\" instead of \"and\"?</td>\n",
       "      <td>0</td>\n",
       "      <td>8</td>\n",
       "      <td>8</td>\n",
       "      <td>0</td>\n",
       "    </tr>\n",
       "    <tr>\n",
       "      <th>9</th>\n",
       "      <td>19</td>\n",
       "      <td>20</td>\n",
       "      <td>Motorola (company): Can I hack my Charter Motorolla DCX3400?</td>\n",
       "      <td>How do I hack Motorola DCX3400 for free internet?</td>\n",
       "      <td>0</td>\n",
       "      <td>9</td>\n",
       "      <td>9</td>\n",
       "      <td>0</td>\n",
       "    </tr>\n",
       "    <tr>\n",
       "      <th>10</th>\n",
       "      <td>21</td>\n",
       "      <td>22</td>\n",
       "      <td>Method to find separation of slits using fresnel biprism?</td>\n",
       "      <td>What are some of the things technicians can tell about the durability and reliability of Laptops and its components?</td>\n",
       "      <td>0</td>\n",
       "      <td>19</td>\n",
       "      <td>9</td>\n",
       "      <td>10</td>\n",
       "    </tr>\n",
       "    <tr>\n",
       "      <th>14</th>\n",
       "      <td>29</td>\n",
       "      <td>30</td>\n",
       "      <td>What are the laws to change your status from a student visa to a green card in the US, how do they compare to the immigration laws in Canada?</td>\n",
       "      <td>What are the laws to change your status from a student visa to a green card in the US? How do they compare to the immigration laws in Japan?</td>\n",
       "      <td>0</td>\n",
       "      <td>29</td>\n",
       "      <td>29</td>\n",
       "      <td>0</td>\n",
       "    </tr>\n",
       "    <tr>\n",
       "      <th>17</th>\n",
       "      <td>35</td>\n",
       "      <td>36</td>\n",
       "      <td>Why do girls want to be friends with the guy they reject?</td>\n",
       "      <td>How do guys feel after rejecting a girl?</td>\n",
       "      <td>0</td>\n",
       "      <td>8</td>\n",
       "      <td>12</td>\n",
       "      <td>4</td>\n",
       "    </tr>\n",
       "    <tr>\n",
       "      <th>19</th>\n",
       "      <td>39</td>\n",
       "      <td>40</td>\n",
       "      <td>Which is the best digital marketing institution in banglore?</td>\n",
       "      <td>Which is the best digital marketing institute in Pune?</td>\n",
       "      <td>0</td>\n",
       "      <td>9</td>\n",
       "      <td>9</td>\n",
       "      <td>0</td>\n",
       "    </tr>\n",
       "    <tr>\n",
       "      <th>21</th>\n",
       "      <td>43</td>\n",
       "      <td>44</td>\n",
       "      <td>What's causing someone to be jealous?</td>\n",
       "      <td>What can I do to avoid being jealous of someone?</td>\n",
       "      <td>0</td>\n",
       "      <td>10</td>\n",
       "      <td>6</td>\n",
       "      <td>4</td>\n",
       "    </tr>\n",
       "    <tr>\n",
       "      <th>22</th>\n",
       "      <td>45</td>\n",
       "      <td>46</td>\n",
       "      <td>What are the questions should not ask on Quora?</td>\n",
       "      <td>Which question should I ask on Quora?</td>\n",
       "      <td>0</td>\n",
       "      <td>7</td>\n",
       "      <td>9</td>\n",
       "      <td>2</td>\n",
       "    </tr>\n",
       "    <tr>\n",
       "      <th>23</th>\n",
       "      <td>47</td>\n",
       "      <td>48</td>\n",
       "      <td>How much is 30 kV in HP?</td>\n",
       "      <td>Where can I find a conversion chart for CC to horsepower?</td>\n",
       "      <td>0</td>\n",
       "      <td>11</td>\n",
       "      <td>7</td>\n",
       "      <td>4</td>\n",
       "    </tr>\n",
       "    <tr>\n",
       "      <th>24</th>\n",
       "      <td>49</td>\n",
       "      <td>50</td>\n",
       "      <td>What does it mean that every time I look at the clock the numbers are the same?</td>\n",
       "      <td>How many times a day do a clock’s hands overlap?</td>\n",
       "      <td>0</td>\n",
       "      <td>10</td>\n",
       "      <td>17</td>\n",
       "      <td>7</td>\n",
       "    </tr>\n",
       "    <tr>\n",
       "      <th>25</th>\n",
       "      <td>51</td>\n",
       "      <td>52</td>\n",
       "      <td>What are some tips on making it through the job interview process at Medicines?</td>\n",
       "      <td>What are some tips on making it through the job interview process at Foundation Medicine?</td>\n",
       "      <td>0</td>\n",
       "      <td>15</td>\n",
       "      <td>14</td>\n",
       "      <td>1</td>\n",
       "    </tr>\n",
       "    <tr>\n",
       "      <th>26</th>\n",
       "      <td>53</td>\n",
       "      <td>54</td>\n",
       "      <td>What is web application?</td>\n",
       "      <td>What is the web application framework?</td>\n",
       "      <td>0</td>\n",
       "      <td>6</td>\n",
       "      <td>4</td>\n",
       "      <td>2</td>\n",
       "    </tr>\n",
       "    <tr>\n",
       "      <th>27</th>\n",
       "      <td>55</td>\n",
       "      <td>56</td>\n",
       "      <td>Does society place too much importance on sports?</td>\n",
       "      <td>How do sports contribute to the society?</td>\n",
       "      <td>0</td>\n",
       "      <td>7</td>\n",
       "      <td>8</td>\n",
       "      <td>1</td>\n",
       "    </tr>\n",
       "    <tr>\n",
       "      <th>28</th>\n",
       "      <td>57</td>\n",
       "      <td>58</td>\n",
       "      <td>What is best way to make money online?</td>\n",
       "      <td>What is best way to ask for money online?</td>\n",
       "      <td>0</td>\n",
       "      <td>9</td>\n",
       "      <td>8</td>\n",
       "      <td>1</td>\n",
       "    </tr>\n",
       "    <tr>\n",
       "      <th>30</th>\n",
       "      <td>61</td>\n",
       "      <td>62</td>\n",
       "      <td>What's one thing you would like to do better?</td>\n",
       "      <td>What's one thing you do despite knowing better?</td>\n",
       "      <td>0</td>\n",
       "      <td>8</td>\n",
       "      <td>9</td>\n",
       "      <td>1</td>\n",
       "    </tr>\n",
       "    <tr>\n",
       "      <th>33</th>\n",
       "      <td>67</td>\n",
       "      <td>68</td>\n",
       "      <td>Does the United States government still blacklist (employment, etc.) some United States citizens because their political views?</td>\n",
       "      <td>How is the average speed of gas molecules determined?</td>\n",
       "      <td>0</td>\n",
       "      <td>9</td>\n",
       "      <td>17</td>\n",
       "      <td>8</td>\n",
       "    </tr>\n",
       "    <tr>\n",
       "      <th>34</th>\n",
       "      <td>69</td>\n",
       "      <td>70</td>\n",
       "      <td>What is the best travel website in spain?</td>\n",
       "      <td>What is the best travel website?</td>\n",
       "      <td>0</td>\n",
       "      <td>6</td>\n",
       "      <td>8</td>\n",
       "      <td>2</td>\n",
       "    </tr>\n",
       "    <tr>\n",
       "      <th>35</th>\n",
       "      <td>71</td>\n",
       "      <td>72</td>\n",
       "      <td>Why do some people think Obama will try to take their guns away?</td>\n",
       "      <td>Has there been a gun control initiative to take away guns people already own?</td>\n",
       "      <td>0</td>\n",
       "      <td>14</td>\n",
       "      <td>13</td>\n",
       "      <td>1</td>\n",
       "    </tr>\n",
       "    <tr>\n",
       "      <th>36</th>\n",
       "      <td>73</td>\n",
       "      <td>74</td>\n",
       "      <td>I'm a 19-year-old. How can I improve my skills or what should I do to become an entrepreneur in the next few years?</td>\n",
       "      <td>I am a 19 year old guy. How can I become a billionaire in the next 10 years?</td>\n",
       "      <td>0</td>\n",
       "      <td>18</td>\n",
       "      <td>23</td>\n",
       "      <td>5</td>\n",
       "    </tr>\n",
       "    <tr>\n",
       "      <th>37</th>\n",
       "      <td>75</td>\n",
       "      <td>76</td>\n",
       "      <td>When a girlfriend asks her boyfriend \"Why did you choose me? What makes you want to be with me?\", what should one reply to her?</td>\n",
       "      <td>My girlfriend said that we should end this because she is confused about her feelings for me. I wished her well and disconnected. Should I call her and ask her if she wants to get back together?</td>\n",
       "      <td>0</td>\n",
       "      <td>37</td>\n",
       "      <td>25</td>\n",
       "      <td>12</td>\n",
       "    </tr>\n",
       "    <tr>\n",
       "      <th>39</th>\n",
       "      <td>79</td>\n",
       "      <td>80</td>\n",
       "      <td>What is the stall speed and AOA of an f-14 with wings fully swept back?</td>\n",
       "      <td>Why did aircraft stop using variable-sweep wings, like those on an F-14?</td>\n",
       "      <td>0</td>\n",
       "      <td>12</td>\n",
       "      <td>15</td>\n",
       "      <td>3</td>\n",
       "    </tr>\n",
       "    <tr>\n",
       "      <th>40</th>\n",
       "      <td>81</td>\n",
       "      <td>82</td>\n",
       "      <td>Why do Slavs squat?</td>\n",
       "      <td>Will squats make my legs thicker?</td>\n",
       "      <td>0</td>\n",
       "      <td>6</td>\n",
       "      <td>4</td>\n",
       "      <td>2</td>\n",
       "    </tr>\n",
       "    <tr>\n",
       "      <th>41</th>\n",
       "      <td>83</td>\n",
       "      <td>84</td>\n",
       "      <td>When can I expect my Cognizant confirmation mail?</td>\n",
       "      <td>When can I expect Cognizant confirmation mail?</td>\n",
       "      <td>0</td>\n",
       "      <td>7</td>\n",
       "      <td>8</td>\n",
       "      <td>1</td>\n",
       "    </tr>\n",
       "    <tr>\n",
       "      <th>42</th>\n",
       "      <td>85</td>\n",
       "      <td>86</td>\n",
       "      <td>Can I make 50,000 a month by day trading?</td>\n",
       "      <td>Can I make 30,000 a month by day trading?</td>\n",
       "      <td>0</td>\n",
       "      <td>9</td>\n",
       "      <td>9</td>\n",
       "      <td>0</td>\n",
       "    </tr>\n",
       "    <tr>\n",
       "      <th>...</th>\n",
       "      <td>...</td>\n",
       "      <td>...</td>\n",
       "      <td>...</td>\n",
       "      <td>...</td>\n",
       "      <td>...</td>\n",
       "      <td>...</td>\n",
       "      <td>...</td>\n",
       "      <td>...</td>\n",
       "    </tr>\n",
       "    <tr>\n",
       "      <th>404239</th>\n",
       "      <td>537892</td>\n",
       "      <td>299852</td>\n",
       "      <td>What do foreigner think of Chinese?</td>\n",
       "      <td>What do you think of Chinese people?</td>\n",
       "      <td>0</td>\n",
       "      <td>7</td>\n",
       "      <td>6</td>\n",
       "      <td>1</td>\n",
       "    </tr>\n",
       "    <tr>\n",
       "      <th>404245</th>\n",
       "      <td>393465</td>\n",
       "      <td>537893</td>\n",
       "      <td>How much will it cost to maintain an e-commerce website in a year?</td>\n",
       "      <td>What is the cost of developing an e-commerce website and cost of maintaining it in India?</td>\n",
       "      <td>0</td>\n",
       "      <td>16</td>\n",
       "      <td>13</td>\n",
       "      <td>3</td>\n",
       "    </tr>\n",
       "    <tr>\n",
       "      <th>404246</th>\n",
       "      <td>71366</td>\n",
       "      <td>420512</td>\n",
       "      <td>Why don’t conservatives think that life begins at birth?</td>\n",
       "      <td>Why don't conservatives remember that the founding fathers were called terrorists by the British?</td>\n",
       "      <td>0</td>\n",
       "      <td>14</td>\n",
       "      <td>9</td>\n",
       "      <td>5</td>\n",
       "    </tr>\n",
       "    <tr>\n",
       "      <th>404248</th>\n",
       "      <td>93419</td>\n",
       "      <td>394117</td>\n",
       "      <td>What are some ways to simplify the square root of 56?</td>\n",
       "      <td>What is the square root of 98?</td>\n",
       "      <td>0</td>\n",
       "      <td>7</td>\n",
       "      <td>11</td>\n",
       "      <td>4</td>\n",
       "    </tr>\n",
       "    <tr>\n",
       "      <th>404250</th>\n",
       "      <td>440314</td>\n",
       "      <td>537895</td>\n",
       "      <td>What does it mean when FaceTime says someone is \"not available\" for FaceTime?</td>\n",
       "      <td>Why can my mom see my FaceTime history?</td>\n",
       "      <td>0</td>\n",
       "      <td>8</td>\n",
       "      <td>13</td>\n",
       "      <td>5</td>\n",
       "    </tr>\n",
       "    <tr>\n",
       "      <th>404251</th>\n",
       "      <td>537896</td>\n",
       "      <td>537897</td>\n",
       "      <td>I have a laptop and a CPU (only CPU no monitor).i want to copy data from CPU to laptop.is it possible.if yes, how?</td>\n",
       "      <td>Can a ligament (e.g the round the ligament of uterus) transmit carcinoma?</td>\n",
       "      <td>0</td>\n",
       "      <td>12</td>\n",
       "      <td>23</td>\n",
       "      <td>11</td>\n",
       "    </tr>\n",
       "    <tr>\n",
       "      <th>404252</th>\n",
       "      <td>537898</td>\n",
       "      <td>148779</td>\n",
       "      <td>What is the best free web hosting for php?</td>\n",
       "      <td>What are the best free web hosting services?</td>\n",
       "      <td>0</td>\n",
       "      <td>8</td>\n",
       "      <td>9</td>\n",
       "      <td>1</td>\n",
       "    </tr>\n",
       "    <tr>\n",
       "      <th>404253</th>\n",
       "      <td>537899</td>\n",
       "      <td>196345</td>\n",
       "      <td>How do I make website like fmovies.to?</td>\n",
       "      <td>Which is the best way to make my website?</td>\n",
       "      <td>0</td>\n",
       "      <td>9</td>\n",
       "      <td>7</td>\n",
       "      <td>2</td>\n",
       "    </tr>\n",
       "    <tr>\n",
       "      <th>404254</th>\n",
       "      <td>537900</td>\n",
       "      <td>537901</td>\n",
       "      <td>Is there any internship available for a student of \"Ceramic Technology\" after the third semester? If yes then please do tell me how and where!</td>\n",
       "      <td>I am a 5th sem student pursuing computer engineering want to do a project in java so shuld i go for training? If yes then please let me know the where can i take training</td>\n",
       "      <td>0</td>\n",
       "      <td>35</td>\n",
       "      <td>25</td>\n",
       "      <td>10</td>\n",
       "    </tr>\n",
       "    <tr>\n",
       "      <th>404255</th>\n",
       "      <td>537902</td>\n",
       "      <td>537903</td>\n",
       "      <td>Does IBM Watson use ElasticSearch?</td>\n",
       "      <td>Does Google use Elasticsearch?</td>\n",
       "      <td>0</td>\n",
       "      <td>4</td>\n",
       "      <td>5</td>\n",
       "      <td>1</td>\n",
       "    </tr>\n",
       "    <tr>\n",
       "      <th>404256</th>\n",
       "      <td>89818</td>\n",
       "      <td>537904</td>\n",
       "      <td>What are some of the most common questions asked in interviews?</td>\n",
       "      <td>What are the most common questions asked in interviews and what should be the correct answer to them?</td>\n",
       "      <td>0</td>\n",
       "      <td>18</td>\n",
       "      <td>11</td>\n",
       "      <td>7</td>\n",
       "    </tr>\n",
       "    <tr>\n",
       "      <th>404260</th>\n",
       "      <td>182494</td>\n",
       "      <td>691</td>\n",
       "      <td>Which phone is best under 12000?</td>\n",
       "      <td>What is the best phone to buy below 15k?</td>\n",
       "      <td>0</td>\n",
       "      <td>9</td>\n",
       "      <td>6</td>\n",
       "      <td>3</td>\n",
       "    </tr>\n",
       "    <tr>\n",
       "      <th>404262</th>\n",
       "      <td>537905</td>\n",
       "      <td>466328</td>\n",
       "      <td>How do you troubleshoot a Toshiba laptop?</td>\n",
       "      <td>How do I reset a Toshiba laptop?</td>\n",
       "      <td>0</td>\n",
       "      <td>7</td>\n",
       "      <td>7</td>\n",
       "      <td>0</td>\n",
       "    </tr>\n",
       "    <tr>\n",
       "      <th>404263</th>\n",
       "      <td>375195</td>\n",
       "      <td>537906</td>\n",
       "      <td>How does the burning of fossil fuels contribute to global warming?</td>\n",
       "      <td>Why does CO2 contribute more to global warming than water vapour?</td>\n",
       "      <td>0</td>\n",
       "      <td>11</td>\n",
       "      <td>11</td>\n",
       "      <td>0</td>\n",
       "    </tr>\n",
       "    <tr>\n",
       "      <th>404264</th>\n",
       "      <td>537907</td>\n",
       "      <td>537908</td>\n",
       "      <td>Is it safe to store an external battery power bank (for USB devices) in a car?</td>\n",
       "      <td>How do I make a safe and cheap power bank?</td>\n",
       "      <td>0</td>\n",
       "      <td>10</td>\n",
       "      <td>16</td>\n",
       "      <td>6</td>\n",
       "    </tr>\n",
       "    <tr>\n",
       "      <th>404266</th>\n",
       "      <td>155813</td>\n",
       "      <td>146284</td>\n",
       "      <td>What is the green dot next to the phone icon on messenger?</td>\n",
       "      <td>My boyfriend says he deleted his Facebook Messenger app, but he is still available for video calling. Next to his chat name the mobile icon always says 1 min. What does that mean?</td>\n",
       "      <td>0</td>\n",
       "      <td>33</td>\n",
       "      <td>12</td>\n",
       "      <td>21</td>\n",
       "    </tr>\n",
       "    <tr>\n",
       "      <th>404268</th>\n",
       "      <td>537909</td>\n",
       "      <td>537910</td>\n",
       "      <td>Why don't we still do great music like in the 70's and 80's?</td>\n",
       "      <td>Should I raise my young child on 80's music?</td>\n",
       "      <td>0</td>\n",
       "      <td>9</td>\n",
       "      <td>13</td>\n",
       "      <td>4</td>\n",
       "    </tr>\n",
       "    <tr>\n",
       "      <th>404269</th>\n",
       "      <td>537911</td>\n",
       "      <td>349794</td>\n",
       "      <td>How do you diagnose antisocial personality disorder?</td>\n",
       "      <td>What Does It Feel Like to have antisocial personality disorder?</td>\n",
       "      <td>0</td>\n",
       "      <td>10</td>\n",
       "      <td>7</td>\n",
       "      <td>3</td>\n",
       "    </tr>\n",
       "    <tr>\n",
       "      <th>404270</th>\n",
       "      <td>537912</td>\n",
       "      <td>35364</td>\n",
       "      <td>What is the difference between who and how?</td>\n",
       "      <td>What is the difference between \"&amp;\" and \"and\"?</td>\n",
       "      <td>0</td>\n",
       "      <td>8</td>\n",
       "      <td>8</td>\n",
       "      <td>0</td>\n",
       "    </tr>\n",
       "    <tr>\n",
       "      <th>404271</th>\n",
       "      <td>537913</td>\n",
       "      <td>537914</td>\n",
       "      <td>Does Stalin have any grandchildren that are still alive and are they pro-Russia?</td>\n",
       "      <td>What was Joseph Stalin's 5 year plan? How did they affect Russia?</td>\n",
       "      <td>0</td>\n",
       "      <td>12</td>\n",
       "      <td>13</td>\n",
       "      <td>1</td>\n",
       "    </tr>\n",
       "    <tr>\n",
       "      <th>404275</th>\n",
       "      <td>97922</td>\n",
       "      <td>537917</td>\n",
       "      <td>In accounting, why do we debit expenses and credit revenues?</td>\n",
       "      <td>What is a utilities expense in accounting? How do you accrue for and record it?</td>\n",
       "      <td>0</td>\n",
       "      <td>15</td>\n",
       "      <td>10</td>\n",
       "      <td>5</td>\n",
       "    </tr>\n",
       "    <tr>\n",
       "      <th>404276</th>\n",
       "      <td>24305</td>\n",
       "      <td>308365</td>\n",
       "      <td>What is copilotsearch.com?</td>\n",
       "      <td>What is ContenVania.com?</td>\n",
       "      <td>0</td>\n",
       "      <td>3</td>\n",
       "      <td>3</td>\n",
       "      <td>0</td>\n",
       "    </tr>\n",
       "    <tr>\n",
       "      <th>404277</th>\n",
       "      <td>355668</td>\n",
       "      <td>537918</td>\n",
       "      <td>What does analytics do?</td>\n",
       "      <td>What are analytical people like?</td>\n",
       "      <td>0</td>\n",
       "      <td>5</td>\n",
       "      <td>4</td>\n",
       "      <td>1</td>\n",
       "    </tr>\n",
       "    <tr>\n",
       "      <th>404278</th>\n",
       "      <td>537919</td>\n",
       "      <td>169786</td>\n",
       "      <td>How did you prepare for AIIMS/NEET/AIPMT?</td>\n",
       "      <td>How did you prepare for the AIIMS UG entrance exams?</td>\n",
       "      <td>0</td>\n",
       "      <td>10</td>\n",
       "      <td>6</td>\n",
       "      <td>4</td>\n",
       "    </tr>\n",
       "    <tr>\n",
       "      <th>404279</th>\n",
       "      <td>537920</td>\n",
       "      <td>537921</td>\n",
       "      <td>What is the minimum time required to build a flyover of about 1km?</td>\n",
       "      <td>What is a cheaper and quicker way to build an underpass or a flyover and why?</td>\n",
       "      <td>0</td>\n",
       "      <td>16</td>\n",
       "      <td>13</td>\n",
       "      <td>3</td>\n",
       "    </tr>\n",
       "    <tr>\n",
       "      <th>404283</th>\n",
       "      <td>537924</td>\n",
       "      <td>537925</td>\n",
       "      <td>What do you think of the removal of the MagSafe connector from Apple's 2016 MacBook Pro?</td>\n",
       "      <td>What will the CPU upgrade to the 2016 Apple MacBook Pro mean?</td>\n",
       "      <td>0</td>\n",
       "      <td>12</td>\n",
       "      <td>16</td>\n",
       "      <td>4</td>\n",
       "    </tr>\n",
       "    <tr>\n",
       "      <th>404285</th>\n",
       "      <td>433578</td>\n",
       "      <td>379845</td>\n",
       "      <td>How many keywords are there in the Racket programming language of the latest version?</td>\n",
       "      <td>How many keywords are there in PERL Programming Language in the latest version?</td>\n",
       "      <td>0</td>\n",
       "      <td>13</td>\n",
       "      <td>14</td>\n",
       "      <td>1</td>\n",
       "    </tr>\n",
       "    <tr>\n",
       "      <th>404287</th>\n",
       "      <td>537928</td>\n",
       "      <td>537929</td>\n",
       "      <td>What is one coin?</td>\n",
       "      <td>What's this coin?</td>\n",
       "      <td>0</td>\n",
       "      <td>3</td>\n",
       "      <td>4</td>\n",
       "      <td>1</td>\n",
       "    </tr>\n",
       "    <tr>\n",
       "      <th>404288</th>\n",
       "      <td>537930</td>\n",
       "      <td>537931</td>\n",
       "      <td>What is the approx annual cost of living while studying in UIC Chicago, for an Indian student?</td>\n",
       "      <td>I am having little hairfall problem but I want to use hair styling product. Which one should I prefer out of gel, wax and clay?</td>\n",
       "      <td>0</td>\n",
       "      <td>25</td>\n",
       "      <td>17</td>\n",
       "      <td>8</td>\n",
       "    </tr>\n",
       "    <tr>\n",
       "      <th>404289</th>\n",
       "      <td>537932</td>\n",
       "      <td>537933</td>\n",
       "      <td>What is like to have sex with cousin?</td>\n",
       "      <td>What is it like to have sex with your cousin?</td>\n",
       "      <td>0</td>\n",
       "      <td>10</td>\n",
       "      <td>8</td>\n",
       "      <td>2</td>\n",
       "    </tr>\n",
       "  </tbody>\n",
       "</table>\n",
       "<p>255027 rows × 8 columns</p>\n",
       "</div>"
      ],
      "text/plain": [
       "          qid1    qid2  \\\n",
       "id                       \n",
       "0            1       2   \n",
       "1            3       4   \n",
       "2            5       6   \n",
       "3            7       8   \n",
       "4            9      10   \n",
       "6           13      14   \n",
       "8           17      18   \n",
       "9           19      20   \n",
       "10          21      22   \n",
       "14          29      30   \n",
       "17          35      36   \n",
       "19          39      40   \n",
       "21          43      44   \n",
       "22          45      46   \n",
       "23          47      48   \n",
       "24          49      50   \n",
       "25          51      52   \n",
       "26          53      54   \n",
       "27          55      56   \n",
       "28          57      58   \n",
       "30          61      62   \n",
       "33          67      68   \n",
       "34          69      70   \n",
       "35          71      72   \n",
       "36          73      74   \n",
       "37          75      76   \n",
       "39          79      80   \n",
       "40          81      82   \n",
       "41          83      84   \n",
       "42          85      86   \n",
       "...        ...     ...   \n",
       "404239  537892  299852   \n",
       "404245  393465  537893   \n",
       "404246   71366  420512   \n",
       "404248   93419  394117   \n",
       "404250  440314  537895   \n",
       "404251  537896  537897   \n",
       "404252  537898  148779   \n",
       "404253  537899  196345   \n",
       "404254  537900  537901   \n",
       "404255  537902  537903   \n",
       "404256   89818  537904   \n",
       "404260  182494     691   \n",
       "404262  537905  466328   \n",
       "404263  375195  537906   \n",
       "404264  537907  537908   \n",
       "404266  155813  146284   \n",
       "404268  537909  537910   \n",
       "404269  537911  349794   \n",
       "404270  537912   35364   \n",
       "404271  537913  537914   \n",
       "404275   97922  537917   \n",
       "404276   24305  308365   \n",
       "404277  355668  537918   \n",
       "404278  537919  169786   \n",
       "404279  537920  537921   \n",
       "404283  537924  537925   \n",
       "404285  433578  379845   \n",
       "404287  537928  537929   \n",
       "404288  537930  537931   \n",
       "404289  537932  537933   \n",
       "\n",
       "                                                                                                                                             question1  \\\n",
       "id                                                                                                                                                       \n",
       "0                                                                                   What is the step by step guide to invest in share market in india?   \n",
       "1                                                                                                  What is the story of Kohinoor (Koh-i-Noor) Diamond?   \n",
       "2                                                                            How can I increase the speed of my internet connection while using a VPN?   \n",
       "3                                                                                                   Why am I mentally very lonely? How can I solve it?   \n",
       "4                                                                         Which one dissolve in water quikly sugar, salt, methane and carbon di oxide?   \n",
       "6                                                                                                                                  Should I buy tiago?   \n",
       "8                                                                                                                      When do you use シ instead of し?   \n",
       "9                                                                                         Motorola (company): Can I hack my Charter Motorolla DCX3400?   \n",
       "10                                                                                           Method to find separation of slits using fresnel biprism?   \n",
       "14       What are the laws to change your status from a student visa to a green card in the US, how do they compare to the immigration laws in Canada?   \n",
       "17                                                                                           Why do girls want to be friends with the guy they reject?   \n",
       "19                                                                                        Which is the best digital marketing institution in banglore?   \n",
       "21                                                                                                               What's causing someone to be jealous?   \n",
       "22                                                                                                     What are the questions should not ask on Quora?   \n",
       "23                                                                                                                            How much is 30 kV in HP?   \n",
       "24                                                                     What does it mean that every time I look at the clock the numbers are the same?   \n",
       "25                                                                     What are some tips on making it through the job interview process at Medicines?   \n",
       "26                                                                                                                            What is web application?   \n",
       "27                                                                                                   Does society place too much importance on sports?   \n",
       "28                                                                                                              What is best way to make money online?   \n",
       "30                                                                                                       What's one thing you would like to do better?   \n",
       "33                     Does the United States government still blacklist (employment, etc.) some United States citizens because their political views?   \n",
       "34                                                                                                           What is the best travel website in spain?   \n",
       "35                                                                                    Why do some people think Obama will try to take their guns away?   \n",
       "36                                 I'm a 19-year-old. How can I improve my skills or what should I do to become an entrepreneur in the next few years?   \n",
       "37                     When a girlfriend asks her boyfriend \"Why did you choose me? What makes you want to be with me?\", what should one reply to her?   \n",
       "39                                                                             What is the stall speed and AOA of an f-14 with wings fully swept back?   \n",
       "40                                                                                                                                 Why do Slavs squat?   \n",
       "41                                                                                                   When can I expect my Cognizant confirmation mail?   \n",
       "42                                                                                                           Can I make 50,000 a month by day trading?   \n",
       "...                                                                                                                                                ...   \n",
       "404239                                                                                                             What do foreigner think of Chinese?   \n",
       "404245                                                                              How much will it cost to maintain an e-commerce website in a year?   \n",
       "404246                                                                                        Why don’t conservatives think that life begins at birth?   \n",
       "404248                                                                                           What are some ways to simplify the square root of 56?   \n",
       "404250                                                                   What does it mean when FaceTime says someone is \"not available\" for FaceTime?   \n",
       "404251                              I have a laptop and a CPU (only CPU no monitor).i want to copy data from CPU to laptop.is it possible.if yes, how?   \n",
       "404252                                                                                                      What is the best free web hosting for php?   \n",
       "404253                                                                                                          How do I make website like fmovies.to?   \n",
       "404254  Is there any internship available for a student of \"Ceramic Technology\" after the third semester? If yes then please do tell me how and where!   \n",
       "404255                                                                                                              Does IBM Watson use ElasticSearch?   \n",
       "404256                                                                                 What are some of the most common questions asked in interviews?   \n",
       "404260                                                                                                                Which phone is best under 12000?   \n",
       "404262                                                                                                       How do you troubleshoot a Toshiba laptop?   \n",
       "404263                                                                              How does the burning of fossil fuels contribute to global warming?   \n",
       "404264                                                                  Is it safe to store an external battery power bank (for USB devices) in a car?   \n",
       "404266                                                                                      What is the green dot next to the phone icon on messenger?   \n",
       "404268                                                                                    Why don't we still do great music like in the 70's and 80's?   \n",
       "404269                                                                                            How do you diagnose antisocial personality disorder?   \n",
       "404270                                                                                                     What is the difference between who and how?   \n",
       "404271                                                                Does Stalin have any grandchildren that are still alive and are they pro-Russia?   \n",
       "404275                                                                                    In accounting, why do we debit expenses and credit revenues?   \n",
       "404276                                                                                                                      What is copilotsearch.com?   \n",
       "404277                                                                                                                         What does analytics do?   \n",
       "404278                                                                                                       How did you prepare for AIIMS/NEET/AIPMT?   \n",
       "404279                                                                              What is the minimum time required to build a flyover of about 1km?   \n",
       "404283                                                        What do you think of the removal of the MagSafe connector from Apple's 2016 MacBook Pro?   \n",
       "404285                                                           How many keywords are there in the Racket programming language of the latest version?   \n",
       "404287                                                                                                                               What is one coin?   \n",
       "404288                                                  What is the approx annual cost of living while studying in UIC Chicago, for an Indian student?   \n",
       "404289                                                                                                           What is like to have sex with cousin?   \n",
       "\n",
       "                                                                                                                                                                                                 question2  \\\n",
       "id                                                                                                                                                                                                           \n",
       "0                                                                                                                                                What is the step by step guide to invest in share market?   \n",
       "1                                                                                                                 What would happen if the Indian government stole the Kohinoor (Koh-i-Noor) diamond back?   \n",
       "2                                                                                                                                              How can Internet speed be increased by hacking through DNS?   \n",
       "3                                                                                                                                        Find the remainder when [math]23^{24}[/math] is divided by 24,23?   \n",
       "4                                                                                                                                                                  Which fish would survive in salt water?   \n",
       "6                                                                                                                                           What keeps childern active and far from phone and video games?   \n",
       "8                                                                                                                                                                    When do you use \"&\" instead of \"and\"?   \n",
       "9                                                                                                                                                        How do I hack Motorola DCX3400 for free internet?   \n",
       "10                                                                                    What are some of the things technicians can tell about the durability and reliability of Laptops and its components?   \n",
       "14                                                            What are the laws to change your status from a student visa to a green card in the US? How do they compare to the immigration laws in Japan?   \n",
       "17                                                                                                                                                                How do guys feel after rejecting a girl?   \n",
       "19                                                                                                                                                  Which is the best digital marketing institute in Pune?   \n",
       "21                                                                                                                                                        What can I do to avoid being jealous of someone?   \n",
       "22                                                                                                                                                                   Which question should I ask on Quora?   \n",
       "23                                                                                                                                               Where can I find a conversion chart for CC to horsepower?   \n",
       "24                                                                                                                                                        How many times a day do a clock’s hands overlap?   \n",
       "25                                                                                                               What are some tips on making it through the job interview process at Foundation Medicine?   \n",
       "26                                                                                                                                                                  What is the web application framework?   \n",
       "27                                                                                                                                                                How do sports contribute to the society?   \n",
       "28                                                                                                                                                               What is best way to ask for money online?   \n",
       "30                                                                                                                                                         What's one thing you do despite knowing better?   \n",
       "33                                                                                                                                                   How is the average speed of gas molecules determined?   \n",
       "34                                                                                                                                                                        What is the best travel website?   \n",
       "35                                                                                                                           Has there been a gun control initiative to take away guns people already own?   \n",
       "36                                                                                                                            I am a 19 year old guy. How can I become a billionaire in the next 10 years?   \n",
       "37      My girlfriend said that we should end this because she is confused about her feelings for me. I wished her well and disconnected. Should I call her and ask her if she wants to get back together?   \n",
       "39                                                                                                                                Why did aircraft stop using variable-sweep wings, like those on an F-14?   \n",
       "40                                                                                                                                                                       Will squats make my legs thicker?   \n",
       "41                                                                                                                                                          When can I expect Cognizant confirmation mail?   \n",
       "42                                                                                                                                                               Can I make 30,000 a month by day trading?   \n",
       "...                                                                                                                                                                                                    ...   \n",
       "404239                                                                                                                                                                What do you think of Chinese people?   \n",
       "404245                                                                                                           What is the cost of developing an e-commerce website and cost of maintaining it in India?   \n",
       "404246                                                                                                   Why don't conservatives remember that the founding fathers were called terrorists by the British?   \n",
       "404248                                                                                                                                                                      What is the square root of 98?   \n",
       "404250                                                                                                                                                             Why can my mom see my FaceTime history?   \n",
       "404251                                                                                                                           Can a ligament (e.g the round the ligament of uterus) transmit carcinoma?   \n",
       "404252                                                                                                                                                        What are the best free web hosting services?   \n",
       "404253                                                                                                                                                           Which is the best way to make my website?   \n",
       "404254                          I am a 5th sem student pursuing computer engineering want to do a project in java so shuld i go for training? If yes then please let me know the where can i take training   \n",
       "404255                                                                                                                                                                      Does Google use Elasticsearch?   \n",
       "404256                                                                                               What are the most common questions asked in interviews and what should be the correct answer to them?   \n",
       "404260                                                                                                                                                            What is the best phone to buy below 15k?   \n",
       "404262                                                                                                                                                                    How do I reset a Toshiba laptop?   \n",
       "404263                                                                                                                                   Why does CO2 contribute more to global warming than water vapour?   \n",
       "404264                                                                                                                                                          How do I make a safe and cheap power bank?   \n",
       "404266                 My boyfriend says he deleted his Facebook Messenger app, but he is still available for video calling. Next to his chat name the mobile icon always says 1 min. What does that mean?   \n",
       "404268                                                                                                                                                        Should I raise my young child on 80's music?   \n",
       "404269                                                                                                                                     What Does It Feel Like to have antisocial personality disorder?   \n",
       "404270                                                                                                                                                       What is the difference between \"&\" and \"and\"?   \n",
       "404271                                                                                                                                   What was Joseph Stalin's 5 year plan? How did they affect Russia?   \n",
       "404275                                                                                                                     What is a utilities expense in accounting? How do you accrue for and record it?   \n",
       "404276                                                                                                                                                                            What is ContenVania.com?   \n",
       "404277                                                                                                                                                                    What are analytical people like?   \n",
       "404278                                                                                                                                                How did you prepare for the AIIMS UG entrance exams?   \n",
       "404279                                                                                                                       What is a cheaper and quicker way to build an underpass or a flyover and why?   \n",
       "404283                                                                                                                                       What will the CPU upgrade to the 2016 Apple MacBook Pro mean?   \n",
       "404285                                                                                                                     How many keywords are there in PERL Programming Language in the latest version?   \n",
       "404287                                                                                                                                                                                   What's this coin?   \n",
       "404288                                                                     I am having little hairfall problem but I want to use hair styling product. Which one should I prefer out of gel, wax and clay?   \n",
       "404289                                                                                                                                                       What is it like to have sex with your cousin?   \n",
       "\n",
       "        is_duplicate  len2  len1  dif_len  \n",
       "id                                         \n",
       "0                  0    12    14        2  \n",
       "1                  0    13     8        5  \n",
       "2                  0    10    14        4  \n",
       "3                  0     9    11        2  \n",
       "4                  0     7    13        6  \n",
       "6                  0    11     4        7  \n",
       "8                  0     8     8        0  \n",
       "9                  0     9     9        0  \n",
       "10                 0    19     9       10  \n",
       "14                 0    29    29        0  \n",
       "17                 0     8    12        4  \n",
       "19                 0     9     9        0  \n",
       "21                 0    10     6        4  \n",
       "22                 0     7     9        2  \n",
       "23                 0    11     7        4  \n",
       "24                 0    10    17        7  \n",
       "25                 0    15    14        1  \n",
       "26                 0     6     4        2  \n",
       "27                 0     7     8        1  \n",
       "28                 0     9     8        1  \n",
       "30                 0     8     9        1  \n",
       "33                 0     9    17        8  \n",
       "34                 0     6     8        2  \n",
       "35                 0    14    13        1  \n",
       "36                 0    18    23        5  \n",
       "37                 0    37    25       12  \n",
       "39                 0    12    15        3  \n",
       "40                 0     6     4        2  \n",
       "41                 0     7     8        1  \n",
       "42                 0     9     9        0  \n",
       "...              ...   ...   ...      ...  \n",
       "404239             0     7     6        1  \n",
       "404245             0    16    13        3  \n",
       "404246             0    14     9        5  \n",
       "404248             0     7    11        4  \n",
       "404250             0     8    13        5  \n",
       "404251             0    12    23       11  \n",
       "404252             0     8     9        1  \n",
       "404253             0     9     7        2  \n",
       "404254             0    35    25       10  \n",
       "404255             0     4     5        1  \n",
       "404256             0    18    11        7  \n",
       "404260             0     9     6        3  \n",
       "404262             0     7     7        0  \n",
       "404263             0    11    11        0  \n",
       "404264             0    10    16        6  \n",
       "404266             0    33    12       21  \n",
       "404268             0     9    13        4  \n",
       "404269             0    10     7        3  \n",
       "404270             0     8     8        0  \n",
       "404271             0    12    13        1  \n",
       "404275             0    15    10        5  \n",
       "404276             0     3     3        0  \n",
       "404277             0     5     4        1  \n",
       "404278             0    10     6        4  \n",
       "404279             0    16    13        3  \n",
       "404283             0    12    16        4  \n",
       "404285             0    13    14        1  \n",
       "404287             0     3     4        1  \n",
       "404288             0    25    17        8  \n",
       "404289             0    10     8        2  \n",
       "\n",
       "[255027 rows x 8 columns]"
      ]
     },
     "execution_count": 45,
     "metadata": {},
     "output_type": "execute_result"
    }
   ],
   "source": [
    "train.loc[train['is_duplicate']==0]"
   ]
  },
  {
   "cell_type": "code",
   "execution_count": 10,
   "metadata": {
    "collapsed": false
   },
   "outputs": [],
   "source": [
    "q_equal_1=train.ix[5,'question1']"
   ]
  },
  {
   "cell_type": "code",
   "execution_count": 11,
   "metadata": {
    "collapsed": true
   },
   "outputs": [],
   "source": [
    "q_equal_2=train.ix[5,'question2']"
   ]
  },
  {
   "cell_type": "code",
   "execution_count": 12,
   "metadata": {
    "collapsed": false
   },
   "outputs": [],
   "source": [
    "tok_eq1=nltk.word_tokenize(q_equal_1)"
   ]
  },
  {
   "cell_type": "code",
   "execution_count": 13,
   "metadata": {
    "collapsed": true
   },
   "outputs": [],
   "source": [
    "tok_eq2=nltk.word_tokenize(q_equal_2)"
   ]
  },
  {
   "cell_type": "code",
   "execution_count": 15,
   "metadata": {
    "collapsed": true
   },
   "outputs": [],
   "source": [
    "from nltk.corpus import stopwords"
   ]
  },
  {
   "cell_type": "code",
   "execution_count": 16,
   "metadata": {
    "collapsed": true
   },
   "outputs": [],
   "source": [
    "stopwords = stopwords.words('english')"
   ]
  },
  {
   "cell_type": "code",
   "execution_count": 17,
   "metadata": {
    "collapsed": false
   },
   "outputs": [],
   "source": [
    "tok_eq1=[w.lower() for w in tok_eq1 if w not in stopwords]"
   ]
  },
  {
   "cell_type": "code",
   "execution_count": 18,
   "metadata": {
    "collapsed": false
   },
   "outputs": [
    {
     "data": {
      "text/plain": [
       "['astrology',\n",
       " ':',\n",
       " 'i',\n",
       " 'capricorn',\n",
       " 'sun',\n",
       " 'cap',\n",
       " 'moon',\n",
       " 'cap',\n",
       " 'rising',\n",
       " '...',\n",
       " 'say',\n",
       " '?']"
      ]
     },
     "execution_count": 18,
     "metadata": {},
     "output_type": "execute_result"
    }
   ],
   "source": [
    "tok_eq1"
   ]
  },
  {
   "cell_type": "code",
   "execution_count": 19,
   "metadata": {
    "collapsed": false
   },
   "outputs": [],
   "source": [
    "tag_eq1=nltk.pos_tag(tok_eq1)"
   ]
  },
  {
   "cell_type": "code",
   "execution_count": 20,
   "metadata": {
    "collapsed": false
   },
   "outputs": [
    {
     "data": {
      "text/plain": [
       "[('astrology', 'NN'),\n",
       " (':', ':'),\n",
       " ('i', 'NN'),\n",
       " ('capricorn', 'VBP'),\n",
       " ('sun', 'NN'),\n",
       " ('cap', 'NN'),\n",
       " ('moon', 'NN'),\n",
       " ('cap', 'NN'),\n",
       " ('rising', 'VBG'),\n",
       " ('...', ':'),\n",
       " ('say', 'VB'),\n",
       " ('?', '.')]"
      ]
     },
     "execution_count": 20,
     "metadata": {},
     "output_type": "execute_result"
    }
   ],
   "source": [
    "tag_eq1"
   ]
  },
  {
   "cell_type": "code",
   "execution_count": 21,
   "metadata": {
    "collapsed": true
   },
   "outputs": [],
   "source": [
    "tok_eq2=[w.lower() for w in tok_eq2 if w not in stopwords]"
   ]
  },
  {
   "cell_type": "code",
   "execution_count": 22,
   "metadata": {
    "collapsed": true
   },
   "outputs": [],
   "source": [
    "tag_eq2=nltk.pos_tag(tok_eq2)"
   ]
  },
  {
   "cell_type": "code",
   "execution_count": 23,
   "metadata": {
    "collapsed": false
   },
   "outputs": [
    {
     "data": {
      "text/plain": [
       "[('i', 'NN'),\n",
       " (\"'m\", 'VBP'),\n",
       " ('triple', 'JJ'),\n",
       " ('capricorn', 'NN'),\n",
       " ('(', '('),\n",
       " ('sun', 'NN'),\n",
       " (',', ','),\n",
       " ('moon', 'NN'),\n",
       " ('ascendant', 'JJ'),\n",
       " ('capricorn', 'NN'),\n",
       " (')', ')'),\n",
       " ('what', 'WP'),\n",
       " ('say', 'VB'),\n",
       " ('?', '.')]"
      ]
     },
     "execution_count": 23,
     "metadata": {},
     "output_type": "execute_result"
    }
   ],
   "source": [
    "tag_eq2"
   ]
  },
  {
   "cell_type": "code",
   "execution_count": 24,
   "metadata": {
    "collapsed": false
   },
   "outputs": [
    {
     "data": {
      "text/plain": [
       "14"
      ]
     },
     "execution_count": 24,
     "metadata": {},
     "output_type": "execute_result"
    }
   ],
   "source": [
    "len(tag_eq2)"
   ]
  },
  {
   "cell_type": "code",
   "execution_count": 25,
   "metadata": {
    "collapsed": false
   },
   "outputs": [],
   "source": [
    "train.loc[:,'question2']=train.loc[:,'question2'].astype(str)"
   ]
  },
  {
   "cell_type": "code",
   "execution_count": 29,
   "metadata": {
    "collapsed": false
   },
   "outputs": [],
   "source": [
    "train.loc[:,'len1']=train.loc[:,'question1'].apply(lambda x: len(x.split()))\n",
    "train.loc[:,'len2']=train.loc[:,'question2'].apply(lambda x: len(x.split()))"
   ]
  },
  {
   "cell_type": "code",
   "execution_count": 30,
   "metadata": {
    "collapsed": false
   },
   "outputs": [],
   "source": [
    "train.loc[:,'dif_len']=abs(train.loc[:,'len1']-train.loc[:,'len2'])"
   ]
  },
  {
   "cell_type": "code",
   "execution_count": 38,
   "metadata": {
    "collapsed": false
   },
   "outputs": [
    {
     "data": {
      "text/plain": [
       "is_duplicate\n",
       "0    4.439436\n",
       "1    2.420982\n",
       "Name: dif_len, dtype: float64"
      ]
     },
     "execution_count": 38,
     "metadata": {},
     "output_type": "execute_result"
    }
   ],
   "source": [
    "pd.pivot_table(train,values='dif_len',columns=\"is_duplicate\",aggfunc='mean')"
   ]
  },
  {
   "cell_type": "code",
   "execution_count": 33,
   "metadata": {
    "collapsed": true
   },
   "outputs": [],
   "source": [
    "%matplotlib inline"
   ]
  },
  {
   "cell_type": "code",
   "execution_count": 39,
   "metadata": {
    "collapsed": true
   },
   "outputs": [],
   "source": [
    "q_equal_1=train.ix[7,'question1']\n",
    "q_equal_2=train.ix[7,'question2']"
   ]
  },
  {
   "cell_type": "code",
   "execution_count": 53,
   "metadata": {
    "collapsed": false
   },
   "outputs": [],
   "source": [
    "q7_1_tags=nltk.pos_tag(q_equal_1.split())\n",
    "q7_2_tags=nltk.pos_tag(q_equal_2.split())"
   ]
  },
  {
   "cell_type": "code",
   "execution_count": 54,
   "metadata": {
    "collapsed": true
   },
   "outputs": [],
   "source": [
    "q7_1_tags2=[t for (_,t) in q7_1_tags] \n",
    "q7_2_tags2=[t for (_,t) in q7_2_tags] "
   ]
  },
  {
   "cell_type": "code",
   "execution_count": 55,
   "metadata": {
    "collapsed": false
   },
   "outputs": [
    {
     "data": {
      "text/plain": [
       "(['WRB', 'MD', 'PRP', 'VB', 'DT', 'JJ', 'NN'],\n",
       " ['WP', 'MD', 'PRP', 'VB', 'TO', 'VB', 'DT', 'JJ', 'NN'])"
      ]
     },
     "execution_count": 55,
     "metadata": {},
     "output_type": "execute_result"
    }
   ],
   "source": [
    "q7_1_tags2,q7_2_tags2"
   ]
  },
  {
   "cell_type": "code",
   "execution_count": 64,
   "metadata": {
    "collapsed": false
   },
   "outputs": [
    {
     "name": "stdout",
     "output_type": "stream",
     "text": [
      "0.6666666666666666\n"
     ]
    }
   ],
   "source": [
    "c=0\n",
    "for p in q7_1_tags2:\n",
    "    if p in q7_2_tags2:\n",
    "       c=c+1\n",
    "sim=c/(max(len(q7_1_tags2),len(q7_2_tags2)))\n",
    "print (sim)\n",
    "    "
   ]
  },
  {
   "cell_type": "code",
   "execution_count": 68,
   "metadata": {
    "collapsed": false
   },
   "outputs": [
    {
     "data": {
      "text/plain": [
       "('How can I be a good geologist?', 'What should I do to be a great geologist?')"
      ]
     },
     "execution_count": 68,
     "metadata": {},
     "output_type": "execute_result"
    }
   ],
   "source": [
    "q_equal_1, q_equal_2"
   ]
  },
  {
   "cell_type": "markdown",
   "metadata": {
    "collapsed": true
   },
   "source": [
    "#### Difference in lenght in words"
   ]
  },
  {
   "cell_type": "code",
   "execution_count": 16,
   "metadata": {
    "collapsed": false
   },
   "outputs": [],
   "source": [
    "# Function that determines de different number of words\n",
    "def dif_len(l1,l2):\n",
    "    return(abs(len(l1.split())-len(l2.split())))"
   ]
  },
  {
   "cell_type": "code",
   "execution_count": null,
   "metadata": {
    "collapsed": true
   },
   "outputs": [],
   "source": []
  }
 ],
 "metadata": {
  "anaconda-cloud": {},
  "kernelspec": {
   "display_name": "Python [default]",
   "language": "python",
   "name": "python3"
  },
  "language_info": {
   "codemirror_mode": {
    "name": "ipython",
    "version": 3
   },
   "file_extension": ".py",
   "mimetype": "text/x-python",
   "name": "python",
   "nbconvert_exporter": "python",
   "pygments_lexer": "ipython3",
   "version": "3.5.2"
  }
 },
 "nbformat": 4,
 "nbformat_minor": 1
}
